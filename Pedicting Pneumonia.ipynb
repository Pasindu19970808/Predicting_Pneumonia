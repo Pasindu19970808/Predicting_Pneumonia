{
 "cells": [
  {
   "cell_type": "code",
   "execution_count": 1,
   "metadata": {},
   "outputs": [],
   "source": [
    "import os\n",
    "from pipeline_functionality import preprocess_data\n",
    "from pipeline_functionality import preprocess_training_validation\n",
    "from pipeline_functionality import feature_engineering\n",
    "from pipeline_functionality import NeuralNetwork\n",
    "from pipeline_functionality import TrainingValidatingNetwork\n",
    "from sklearn.preprocessing import StandardScaler\n",
    "from sklearn.model_selection import train_test_split\n",
    "from pathlib import Path\n",
    "import matplotlib.pyplot as plt\n",
    "import seaborn as sns\n",
    "from collections import Counter\n",
    "import pandas as pd\n",
    "from imblearn.over_sampling import SMOTE\n",
    "from scipy.stats import f_oneway\n",
    "import numpy as np\n",
    "from scipy.stats import chi2_contingency\n",
    "from scipy.stats import chi2\n",
    "import torch\n",
    "from torch import nn\n",
    "from torch.utils.data import DataLoader\n",
    "from sklearn.metrics import confusion_matrix\n",
    "from sklearn.metrics import roc_curve\n",
    "from sklearn.metrics import roc_auc_score\n",
    "from sklearn.model_selection import StratifiedKFold\n",
    "from itertools import product\n",
    "from torch.utils.data import DataLoader\n",
    "from torch.utils.data import TensorDataset"
   ]
  },
  {
   "cell_type": "code",
   "execution_count": 2,
   "metadata": {},
   "outputs": [],
   "source": [
    "preprocess = preprocess_data(filepath=str(Path(Path.cwd()/\"Data\"/\"train.csv\").resolve()))\n",
    "df = preprocess.read_df()"
   ]
  },
  {
   "cell_type": "code",
   "execution_count": 3,
   "metadata": {},
   "outputs": [
    {
     "data": {
      "text/html": [
       "<div>\n",
       "<style scoped>\n",
       "    .dataframe tbody tr th:only-of-type {\n",
       "        vertical-align: middle;\n",
       "    }\n",
       "\n",
       "    .dataframe tbody tr th {\n",
       "        vertical-align: top;\n",
       "    }\n",
       "\n",
       "    .dataframe thead th {\n",
       "        text-align: right;\n",
       "    }\n",
       "</style>\n",
       "<table border=\"1\" class=\"dataframe\">\n",
       "  <thead>\n",
       "    <tr style=\"text-align: right;\">\n",
       "      <th></th>\n",
       "      <th>Feature 0</th>\n",
       "      <th>Feature 1</th>\n",
       "      <th>Feature 2</th>\n",
       "      <th>Feature 3</th>\n",
       "      <th>Feature 4</th>\n",
       "      <th>Feature 5</th>\n",
       "      <th>Feature 6</th>\n",
       "      <th>Feature 7</th>\n",
       "      <th>Age</th>\n",
       "      <th>Sex</th>\n",
       "      <th>Feature 10</th>\n",
       "      <th>label</th>\n",
       "    </tr>\n",
       "  </thead>\n",
       "  <tbody>\n",
       "    <tr>\n",
       "      <th>0</th>\n",
       "      <td>3556.0</td>\n",
       "      <td>2489.0</td>\n",
       "      <td>265.19</td>\n",
       "      <td>77.53</td>\n",
       "      <td>176.55</td>\n",
       "      <td>0.00</td>\n",
       "      <td>4.20</td>\n",
       "      <td>307.91</td>\n",
       "      <td>52</td>\n",
       "      <td>0</td>\n",
       "      <td>7515.0</td>\n",
       "      <td>1</td>\n",
       "    </tr>\n",
       "    <tr>\n",
       "      <th>1</th>\n",
       "      <td>1906.0</td>\n",
       "      <td>134.0</td>\n",
       "      <td>1442.61</td>\n",
       "      <td>551.90</td>\n",
       "      <td>876.07</td>\n",
       "      <td>112.10</td>\n",
       "      <td>168.15</td>\n",
       "      <td>1735.48</td>\n",
       "      <td>20</td>\n",
       "      <td>1</td>\n",
       "      <td>1756.0</td>\n",
       "      <td>0</td>\n",
       "    </tr>\n",
       "    <tr>\n",
       "      <th>2</th>\n",
       "      <td>1586.0</td>\n",
       "      <td>71.0</td>\n",
       "      <td>1332.74</td>\n",
       "      <td>684.20</td>\n",
       "      <td>655.26</td>\n",
       "      <td>244.95</td>\n",
       "      <td>216.52</td>\n",
       "      <td>1820.04</td>\n",
       "      <td>28</td>\n",
       "      <td>1</td>\n",
       "      <td>1311.0</td>\n",
       "      <td>0</td>\n",
       "    </tr>\n",
       "    <tr>\n",
       "      <th>3</th>\n",
       "      <td>683.0</td>\n",
       "      <td>94.0</td>\n",
       "      <td>419.23</td>\n",
       "      <td>255.80</td>\n",
       "      <td>162.17</td>\n",
       "      <td>72.05</td>\n",
       "      <td>44.68</td>\n",
       "      <td>538.22</td>\n",
       "      <td>55</td>\n",
       "      <td>1</td>\n",
       "      <td>1443.0</td>\n",
       "      <td>0</td>\n",
       "    </tr>\n",
       "    <tr>\n",
       "      <th>4</th>\n",
       "      <td>1032.0</td>\n",
       "      <td>71.0</td>\n",
       "      <td>1102.72</td>\n",
       "      <td>480.27</td>\n",
       "      <td>625.30</td>\n",
       "      <td>188.78</td>\n",
       "      <td>130.77</td>\n",
       "      <td>1427.97</td>\n",
       "      <td>28</td>\n",
       "      <td>1</td>\n",
       "      <td>1542.0</td>\n",
       "      <td>0</td>\n",
       "    </tr>\n",
       "    <tr>\n",
       "      <th>...</th>\n",
       "      <td>...</td>\n",
       "      <td>...</td>\n",
       "      <td>...</td>\n",
       "      <td>...</td>\n",
       "      <td>...</td>\n",
       "      <td>...</td>\n",
       "      <td>...</td>\n",
       "      <td>...</td>\n",
       "      <td>...</td>\n",
       "      <td>...</td>\n",
       "      <td>...</td>\n",
       "      <td>...</td>\n",
       "    </tr>\n",
       "    <tr>\n",
       "      <th>82</th>\n",
       "      <td>626.0</td>\n",
       "      <td>68.0</td>\n",
       "      <td>1771.57</td>\n",
       "      <td>666.99</td>\n",
       "      <td>1117.48</td>\n",
       "      <td>360.21</td>\n",
       "      <td>118.84</td>\n",
       "      <td>2306.82</td>\n",
       "      <td>42</td>\n",
       "      <td>1</td>\n",
       "      <td>1521.0</td>\n",
       "      <td>0</td>\n",
       "    </tr>\n",
       "    <tr>\n",
       "      <th>83</th>\n",
       "      <td>1237.0</td>\n",
       "      <td>71.0</td>\n",
       "      <td>1348.53</td>\n",
       "      <td>428.09</td>\n",
       "      <td>924.69</td>\n",
       "      <td>120.02</td>\n",
       "      <td>48.67</td>\n",
       "      <td>1524.78</td>\n",
       "      <td>56</td>\n",
       "      <td>0</td>\n",
       "      <td>1345.0</td>\n",
       "      <td>0</td>\n",
       "    </tr>\n",
       "    <tr>\n",
       "      <th>84</th>\n",
       "      <td>634.0</td>\n",
       "      <td>1002.0</td>\n",
       "      <td>1300.00</td>\n",
       "      <td>558.00</td>\n",
       "      <td>724.00</td>\n",
       "      <td>67.00</td>\n",
       "      <td>105.00</td>\n",
       "      <td>1484.26</td>\n",
       "      <td>34</td>\n",
       "      <td>0</td>\n",
       "      <td>2926.0</td>\n",
       "      <td>1</td>\n",
       "    </tr>\n",
       "    <tr>\n",
       "      <th>85</th>\n",
       "      <td>112.0</td>\n",
       "      <td>884.0</td>\n",
       "      <td>942.83</td>\n",
       "      <td>378.49</td>\n",
       "      <td>567.06</td>\n",
       "      <td>116.77</td>\n",
       "      <td>31.81</td>\n",
       "      <td>1104.59</td>\n",
       "      <td>33</td>\n",
       "      <td>1</td>\n",
       "      <td>2352.0</td>\n",
       "      <td>1</td>\n",
       "    </tr>\n",
       "    <tr>\n",
       "      <th>86</th>\n",
       "      <td>195.0</td>\n",
       "      <td>213.0</td>\n",
       "      <td>724.00</td>\n",
       "      <td>364.00</td>\n",
       "      <td>361.00</td>\n",
       "      <td>18.00</td>\n",
       "      <td>155.00</td>\n",
       "      <td>897.00</td>\n",
       "      <td>19</td>\n",
       "      <td>1</td>\n",
       "      <td>2445.0</td>\n",
       "      <td>1</td>\n",
       "    </tr>\n",
       "  </tbody>\n",
       "</table>\n",
       "<p>87 rows × 12 columns</p>\n",
       "</div>"
      ],
      "text/plain": [
       "    Feature 0  Feature 1  Feature 2  Feature 3  Feature 4  Feature 5  \\\n",
       "0      3556.0     2489.0     265.19      77.53     176.55       0.00   \n",
       "1      1906.0      134.0    1442.61     551.90     876.07     112.10   \n",
       "2      1586.0       71.0    1332.74     684.20     655.26     244.95   \n",
       "3       683.0       94.0     419.23     255.80     162.17      72.05   \n",
       "4      1032.0       71.0    1102.72     480.27     625.30     188.78   \n",
       "..        ...        ...        ...        ...        ...        ...   \n",
       "82      626.0       68.0    1771.57     666.99    1117.48     360.21   \n",
       "83     1237.0       71.0    1348.53     428.09     924.69     120.02   \n",
       "84      634.0     1002.0    1300.00     558.00     724.00      67.00   \n",
       "85      112.0      884.0     942.83     378.49     567.06     116.77   \n",
       "86      195.0      213.0     724.00     364.00     361.00      18.00   \n",
       "\n",
       "    Feature 6  Feature 7  Age  Sex  Feature 10  label  \n",
       "0        4.20     307.91   52    0      7515.0      1  \n",
       "1      168.15    1735.48   20    1      1756.0      0  \n",
       "2      216.52    1820.04   28    1      1311.0      0  \n",
       "3       44.68     538.22   55    1      1443.0      0  \n",
       "4      130.77    1427.97   28    1      1542.0      0  \n",
       "..        ...        ...  ...  ...         ...    ...  \n",
       "82     118.84    2306.82   42    1      1521.0      0  \n",
       "83      48.67    1524.78   56    0      1345.0      0  \n",
       "84     105.00    1484.26   34    0      2926.0      1  \n",
       "85      31.81    1104.59   33    1      2352.0      1  \n",
       "86     155.00     897.00   19    1      2445.0      1  \n",
       "\n",
       "[87 rows x 12 columns]"
      ]
     },
     "execution_count": 3,
     "metadata": {},
     "output_type": "execute_result"
    }
   ],
   "source": [
    "df"
   ]
  },
  {
   "cell_type": "markdown",
   "metadata": {},
   "source": [
    "Checking for missing values"
   ]
  },
  {
   "cell_type": "code",
   "execution_count": 4,
   "metadata": {},
   "outputs": [
    {
     "data": {
      "text/plain": [
       "Feature 0     1\n",
       "Feature 1     1\n",
       "Feature 2     0\n",
       "Feature 3     0\n",
       "Feature 4     0\n",
       "Feature 5     0\n",
       "Feature 6     0\n",
       "Feature 7     0\n",
       "Age           0\n",
       "Sex           0\n",
       "Feature 10    1\n",
       "label         0\n",
       "dtype: int64"
      ]
     },
     "execution_count": 4,
     "metadata": {},
     "output_type": "execute_result"
    }
   ],
   "source": [
    "df.isna().sum()"
   ]
  },
  {
   "cell_type": "code",
   "execution_count": 5,
   "metadata": {},
   "outputs": [
    {
     "data": {
      "text/html": [
       "<div>\n",
       "<style scoped>\n",
       "    .dataframe tbody tr th:only-of-type {\n",
       "        vertical-align: middle;\n",
       "    }\n",
       "\n",
       "    .dataframe tbody tr th {\n",
       "        vertical-align: top;\n",
       "    }\n",
       "\n",
       "    .dataframe thead th {\n",
       "        text-align: right;\n",
       "    }\n",
       "</style>\n",
       "<table border=\"1\" class=\"dataframe\">\n",
       "  <thead>\n",
       "    <tr style=\"text-align: right;\">\n",
       "      <th></th>\n",
       "      <th>Feature 0</th>\n",
       "      <th>Feature 1</th>\n",
       "      <th>Feature 2</th>\n",
       "      <th>Feature 3</th>\n",
       "      <th>Feature 4</th>\n",
       "      <th>Feature 5</th>\n",
       "      <th>Feature 6</th>\n",
       "      <th>Feature 7</th>\n",
       "      <th>Age</th>\n",
       "      <th>Sex</th>\n",
       "      <th>Feature 10</th>\n",
       "      <th>label</th>\n",
       "    </tr>\n",
       "  </thead>\n",
       "  <tbody>\n",
       "    <tr>\n",
       "      <th>39</th>\n",
       "      <td>NaN</td>\n",
       "      <td>NaN</td>\n",
       "      <td>1336.54</td>\n",
       "      <td>739.71</td>\n",
       "      <td>550.3</td>\n",
       "      <td>68.46</td>\n",
       "      <td>192.07</td>\n",
       "      <td>1615.68</td>\n",
       "      <td>21</td>\n",
       "      <td>0</td>\n",
       "      <td>NaN</td>\n",
       "      <td>0</td>\n",
       "    </tr>\n",
       "  </tbody>\n",
       "</table>\n",
       "</div>"
      ],
      "text/plain": [
       "    Feature 0  Feature 1  Feature 2  Feature 3  Feature 4  Feature 5  \\\n",
       "39        NaN        NaN    1336.54     739.71      550.3      68.46   \n",
       "\n",
       "    Feature 6  Feature 7  Age  Sex  Feature 10  label  \n",
       "39     192.07    1615.68   21    0         NaN      0  "
      ]
     },
     "execution_count": 5,
     "metadata": {},
     "output_type": "execute_result"
    }
   ],
   "source": [
    "df[(df[\"Feature 0\"].isna()) & (df[\"Feature 1\"].isna()) & (df[\"Feature 10\"].isna())]"
   ]
  },
  {
   "cell_type": "markdown",
   "metadata": {},
   "source": [
    "There is only one instance of missing values, hence we shall drop that off"
   ]
  },
  {
   "cell_type": "code",
   "execution_count": 6,
   "metadata": {},
   "outputs": [
    {
     "data": {
      "text/html": [
       "<div>\n",
       "<style scoped>\n",
       "    .dataframe tbody tr th:only-of-type {\n",
       "        vertical-align: middle;\n",
       "    }\n",
       "\n",
       "    .dataframe tbody tr th {\n",
       "        vertical-align: top;\n",
       "    }\n",
       "\n",
       "    .dataframe thead th {\n",
       "        text-align: right;\n",
       "    }\n",
       "</style>\n",
       "<table border=\"1\" class=\"dataframe\">\n",
       "  <thead>\n",
       "    <tr style=\"text-align: right;\">\n",
       "      <th></th>\n",
       "      <th>Feature 0</th>\n",
       "      <th>Feature 1</th>\n",
       "      <th>Feature 2</th>\n",
       "      <th>Feature 3</th>\n",
       "      <th>Feature 4</th>\n",
       "      <th>Feature 5</th>\n",
       "      <th>Feature 6</th>\n",
       "      <th>Feature 7</th>\n",
       "      <th>Age</th>\n",
       "      <th>Sex</th>\n",
       "      <th>Feature 10</th>\n",
       "      <th>label</th>\n",
       "    </tr>\n",
       "  </thead>\n",
       "  <tbody>\n",
       "    <tr>\n",
       "      <th>0</th>\n",
       "      <td>3556.0</td>\n",
       "      <td>2489.0</td>\n",
       "      <td>265.19</td>\n",
       "      <td>77.53</td>\n",
       "      <td>176.55</td>\n",
       "      <td>0.00</td>\n",
       "      <td>4.20</td>\n",
       "      <td>307.91</td>\n",
       "      <td>52</td>\n",
       "      <td>0</td>\n",
       "      <td>7515.0</td>\n",
       "      <td>1</td>\n",
       "    </tr>\n",
       "    <tr>\n",
       "      <th>1</th>\n",
       "      <td>1906.0</td>\n",
       "      <td>134.0</td>\n",
       "      <td>1442.61</td>\n",
       "      <td>551.90</td>\n",
       "      <td>876.07</td>\n",
       "      <td>112.10</td>\n",
       "      <td>168.15</td>\n",
       "      <td>1735.48</td>\n",
       "      <td>20</td>\n",
       "      <td>1</td>\n",
       "      <td>1756.0</td>\n",
       "      <td>0</td>\n",
       "    </tr>\n",
       "    <tr>\n",
       "      <th>2</th>\n",
       "      <td>1586.0</td>\n",
       "      <td>71.0</td>\n",
       "      <td>1332.74</td>\n",
       "      <td>684.20</td>\n",
       "      <td>655.26</td>\n",
       "      <td>244.95</td>\n",
       "      <td>216.52</td>\n",
       "      <td>1820.04</td>\n",
       "      <td>28</td>\n",
       "      <td>1</td>\n",
       "      <td>1311.0</td>\n",
       "      <td>0</td>\n",
       "    </tr>\n",
       "    <tr>\n",
       "      <th>3</th>\n",
       "      <td>683.0</td>\n",
       "      <td>94.0</td>\n",
       "      <td>419.23</td>\n",
       "      <td>255.80</td>\n",
       "      <td>162.17</td>\n",
       "      <td>72.05</td>\n",
       "      <td>44.68</td>\n",
       "      <td>538.22</td>\n",
       "      <td>55</td>\n",
       "      <td>1</td>\n",
       "      <td>1443.0</td>\n",
       "      <td>0</td>\n",
       "    </tr>\n",
       "    <tr>\n",
       "      <th>4</th>\n",
       "      <td>1032.0</td>\n",
       "      <td>71.0</td>\n",
       "      <td>1102.72</td>\n",
       "      <td>480.27</td>\n",
       "      <td>625.30</td>\n",
       "      <td>188.78</td>\n",
       "      <td>130.77</td>\n",
       "      <td>1427.97</td>\n",
       "      <td>28</td>\n",
       "      <td>1</td>\n",
       "      <td>1542.0</td>\n",
       "      <td>0</td>\n",
       "    </tr>\n",
       "    <tr>\n",
       "      <th>...</th>\n",
       "      <td>...</td>\n",
       "      <td>...</td>\n",
       "      <td>...</td>\n",
       "      <td>...</td>\n",
       "      <td>...</td>\n",
       "      <td>...</td>\n",
       "      <td>...</td>\n",
       "      <td>...</td>\n",
       "      <td>...</td>\n",
       "      <td>...</td>\n",
       "      <td>...</td>\n",
       "      <td>...</td>\n",
       "    </tr>\n",
       "    <tr>\n",
       "      <th>82</th>\n",
       "      <td>626.0</td>\n",
       "      <td>68.0</td>\n",
       "      <td>1771.57</td>\n",
       "      <td>666.99</td>\n",
       "      <td>1117.48</td>\n",
       "      <td>360.21</td>\n",
       "      <td>118.84</td>\n",
       "      <td>2306.82</td>\n",
       "      <td>42</td>\n",
       "      <td>1</td>\n",
       "      <td>1521.0</td>\n",
       "      <td>0</td>\n",
       "    </tr>\n",
       "    <tr>\n",
       "      <th>83</th>\n",
       "      <td>1237.0</td>\n",
       "      <td>71.0</td>\n",
       "      <td>1348.53</td>\n",
       "      <td>428.09</td>\n",
       "      <td>924.69</td>\n",
       "      <td>120.02</td>\n",
       "      <td>48.67</td>\n",
       "      <td>1524.78</td>\n",
       "      <td>56</td>\n",
       "      <td>0</td>\n",
       "      <td>1345.0</td>\n",
       "      <td>0</td>\n",
       "    </tr>\n",
       "    <tr>\n",
       "      <th>84</th>\n",
       "      <td>634.0</td>\n",
       "      <td>1002.0</td>\n",
       "      <td>1300.00</td>\n",
       "      <td>558.00</td>\n",
       "      <td>724.00</td>\n",
       "      <td>67.00</td>\n",
       "      <td>105.00</td>\n",
       "      <td>1484.26</td>\n",
       "      <td>34</td>\n",
       "      <td>0</td>\n",
       "      <td>2926.0</td>\n",
       "      <td>1</td>\n",
       "    </tr>\n",
       "    <tr>\n",
       "      <th>85</th>\n",
       "      <td>112.0</td>\n",
       "      <td>884.0</td>\n",
       "      <td>942.83</td>\n",
       "      <td>378.49</td>\n",
       "      <td>567.06</td>\n",
       "      <td>116.77</td>\n",
       "      <td>31.81</td>\n",
       "      <td>1104.59</td>\n",
       "      <td>33</td>\n",
       "      <td>1</td>\n",
       "      <td>2352.0</td>\n",
       "      <td>1</td>\n",
       "    </tr>\n",
       "    <tr>\n",
       "      <th>86</th>\n",
       "      <td>195.0</td>\n",
       "      <td>213.0</td>\n",
       "      <td>724.00</td>\n",
       "      <td>364.00</td>\n",
       "      <td>361.00</td>\n",
       "      <td>18.00</td>\n",
       "      <td>155.00</td>\n",
       "      <td>897.00</td>\n",
       "      <td>19</td>\n",
       "      <td>1</td>\n",
       "      <td>2445.0</td>\n",
       "      <td>1</td>\n",
       "    </tr>\n",
       "  </tbody>\n",
       "</table>\n",
       "<p>86 rows × 12 columns</p>\n",
       "</div>"
      ],
      "text/plain": [
       "    Feature 0  Feature 1  Feature 2  Feature 3  Feature 4  Feature 5  \\\n",
       "0      3556.0     2489.0     265.19      77.53     176.55       0.00   \n",
       "1      1906.0      134.0    1442.61     551.90     876.07     112.10   \n",
       "2      1586.0       71.0    1332.74     684.20     655.26     244.95   \n",
       "3       683.0       94.0     419.23     255.80     162.17      72.05   \n",
       "4      1032.0       71.0    1102.72     480.27     625.30     188.78   \n",
       "..        ...        ...        ...        ...        ...        ...   \n",
       "82      626.0       68.0    1771.57     666.99    1117.48     360.21   \n",
       "83     1237.0       71.0    1348.53     428.09     924.69     120.02   \n",
       "84      634.0     1002.0    1300.00     558.00     724.00      67.00   \n",
       "85      112.0      884.0     942.83     378.49     567.06     116.77   \n",
       "86      195.0      213.0     724.00     364.00     361.00      18.00   \n",
       "\n",
       "    Feature 6  Feature 7  Age  Sex  Feature 10  label  \n",
       "0        4.20     307.91   52    0      7515.0      1  \n",
       "1      168.15    1735.48   20    1      1756.0      0  \n",
       "2      216.52    1820.04   28    1      1311.0      0  \n",
       "3       44.68     538.22   55    1      1443.0      0  \n",
       "4      130.77    1427.97   28    1      1542.0      0  \n",
       "..        ...        ...  ...  ...         ...    ...  \n",
       "82     118.84    2306.82   42    1      1521.0      0  \n",
       "83      48.67    1524.78   56    0      1345.0      0  \n",
       "84     105.00    1484.26   34    0      2926.0      1  \n",
       "85      31.81    1104.59   33    1      2352.0      1  \n",
       "86     155.00     897.00   19    1      2445.0      1  \n",
       "\n",
       "[86 rows x 12 columns]"
      ]
     },
     "execution_count": 6,
     "metadata": {},
     "output_type": "execute_result"
    }
   ],
   "source": [
    "df = df.dropna(subset=[\"Feature 0\",\"Feature 1\",\"Feature 10\"])\n",
    "df"
   ]
  },
  {
   "cell_type": "code",
   "execution_count": 7,
   "metadata": {},
   "outputs": [],
   "source": [
    "df = df.reset_index(drop=True)"
   ]
  },
  {
   "cell_type": "code",
   "execution_count": 8,
   "metadata": {},
   "outputs": [
    {
     "name": "stdout",
     "output_type": "stream",
     "text": [
      "Number of 0:  57\n",
      "Number of 1:  29\n"
     ]
    },
    {
     "name": "stderr",
     "output_type": "stream",
     "text": [
      "c:\\Users\\Pasindu.Samaranayake\\Desktop\\MSc\\Predicting_Pneumonia\\lib\\site-packages\\seaborn\\_decorators.py:36: FutureWarning: Pass the following variable as a keyword arg: x. From version 0.12, the only valid positional argument will be `data`, and passing other arguments without an explicit keyword will result in an error or misinterpretation.\n",
      "  warnings.warn(\n"
     ]
    },
    {
     "data": {
      "image/png": "[encoded data removed]",
      "text/plain": [
       "<Figure size 432x288 with 1 Axes>"
      ]
     },
     "metadata": {
      "needs_background": "light"
     },
     "output_type": "display_data"
    }
   ],
   "source": [
    "# count = Counter(df_label)\n",
    "\n",
    "# fig,ax_hist = plt.subplots(1,1,figsize = (8,8))\n",
    "# ax_hist.bar(x = list(count.keys()),height=[count[k] for k in count.keys()])\n",
    "sns.countplot(df[\"label\"],label = \"Count\")\n",
    "B, M = df[\"label\"].value_counts()\n",
    "print('Number of 0: ',B)\n",
    "print('Number of 1: ',M)"
   ]
  },
  {
   "cell_type": "markdown",
   "metadata": {},
   "source": [
    "Data is imbalanced, hence the minority class needs to be oversampled"
   ]
  },
  {
   "cell_type": "code",
   "execution_count": 9,
   "metadata": {},
   "outputs": [],
   "source": [
    "oversample = SMOTE()\n",
    "df_train,df_label = oversample.fit_resample(df[[i for i in df.columns.tolist() if i!=\"label\"]],df[[i for i in df.columns.tolist() if i==\"label\"]])\n",
    "# df_train,df_label = df[[i for i in df.columns.tolist() if i!=\"label\"]],df[[i for i in df.columns.tolist() if i==\"label\"]]"
   ]
  },
  {
   "cell_type": "code",
   "execution_count": 10,
   "metadata": {},
   "outputs": [
    {
     "name": "stdout",
     "output_type": "stream",
     "text": [
      "Number of 0:  57\n",
      "Number of 1:  57\n"
     ]
    },
    {
     "name": "stderr",
     "output_type": "stream",
     "text": [
      "c:\\Users\\Pasindu.Samaranayake\\Desktop\\MSc\\Predicting_Pneumonia\\lib\\site-packages\\seaborn\\_decorators.py:36: FutureWarning: Pass the following variable as a keyword arg: x. From version 0.12, the only valid positional argument will be `data`, and passing other arguments without an explicit keyword will result in an error or misinterpretation.\n",
      "  warnings.warn(\n"
     ]
    },
    {
     "data": {
      "image/png": "[encoded data removed]",
      "text/plain": [
       "<Figure size 432x288 with 1 Axes>"
      ]
     },
     "metadata": {
      "needs_background": "light"
     },
     "output_type": "display_data"
    }
   ],
   "source": [
    "sns.countplot(df_label[\"label\"],label = \"Count\")\n",
    "B, M = df_label[\"label\"].value_counts()\n",
    "print('Number of 0: ',B)\n",
    "print('Number of 1: ',M)"
   ]
  },
  {
   "cell_type": "code",
   "execution_count": 11,
   "metadata": {},
   "outputs": [
    {
     "data": {
      "text/plain": [
       "Feature 0     0\n",
       "Feature 1     0\n",
       "Feature 2     0\n",
       "Feature 3     0\n",
       "Feature 4     0\n",
       "Feature 5     0\n",
       "Feature 6     0\n",
       "Feature 7     0\n",
       "Age           0\n",
       "Sex           0\n",
       "Feature 10    0\n",
       "label         0\n",
       "dtype: int64"
      ]
     },
     "execution_count": 11,
     "metadata": {},
     "output_type": "execute_result"
    }
   ],
   "source": [
    "df.isna().sum()"
   ]
  },
  {
   "cell_type": "markdown",
   "metadata": {},
   "source": [
    "EDA will be done on a smaller subset of the dataset, while cross validation will be done using K Fold Cross Validation. \n",
    "From the results of EDA, the pipeline will be made to process the entire dataset as per the findings of EDA"
   ]
  },
  {
   "cell_type": "code",
   "execution_count": 12,
   "metadata": {},
   "outputs": [],
   "source": [
    "# df_eda,df_validation,y_eda,y_validation = train_test_split(df_train,df_label,test_size = 0.2, random_state=42,stratify=df_label)\n",
    "df_eda,df_validation,y_eda,y_validation = train_test_split(df_train,df_label,test_size = 0.2, random_state=42,stratify=df_label)"
   ]
  },
  {
   "cell_type": "code",
   "execution_count": 13,
   "metadata": {},
   "outputs": [],
   "source": [
    "# preprocess_eda = preprocess_training_validation()\n",
    "# df_eda_normalized = preprocess_eda.normalize(df_eda)"
   ]
  },
  {
   "cell_type": "code",
   "execution_count": 14,
   "metadata": {},
   "outputs": [],
   "source": [
    "# df_validation_normalized = preprocess_eda.normalize(df_validation)"
   ]
  },
  {
   "cell_type": "code",
   "execution_count": 15,
   "metadata": {},
   "outputs": [],
   "source": [
    "df_eda[\"labels\"] = y_eda\n",
    "# df_eda[\"labels\"] = y_eda"
   ]
  },
  {
   "cell_type": "code",
   "execution_count": 16,
   "metadata": {},
   "outputs": [
    {
     "data": {
      "text/html": [
       "<div>\n",
       "<style scoped>\n",
       "    .dataframe tbody tr th:only-of-type {\n",
       "        vertical-align: middle;\n",
       "    }\n",
       "\n",
       "    .dataframe tbody tr th {\n",
       "        vertical-align: top;\n",
       "    }\n",
       "\n",
       "    .dataframe thead th {\n",
       "        text-align: right;\n",
       "    }\n",
       "</style>\n",
       "<table border=\"1\" class=\"dataframe\">\n",
       "  <thead>\n",
       "    <tr style=\"text-align: right;\">\n",
       "      <th></th>\n",
       "      <th>Feature 0</th>\n",
       "      <th>Feature 1</th>\n",
       "      <th>Feature 2</th>\n",
       "      <th>Feature 3</th>\n",
       "      <th>Feature 4</th>\n",
       "      <th>Feature 5</th>\n",
       "      <th>Feature 6</th>\n",
       "      <th>Feature 7</th>\n",
       "      <th>Age</th>\n",
       "      <th>Sex</th>\n",
       "      <th>Feature 10</th>\n",
       "      <th>labels</th>\n",
       "    </tr>\n",
       "  </thead>\n",
       "  <tbody>\n",
       "    <tr>\n",
       "      <th>86</th>\n",
       "      <td>1076.992553</td>\n",
       "      <td>1269.764792</td>\n",
       "      <td>564.689801</td>\n",
       "      <td>292.326441</td>\n",
       "      <td>251.434242</td>\n",
       "      <td>76.560033</td>\n",
       "      <td>32.270733</td>\n",
       "      <td>692.138844</td>\n",
       "      <td>53</td>\n",
       "      <td>0</td>\n",
       "      <td>5349.284871</td>\n",
       "      <td>1</td>\n",
       "    </tr>\n",
       "    <tr>\n",
       "      <th>89</th>\n",
       "      <td>496.291717</td>\n",
       "      <td>305.040596</td>\n",
       "      <td>501.754176</td>\n",
       "      <td>206.035563</td>\n",
       "      <td>289.291847</td>\n",
       "      <td>19.212571</td>\n",
       "      <td>49.954707</td>\n",
       "      <td>574.349770</td>\n",
       "      <td>40</td>\n",
       "      <td>0</td>\n",
       "      <td>934.350369</td>\n",
       "      <td>1</td>\n",
       "    </tr>\n",
       "    <tr>\n",
       "      <th>19</th>\n",
       "      <td>403.000000</td>\n",
       "      <td>555.000000</td>\n",
       "      <td>313.480000</td>\n",
       "      <td>131.530000</td>\n",
       "      <td>182.690000</td>\n",
       "      <td>46.680000</td>\n",
       "      <td>7.900000</td>\n",
       "      <td>370.300000</td>\n",
       "      <td>40</td>\n",
       "      <td>0</td>\n",
       "      <td>2209.000000</td>\n",
       "      <td>1</td>\n",
       "    </tr>\n",
       "    <tr>\n",
       "      <th>53</th>\n",
       "      <td>1558.000000</td>\n",
       "      <td>611.000000</td>\n",
       "      <td>359.150000</td>\n",
       "      <td>148.650000</td>\n",
       "      <td>191.800000</td>\n",
       "      <td>20.620000</td>\n",
       "      <td>81.520000</td>\n",
       "      <td>467.040000</td>\n",
       "      <td>49</td>\n",
       "      <td>1</td>\n",
       "      <td>2189.000000</td>\n",
       "      <td>1</td>\n",
       "    </tr>\n",
       "    <tr>\n",
       "      <th>26</th>\n",
       "      <td>2088.000000</td>\n",
       "      <td>98.000000</td>\n",
       "      <td>962.300000</td>\n",
       "      <td>533.030000</td>\n",
       "      <td>459.720000</td>\n",
       "      <td>370.880000</td>\n",
       "      <td>142.890000</td>\n",
       "      <td>1477.310000</td>\n",
       "      <td>51</td>\n",
       "      <td>1</td>\n",
       "      <td>1599.000000</td>\n",
       "      <td>1</td>\n",
       "    </tr>\n",
       "    <tr>\n",
       "      <th>...</th>\n",
       "      <td>...</td>\n",
       "      <td>...</td>\n",
       "      <td>...</td>\n",
       "      <td>...</td>\n",
       "      <td>...</td>\n",
       "      <td>...</td>\n",
       "      <td>...</td>\n",
       "      <td>...</td>\n",
       "      <td>...</td>\n",
       "      <td>...</td>\n",
       "      <td>...</td>\n",
       "      <td>...</td>\n",
       "    </tr>\n",
       "    <tr>\n",
       "      <th>38</th>\n",
       "      <td>1010.000000</td>\n",
       "      <td>1384.000000</td>\n",
       "      <td>570.130000</td>\n",
       "      <td>312.900000</td>\n",
       "      <td>233.840000</td>\n",
       "      <td>80.170000</td>\n",
       "      <td>31.180000</td>\n",
       "      <td>702.080000</td>\n",
       "      <td>56</td>\n",
       "      <td>1</td>\n",
       "      <td>5501.000000</td>\n",
       "      <td>1</td>\n",
       "    </tr>\n",
       "    <tr>\n",
       "      <th>56</th>\n",
       "      <td>365.000000</td>\n",
       "      <td>248.000000</td>\n",
       "      <td>300.750000</td>\n",
       "      <td>195.070000</td>\n",
       "      <td>106.580000</td>\n",
       "      <td>13.420000</td>\n",
       "      <td>52.910000</td>\n",
       "      <td>371.300000</td>\n",
       "      <td>41</td>\n",
       "      <td>1</td>\n",
       "      <td>866.000000</td>\n",
       "      <td>1</td>\n",
       "    </tr>\n",
       "    <tr>\n",
       "      <th>58</th>\n",
       "      <td>631.000000</td>\n",
       "      <td>182.000000</td>\n",
       "      <td>675.100000</td>\n",
       "      <td>280.090000</td>\n",
       "      <td>386.570000</td>\n",
       "      <td>136.000000</td>\n",
       "      <td>56.230000</td>\n",
       "      <td>875.410000</td>\n",
       "      <td>29</td>\n",
       "      <td>1</td>\n",
       "      <td>3990.000000</td>\n",
       "      <td>0</td>\n",
       "    </tr>\n",
       "    <tr>\n",
       "      <th>42</th>\n",
       "      <td>1679.000000</td>\n",
       "      <td>79.000000</td>\n",
       "      <td>483.210000</td>\n",
       "      <td>162.000000</td>\n",
       "      <td>309.000000</td>\n",
       "      <td>227.050000</td>\n",
       "      <td>101.090000</td>\n",
       "      <td>817.240000</td>\n",
       "      <td>39</td>\n",
       "      <td>0</td>\n",
       "      <td>4480.000000</td>\n",
       "      <td>0</td>\n",
       "    </tr>\n",
       "    <tr>\n",
       "      <th>34</th>\n",
       "      <td>821.000000</td>\n",
       "      <td>134.000000</td>\n",
       "      <td>1134.740000</td>\n",
       "      <td>741.000000</td>\n",
       "      <td>401.000000</td>\n",
       "      <td>459.720000</td>\n",
       "      <td>23.870000</td>\n",
       "      <td>1619.770000</td>\n",
       "      <td>41</td>\n",
       "      <td>1</td>\n",
       "      <td>1893.000000</td>\n",
       "      <td>0</td>\n",
       "    </tr>\n",
       "  </tbody>\n",
       "</table>\n",
       "<p>91 rows × 12 columns</p>\n",
       "</div>"
      ],
      "text/plain": [
       "      Feature 0    Feature 1    Feature 2   Feature 3   Feature 4   Feature 5  \\\n",
       "86  1076.992553  1269.764792   564.689801  292.326441  251.434242   76.560033   \n",
       "89   496.291717   305.040596   501.754176  206.035563  289.291847   19.212571   \n",
       "19   403.000000   555.000000   313.480000  131.530000  182.690000   46.680000   \n",
       "53  1558.000000   611.000000   359.150000  148.650000  191.800000   20.620000   \n",
       "26  2088.000000    98.000000   962.300000  533.030000  459.720000  370.880000   \n",
       "..          ...          ...          ...         ...         ...         ...   \n",
       "38  1010.000000  1384.000000   570.130000  312.900000  233.840000   80.170000   \n",
       "56   365.000000   248.000000   300.750000  195.070000  106.580000   13.420000   \n",
       "58   631.000000   182.000000   675.100000  280.090000  386.570000  136.000000   \n",
       "42  1679.000000    79.000000   483.210000  162.000000  309.000000  227.050000   \n",
       "34   821.000000   134.000000  1134.740000  741.000000  401.000000  459.720000   \n",
       "\n",
       "     Feature 6    Feature 7  Age  Sex   Feature 10  labels  \n",
       "86   32.270733   692.138844   53    0  5349.284871       1  \n",
       "89   49.954707   574.349770   40    0   934.350369       1  \n",
       "19    7.900000   370.300000   40    0  2209.000000       1  \n",
       "53   81.520000   467.040000   49    1  2189.000000       1  \n",
       "26  142.890000  1477.310000   51    1  1599.000000       1  \n",
       "..         ...          ...  ...  ...          ...     ...  \n",
       "38   31.180000   702.080000   56    1  5501.000000       1  \n",
       "56   52.910000   371.300000   41    1   866.000000       1  \n",
       "58   56.230000   875.410000   29    1  3990.000000       0  \n",
       "42  101.090000   817.240000   39    0  4480.000000       0  \n",
       "34   23.870000  1619.770000   41    1  1893.000000       0  \n",
       "\n",
       "[91 rows x 12 columns]"
      ]
     },
     "execution_count": 16,
     "metadata": {},
     "output_type": "execute_result"
    }
   ],
   "source": [
    "df_eda"
   ]
  },
  {
   "cell_type": "code",
   "execution_count": 17,
   "metadata": {},
   "outputs": [
    {
     "data": {
      "text/html": [
       "<div>\n",
       "<style scoped>\n",
       "    .dataframe tbody tr th:only-of-type {\n",
       "        vertical-align: middle;\n",
       "    }\n",
       "\n",
       "    .dataframe tbody tr th {\n",
       "        vertical-align: top;\n",
       "    }\n",
       "\n",
       "    .dataframe thead th {\n",
       "        text-align: right;\n",
       "    }\n",
       "</style>\n",
       "<table border=\"1\" class=\"dataframe\">\n",
       "  <thead>\n",
       "    <tr style=\"text-align: right;\">\n",
       "      <th></th>\n",
       "      <th>labels</th>\n",
       "      <th>features</th>\n",
       "      <th>values</th>\n",
       "    </tr>\n",
       "  </thead>\n",
       "  <tbody>\n",
       "    <tr>\n",
       "      <th>0</th>\n",
       "      <td>1</td>\n",
       "      <td>Feature 0</td>\n",
       "      <td>1076.992553</td>\n",
       "    </tr>\n",
       "    <tr>\n",
       "      <th>1</th>\n",
       "      <td>1</td>\n",
       "      <td>Feature 0</td>\n",
       "      <td>496.291717</td>\n",
       "    </tr>\n",
       "    <tr>\n",
       "      <th>2</th>\n",
       "      <td>1</td>\n",
       "      <td>Feature 0</td>\n",
       "      <td>403.000000</td>\n",
       "    </tr>\n",
       "    <tr>\n",
       "      <th>3</th>\n",
       "      <td>1</td>\n",
       "      <td>Feature 0</td>\n",
       "      <td>1558.000000</td>\n",
       "    </tr>\n",
       "    <tr>\n",
       "      <th>4</th>\n",
       "      <td>1</td>\n",
       "      <td>Feature 0</td>\n",
       "      <td>2088.000000</td>\n",
       "    </tr>\n",
       "    <tr>\n",
       "      <th>...</th>\n",
       "      <td>...</td>\n",
       "      <td>...</td>\n",
       "      <td>...</td>\n",
       "    </tr>\n",
       "    <tr>\n",
       "      <th>996</th>\n",
       "      <td>1</td>\n",
       "      <td>Feature 10</td>\n",
       "      <td>5501.000000</td>\n",
       "    </tr>\n",
       "    <tr>\n",
       "      <th>997</th>\n",
       "      <td>1</td>\n",
       "      <td>Feature 10</td>\n",
       "      <td>866.000000</td>\n",
       "    </tr>\n",
       "    <tr>\n",
       "      <th>998</th>\n",
       "      <td>0</td>\n",
       "      <td>Feature 10</td>\n",
       "      <td>3990.000000</td>\n",
       "    </tr>\n",
       "    <tr>\n",
       "      <th>999</th>\n",
       "      <td>0</td>\n",
       "      <td>Feature 10</td>\n",
       "      <td>4480.000000</td>\n",
       "    </tr>\n",
       "    <tr>\n",
       "      <th>1000</th>\n",
       "      <td>0</td>\n",
       "      <td>Feature 10</td>\n",
       "      <td>1893.000000</td>\n",
       "    </tr>\n",
       "  </tbody>\n",
       "</table>\n",
       "<p>1001 rows × 3 columns</p>\n",
       "</div>"
      ],
      "text/plain": [
       "      labels    features       values\n",
       "0          1   Feature 0  1076.992553\n",
       "1          1   Feature 0   496.291717\n",
       "2          1   Feature 0   403.000000\n",
       "3          1   Feature 0  1558.000000\n",
       "4          1   Feature 0  2088.000000\n",
       "...      ...         ...          ...\n",
       "996        1  Feature 10  5501.000000\n",
       "997        1  Feature 10   866.000000\n",
       "998        0  Feature 10  3990.000000\n",
       "999        0  Feature 10  4480.000000\n",
       "1000       0  Feature 10  1893.000000\n",
       "\n",
       "[1001 rows x 3 columns]"
      ]
     },
     "execution_count": 17,
     "metadata": {},
     "output_type": "execute_result"
    }
   ],
   "source": [
    "# df_eda_normalized_melt = pd.melt(df_eda_normalized,id_vars='labels',var_name='features',value_name='values')\n",
    "df_eda_melt = pd.melt(df_eda,id_vars='labels',var_name='features',value_name='values')\n",
    "df_eda_melt"
   ]
  },
  {
   "cell_type": "code",
   "execution_count": 18,
   "metadata": {},
   "outputs": [],
   "source": [
    "#One way ANOVA test\n",
    "def oneway_anova(class1,class2):\n",
    "    stat,pval = f_oneway(class1,class2)\n",
    "    if pval < 0.05:\n",
    "        print(f\"Mean difference is statistically significant with pvalue of {pval}\")\n",
    "    else:\n",
    "        print(f\"Mean difference is statistically not significant with pvalue of {pval}\")"
   ]
  },
  {
   "cell_type": "markdown",
   "metadata": {},
   "source": [
    "<h3>Feature Engineering</h3>\n",
    "\n",
    "- Violin plots on each feature to identify the features that cause the best class separation\n",
    "- Use Swarm plots too\n",
    "- Use PCA to check if there is a better visualization of data that can be shown\n",
    "- One way Anova tests to identify which features have statistically significant differences in feature\n",
    "- Correlation between each feature to be investigated\n"
   ]
  },
  {
   "cell_type": "markdown",
   "metadata": {},
   "source": [
    "Drawing Violin Plots for each feature at hand"
   ]
  },
  {
   "cell_type": "code",
   "execution_count": 19,
   "metadata": {},
   "outputs": [
    {
     "data": {
      "text/plain": [
       "<AxesSubplot:xlabel='features', ylabel='values'>"
      ]
     },
     "execution_count": 19,
     "metadata": {},
     "output_type": "execute_result"
    },
    {
     "data": {
      "image/png": "[encoded data removed]",
      "text/plain": [
       "<Figure size 432x432 with 1 Axes>"
      ]
     },
     "metadata": {
      "needs_background": "light"
     },
     "output_type": "display_data"
    }
   ],
   "source": [
    "fig,ax_feature1 = plt.subplots(1,1,figsize = (6,6))\n",
    "sns.violinplot(x = 'features',y = 'values',hue = 'labels',data = df_eda_melt.loc[df_eda_melt[\"features\"].isin([\"Feature 0\"])],split = True,ax = ax_feature1,inner='quartile')"
   ]
  },
  {
   "cell_type": "code",
   "execution_count": 20,
   "metadata": {},
   "outputs": [
    {
     "name": "stdout",
     "output_type": "stream",
     "text": [
      "Mean difference is statistically significant with pvalue of 0.0001860042780635343\n"
     ]
    }
   ],
   "source": [
    "oneway_anova(df_eda.loc[df_eda[\"labels\"] == 0][\"Feature 0\"],df_eda.loc[df_eda[\"labels\"] == 1][\"Feature 0\"])"
   ]
  },
  {
   "cell_type": "markdown",
   "metadata": {},
   "source": [
    "Conclusion:\n",
    "\n",
    "Feature 0: MO HLADR+ MFI (cells/ul)\n",
    "\n",
    "The mean value of each class for Feature 0 is significantly different. Hence it can act as a good feature to separate classification of labels."
   ]
  },
  {
   "cell_type": "code",
   "execution_count": 21,
   "metadata": {},
   "outputs": [
    {
     "data": {
      "text/plain": [
       "<AxesSubplot:xlabel='features', ylabel='values'>"
      ]
     },
     "execution_count": 21,
     "metadata": {},
     "output_type": "execute_result"
    },
    {
     "data": {
      "image/png": "[encoded data removed]",
      "text/plain": [
       "<Figure size 432x432 with 1 Axes>"
      ]
     },
     "metadata": {
      "needs_background": "light"
     },
     "output_type": "display_data"
    }
   ],
   "source": [
    "fig,ax_feature2 = plt.subplots(1,1,figsize = (6,6))\n",
    "sns.violinplot(x = 'features',y = 'values',hue = 'labels',data = df_eda_melt.loc[df_eda_melt[\"features\"].isin([\"Feature 1\"])],split = True,ax = ax_feature2,inner='quartile')"
   ]
  },
  {
   "cell_type": "code",
   "execution_count": 22,
   "metadata": {},
   "outputs": [
    {
     "name": "stdout",
     "output_type": "stream",
     "text": [
      "Mean difference is statistically significant with pvalue of 8.826554979550205e-08\n"
     ]
    }
   ],
   "source": [
    "oneway_anova(df_eda.loc[df_eda[\"labels\"] == 0][\"Feature 1\"],df_eda.loc[df_eda[\"labels\"] == 1][\"Feature 1\"])"
   ]
  },
  {
   "cell_type": "markdown",
   "metadata": {},
   "source": [
    "Conclusion:\n",
    "\n",
    "Feature 1: Neu CD64+MFI (cells/ul)\n",
    "\n",
    "The mean value of each class for Feature 1 is significantly different with a very low p value. Hence it can act as a good feature to separate classification of labels. As seen in the violin plot, it is clear that label 0 only exists in a small range of values, while label 1 exists in a larger range. This can be used to create a categorical variable for Feature 1."
   ]
  },
  {
   "cell_type": "code",
   "execution_count": 23,
   "metadata": {},
   "outputs": [
    {
     "data": {
      "text/plain": [
       "<AxesSubplot:xlabel='features', ylabel='values'>"
      ]
     },
     "execution_count": 23,
     "metadata": {},
     "output_type": "execute_result"
    },
    {
     "data": {
      "image/png": "[encoded data removed]",
      "text/plain": [
       "<Figure size 432x432 with 1 Axes>"
      ]
     },
     "metadata": {
      "needs_background": "light"
     },
     "output_type": "display_data"
    }
   ],
   "source": [
    "fig,ax_feature3 = plt.subplots(1,1,figsize = (6,6))\n",
    "sns.violinplot(x = 'features',y = 'values',hue = 'labels',data = df_eda_melt.loc[df_eda_melt[\"features\"].isin([\"Feature 2\"])],split = True,ax = ax_feature3,inner='quartile')"
   ]
  },
  {
   "cell_type": "code",
   "execution_count": 24,
   "metadata": {},
   "outputs": [
    {
     "name": "stdout",
     "output_type": "stream",
     "text": [
      "Mean difference is statistically significant with pvalue of 8.877398067201792e-06\n"
     ]
    }
   ],
   "source": [
    "oneway_anova(df_eda.loc[df_eda[\"labels\"] == 0][\"Feature 2\"],df_eda.loc[df_eda[\"labels\"] == 1][\"Feature 2\"])"
   ]
  },
  {
   "cell_type": "markdown",
   "metadata": {},
   "source": [
    "Conclusion:\n",
    "\n",
    "Feature 2: CD3+T (cells/ul)\n",
    "\n",
    "The mean value of each class for Feature 2 is significantly different with a very low p value. Hence it can act as a good feature to separate classification of labels."
   ]
  },
  {
   "cell_type": "code",
   "execution_count": 25,
   "metadata": {},
   "outputs": [
    {
     "data": {
      "text/plain": [
       "<AxesSubplot:xlabel='features', ylabel='values'>"
      ]
     },
     "execution_count": 25,
     "metadata": {},
     "output_type": "execute_result"
    },
    {
     "data": {
      "image/png": "[encoded data removed]",
      "text/plain": [
       "<Figure size 432x432 with 1 Axes>"
      ]
     },
     "metadata": {
      "needs_background": "light"
     },
     "output_type": "display_data"
    }
   ],
   "source": [
    "fig,ax_feature4 = plt.subplots(1,1,figsize = (6,6))\n",
    "sns.violinplot(x = 'features',y = 'values',hue = 'labels',data = df_eda_melt.loc[df_eda_melt[\"features\"].isin([\"Feature 3\"])],split = True,ax = ax_feature4,inner='quartile')"
   ]
  },
  {
   "cell_type": "code",
   "execution_count": 26,
   "metadata": {},
   "outputs": [
    {
     "name": "stdout",
     "output_type": "stream",
     "text": [
      "Mean difference is statistically significant with pvalue of 0.00015519061769353365\n"
     ]
    }
   ],
   "source": [
    "oneway_anova(df_eda.loc[df_eda[\"labels\"] == 0][\"Feature 3\"],df_eda.loc[df_eda[\"labels\"] == 1][\"Feature 3\"])"
   ]
  },
  {
   "cell_type": "markdown",
   "metadata": {},
   "source": [
    "Conclusion:\n",
    "\n",
    "Feature 3: CD8+T (cells/ul)\n",
    "\n",
    "The mean value of each class for Feature 3 is significantly different with a very low p value. Hence it can act as a good feature to separate classification of labels."
   ]
  },
  {
   "cell_type": "code",
   "execution_count": 27,
   "metadata": {},
   "outputs": [
    {
     "data": {
      "text/plain": [
       "<AxesSubplot:xlabel='features', ylabel='values'>"
      ]
     },
     "execution_count": 27,
     "metadata": {},
     "output_type": "execute_result"
    },
    {
     "data": {
      "image/png": "[encoded data removed]",
      "text/plain": [
       "<Figure size 432x432 with 1 Axes>"
      ]
     },
     "metadata": {
      "needs_background": "light"
     },
     "output_type": "display_data"
    }
   ],
   "source": [
    "fig,ax_feature5 = plt.subplots(1,1,figsize = (6,6))\n",
    "sns.violinplot(x = 'features',y = 'values',hue = 'labels',data = df_eda_melt.loc[df_eda_melt[\"features\"].isin([\"Feature 4\"])],split = True,ax = ax_feature5,inner='quartile')"
   ]
  },
  {
   "cell_type": "code",
   "execution_count": 28,
   "metadata": {},
   "outputs": [
    {
     "name": "stdout",
     "output_type": "stream",
     "text": [
      "Mean difference is statistically significant with pvalue of 1.5036747773386526e-05\n"
     ]
    }
   ],
   "source": [
    "oneway_anova(df_eda.loc[df_eda[\"labels\"] == 0][\"Feature 4\"],df_eda.loc[df_eda[\"labels\"] == 1][\"Feature 4\"])"
   ]
  },
  {
   "cell_type": "markdown",
   "metadata": {},
   "source": [
    "Conclusion:\n",
    "\n",
    "Feature 4: CD4+T (cells/ul)\n",
    "\n",
    "The mean value of each class for Feature 4 is significantly different with a very low p value. Hence it can act as a good feature to separate classification of labels."
   ]
  },
  {
   "cell_type": "code",
   "execution_count": 29,
   "metadata": {},
   "outputs": [
    {
     "data": {
      "text/plain": [
       "<AxesSubplot:xlabel='features', ylabel='values'>"
      ]
     },
     "execution_count": 29,
     "metadata": {},
     "output_type": "execute_result"
    },
    {
     "data": {
      "image/png": "[encoded data removed]",
      "text/plain": [
       "<Figure size 432x432 with 1 Axes>"
      ]
     },
     "metadata": {
      "needs_background": "light"
     },
     "output_type": "display_data"
    }
   ],
   "source": [
    "fig,ax_feature6 = plt.subplots(1,1,figsize = (6,6))\n",
    "sns.violinplot(x = 'features',y = 'values',hue = 'labels',data = df_eda_melt.loc[df_eda_melt[\"features\"].isin([\"Feature 5\"])],split = True,ax = ax_feature6,inner='quartile')"
   ]
  },
  {
   "cell_type": "code",
   "execution_count": 30,
   "metadata": {},
   "outputs": [
    {
     "name": "stdout",
     "output_type": "stream",
     "text": [
      "Mean difference is statistically significant with pvalue of 1.695201946005538e-08\n"
     ]
    }
   ],
   "source": [
    "oneway_anova(df_eda.loc[df_eda[\"labels\"] == 0][\"Feature 5\"],df_eda.loc[df_eda[\"labels\"] == 1][\"Feature 5\"])"
   ]
  },
  {
   "cell_type": "markdown",
   "metadata": {},
   "source": [
    "Conclusion:\n",
    "\n",
    "Feature 5: NK (cells/ul)\n",
    "\n",
    "The mean value of each class for Feature 5 is significantly different with a very low p value. Hence it can act as a good feature to separate classification of labels. We can see that 75% of all class 1 cases occur before the 25th percentile value of label 0. Hence we can create a new categorical variable on label 1 which labels training instances as high risk if NK (cells/ul) is below the 75th percentile line of Feature 5 with respect to label 1."
   ]
  },
  {
   "cell_type": "code",
   "execution_count": 31,
   "metadata": {},
   "outputs": [
    {
     "data": {
      "text/plain": [
       "<AxesSubplot:xlabel='features', ylabel='values'>"
      ]
     },
     "execution_count": 31,
     "metadata": {},
     "output_type": "execute_result"
    },
    {
     "data": {
      "image/png": "[encoded data removed]",
      "text/plain": [
       "<Figure size 432x432 with 1 Axes>"
      ]
     },
     "metadata": {
      "needs_background": "light"
     },
     "output_type": "display_data"
    }
   ],
   "source": [
    "fig,ax_feature7 = plt.subplots(1,1,figsize = (6,6))\n",
    "sns.violinplot(x = 'features',y = 'values',hue = 'labels',data = df_eda_melt.loc[df_eda_melt[\"features\"].isin([\"Feature 6\"])],split = True,ax = ax_feature7,inner='quartile')"
   ]
  },
  {
   "cell_type": "code",
   "execution_count": 32,
   "metadata": {},
   "outputs": [
    {
     "name": "stdout",
     "output_type": "stream",
     "text": [
      "Mean difference is statistically significant with pvalue of 2.1482604089043307e-06\n"
     ]
    }
   ],
   "source": [
    "oneway_anova(df_eda.loc[df_eda[\"labels\"] == 0][\"Feature 6\"],df_eda.loc[df_eda[\"labels\"] == 1][\"Feature 6\"])"
   ]
  },
  {
   "cell_type": "markdown",
   "metadata": {},
   "source": [
    "Conclusion:\n",
    "\n",
    "Feature 6: CD19+ (cells/ul)\n",
    "\n",
    "The mean value of each class for Feature 6 is significantly different with a very low p value. Hence it can act as a good feature to separate classification of labels."
   ]
  },
  {
   "cell_type": "code",
   "execution_count": 33,
   "metadata": {},
   "outputs": [
    {
     "data": {
      "text/plain": [
       "<AxesSubplot:xlabel='features', ylabel='values'>"
      ]
     },
     "execution_count": 33,
     "metadata": {},
     "output_type": "execute_result"
    },
    {
     "data": {
      "image/png": "[encoded data removed]",
      "text/plain": [
       "<Figure size 432x432 with 1 Axes>"
      ]
     },
     "metadata": {
      "needs_background": "light"
     },
     "output_type": "display_data"
    }
   ],
   "source": [
    "fig,ax_feature8 = plt.subplots(1,1,figsize = (6,6))\n",
    "sns.violinplot(x = 'features',y = 'values',hue = 'labels',data = df_eda_melt.loc[df_eda_melt[\"features\"].isin([\"Feature 7\"])],split = True,ax = ax_feature8,inner='quartile')"
   ]
  },
  {
   "cell_type": "code",
   "execution_count": 34,
   "metadata": {},
   "outputs": [
    {
     "name": "stdout",
     "output_type": "stream",
     "text": [
      "Mean difference is statistically significant with pvalue of 1.3349068096178526e-07\n"
     ]
    }
   ],
   "source": [
    "oneway_anova(df_eda.loc[df_eda[\"labels\"] == 0][\"Feature 7\"],df_eda.loc[df_eda[\"labels\"] == 1][\"Feature 7\"])"
   ]
  },
  {
   "cell_type": "markdown",
   "metadata": {},
   "source": [
    "Conclusion:\n",
    "\n",
    "Feature 7: CD45+ (cells/ul)\n",
    "\n",
    "The mean value of each class for Feature 7 is significantly different with a very low p value. Hence it can act as a good feature to separate classification of labels. We can see that 75% of all class 1 cases occur before the 25th percentile value of label 0. Hence we can create a new categorical variable on label 1 which labels training instances as high risk if CD45+ (cells/ul) is below the 75th percentile line of Feature 7 with respect to label 1."
   ]
  },
  {
   "cell_type": "code",
   "execution_count": 35,
   "metadata": {},
   "outputs": [
    {
     "data": {
      "text/plain": [
       "<AxesSubplot:xlabel='features', ylabel='values'>"
      ]
     },
     "execution_count": 35,
     "metadata": {},
     "output_type": "execute_result"
    },
    {
     "data": {
      "image/png": "[encoded data removed]",
      "text/plain": [
       "<Figure size 432x432 with 1 Axes>"
      ]
     },
     "metadata": {
      "needs_background": "light"
     },
     "output_type": "display_data"
    }
   ],
   "source": [
    "fig,ax_feature9 = plt.subplots(1,1,figsize = (6,6))\n",
    "sns.violinplot(x = 'features',y = 'values',hue = 'labels',data = df_eda_melt.loc[df_eda_melt[\"features\"].isin([\"Feature 10\"])],split = True,ax = ax_feature9,inner='quartile')"
   ]
  },
  {
   "cell_type": "code",
   "execution_count": 36,
   "metadata": {},
   "outputs": [
    {
     "name": "stdout",
     "output_type": "stream",
     "text": [
      "Mean difference is statistically significant with pvalue of 0.0012473007787403509\n"
     ]
    }
   ],
   "source": [
    "oneway_anova(df_eda.loc[df_eda[\"labels\"] == 0][\"Feature 10\"],df_eda.loc[df_eda[\"labels\"] == 1][\"Feature 10\"])"
   ]
  },
  {
   "cell_type": "markdown",
   "metadata": {},
   "source": [
    "Conclusion:\n",
    "\n",
    "Feature 10: Mono CD64+MFI (cells/ul)\n",
    "\n",
    "The mean value of each class for Feature 10 is significantly different. Hence it can act as a good feature to separate classification of labels. "
   ]
  },
  {
   "cell_type": "markdown",
   "metadata": {},
   "source": [
    "From the above analysis, the features other than Feature 0 and Feature 10, can act as very good features to do classification on. While Feature 0 and Feature 10 are satistically different in mean, their p values are not low compared to the other Features"
   ]
  },
  {
   "cell_type": "markdown",
   "metadata": {},
   "source": [
    "Age"
   ]
  },
  {
   "cell_type": "code",
   "execution_count": 37,
   "metadata": {},
   "outputs": [
    {
     "data": {
      "text/plain": [
       "<AxesSubplot:xlabel='features', ylabel='values'>"
      ]
     },
     "execution_count": 37,
     "metadata": {},
     "output_type": "execute_result"
    },
    {
     "data": {
      "image/png": "[encoded data removed]",
      "text/plain": [
       "<Figure size 432x432 with 1 Axes>"
      ]
     },
     "metadata": {
      "needs_background": "light"
     },
     "output_type": "display_data"
    }
   ],
   "source": [
    "fig,ax_feature10 = plt.subplots(1,1,figsize = (6,6))\n",
    "sns.violinplot(x = 'features',y = 'values',hue = 'labels',data = df_eda_melt.loc[df_eda_melt[\"features\"].isin([\"Age\"])],split = True,ax = ax_feature10,inner='quartile')"
   ]
  },
  {
   "cell_type": "code",
   "execution_count": 38,
   "metadata": {},
   "outputs": [
    {
     "name": "stdout",
     "output_type": "stream",
     "text": [
      "Mean difference is statistically not significant with pvalue of 0.9484185247294619\n"
     ]
    }
   ],
   "source": [
    "oneway_anova(df_eda.loc[df_eda[\"labels\"] == 0][\"Age\"],df_eda.loc[df_eda[\"labels\"] == 1][\"Age\"])"
   ]
  },
  {
   "cell_type": "markdown",
   "metadata": {},
   "source": [
    "Conclusion:\n",
    "\n",
    "Feature: Age\n",
    "\n",
    "The mean value of each class for Age is not significantly different as seen by both the violin plot and the pvalue of the ANOVA test, which is grester than 0.05."
   ]
  },
  {
   "cell_type": "markdown",
   "metadata": {},
   "source": [
    "Sex"
   ]
  },
  {
   "cell_type": "code",
   "execution_count": 39,
   "metadata": {},
   "outputs": [
    {
     "data": {
      "text/plain": [
       "<AxesSubplot:xlabel='Sex', ylabel='count'>"
      ]
     },
     "execution_count": 39,
     "metadata": {},
     "output_type": "execute_result"
    },
    {
     "data": {
      "image/png": "[encoded data removed]",
      "text/plain": [
       "<Figure size 432x288 with 1 Axes>"
      ]
     },
     "metadata": {
      "needs_background": "light"
     },
     "output_type": "display_data"
    }
   ],
   "source": [
    "sns.countplot(x = \"Sex\",hue = \"labels\",data = df_eda) "
   ]
  },
  {
   "cell_type": "code",
   "execution_count": 40,
   "metadata": {},
   "outputs": [],
   "source": [
    "def check_chi2_correlation(contingency_table):\n",
    "    DOF = (contingency_table.shape[0] - 1) * (contingency_table.shape[1] - 1)\n",
    "    critical_val = chi2.ppf(0.95,DOF)\n",
    "    stat,p,dof,expected_array = chi2_contingency(contingency_table)\n",
    "    if stat > critical_val:\n",
    "        print(f\"Reject Null Hypotheses. Critical Value for 0.95 siginficance : {critical_val}, DOF : {DOF}. Chi2 statistic : {stat}\")\n",
    "    else:\n",
    "        print(f\"No correlation. Critical Value for 0.95 siginficance : {critical_val}. Chi2 statistic : {stat}\")"
   ]
  },
  {
   "cell_type": "code",
   "execution_count": 41,
   "metadata": {},
   "outputs": [
    {
     "name": "stdout",
     "output_type": "stream",
     "text": [
      "No correlation. Critical Value for 0.95 siginficance : 3.841458820694124. Chi2 statistic : 1.3200527493606131\n"
     ]
    }
   ],
   "source": [
    "check_chi2_correlation(pd.crosstab(df_eda[\"Sex\"],df_eda[\"labels\"]))"
   ]
  },
  {
   "cell_type": "code",
   "execution_count": 42,
   "metadata": {},
   "outputs": [
    {
     "data": {
      "text/plain": [
       "(1.3200527493606131,\n",
       " 0.2505825840453725,\n",
       " 1,\n",
       " array([[25.21978022, 25.78021978],\n",
       "        [19.78021978, 20.21978022]]))"
      ]
     },
     "execution_count": 42,
     "metadata": {},
     "output_type": "execute_result"
    }
   ],
   "source": [
    "chi2_contingency(pd.crosstab(df_eda[\"Sex\"],df_eda[\"labels\"]))"
   ]
  },
  {
   "cell_type": "markdown",
   "metadata": {},
   "source": [
    "Conclusion\n",
    "\n",
    "As seen above and proved by the Chi2 test for the categorical variables, there is no useful split between 0 and 1 labels between the 2 genders. "
   ]
  },
  {
   "cell_type": "markdown",
   "metadata": {},
   "source": [
    "<h3>Plotting Swarm plots to visualize the distribution of instances for each feature</h3>\n",
    "Swarm plots can show which continuous features allow for good separation of labels. "
   ]
  },
  {
   "cell_type": "markdown",
   "metadata": {},
   "source": [
    "Feature 0 : MO HLADR+ MFI (cells/ul)"
   ]
  },
  {
   "cell_type": "code",
   "execution_count": 43,
   "metadata": {},
   "outputs": [
    {
     "name": "stderr",
     "output_type": "stream",
     "text": [
      "c:\\Users\\Pasindu.Samaranayake\\Desktop\\MSc\\Predicting_Pneumonia\\lib\\site-packages\\seaborn\\categorical.py:3002: UserWarning: The `split` parameter has been renamed to `dodge`.\n",
      "  warnings.warn(msg, UserWarning)\n"
     ]
    },
    {
     "data": {
      "text/plain": [
       "<AxesSubplot:xlabel='features', ylabel='values'>"
      ]
     },
     "execution_count": 43,
     "metadata": {},
     "output_type": "execute_result"
    },
    {
     "data": {
      "image/png": "[encoded data removed]",
      "text/plain": [
       "<Figure size 432x432 with 1 Axes>"
      ]
     },
     "metadata": {
      "needs_background": "light"
     },
     "output_type": "display_data"
    }
   ],
   "source": [
    "fig,ax_swarm1 = plt.subplots(1,1,figsize = (6,6))\n",
    "sns.swarmplot(x = 'features',y = 'values',hue = 'labels',data = df_eda_melt.loc[df_eda_melt[\"features\"].isin([\"Feature 0\"])],split = True,ax = ax_swarm1,color = \".2\")\n",
    "sns.boxplot(x = 'features',y = 'values',hue = 'labels',data = df_eda_melt.loc[df_eda_melt[\"features\"].isin([\"Feature 0\"])],ax = ax_swarm1)"
   ]
  },
  {
   "cell_type": "markdown",
   "metadata": {},
   "source": [
    "Feature 1 : Neu CD64+MFI (cells/ul)"
   ]
  },
  {
   "cell_type": "code",
   "execution_count": 44,
   "metadata": {},
   "outputs": [
    {
     "name": "stderr",
     "output_type": "stream",
     "text": [
      "c:\\Users\\Pasindu.Samaranayake\\Desktop\\MSc\\Predicting_Pneumonia\\lib\\site-packages\\seaborn\\categorical.py:3002: UserWarning: The `split` parameter has been renamed to `dodge`.\n",
      "  warnings.warn(msg, UserWarning)\n"
     ]
    },
    {
     "data": {
      "text/plain": [
       "<AxesSubplot:xlabel='features', ylabel='values'>"
      ]
     },
     "execution_count": 44,
     "metadata": {},
     "output_type": "execute_result"
    },
    {
     "data": {
      "image/png": "[encoded data removed]",
      "text/plain": [
       "<Figure size 432x432 with 1 Axes>"
      ]
     },
     "metadata": {
      "needs_background": "light"
     },
     "output_type": "display_data"
    }
   ],
   "source": [
    "fig,ax_swarm2 = plt.subplots(1,1,figsize = (6,6))\n",
    "sns.swarmplot(x = 'features',y = 'values',hue = 'labels',data = df_eda_melt.loc[df_eda_melt[\"features\"].isin([\"Feature 1\"])],split = True,ax = ax_swarm2,color = '.2')\n",
    "sns.boxplot(x = 'features',y = 'values',hue = 'labels',data = df_eda_melt.loc[df_eda_melt[\"features\"].isin([\"Feature 1\"])],ax = ax_swarm2)"
   ]
  },
  {
   "cell_type": "markdown",
   "metadata": {},
   "source": [
    "Feature 2 : CD3+T (cells/ul)"
   ]
  },
  {
   "cell_type": "code",
   "execution_count": 45,
   "metadata": {},
   "outputs": [
    {
     "name": "stderr",
     "output_type": "stream",
     "text": [
      "c:\\Users\\Pasindu.Samaranayake\\Desktop\\MSc\\Predicting_Pneumonia\\lib\\site-packages\\seaborn\\categorical.py:3002: UserWarning: The `split` parameter has been renamed to `dodge`.\n",
      "  warnings.warn(msg, UserWarning)\n"
     ]
    },
    {
     "data": {
      "text/plain": [
       "<AxesSubplot:xlabel='features', ylabel='values'>"
      ]
     },
     "execution_count": 45,
     "metadata": {},
     "output_type": "execute_result"
    },
    {
     "data": {
      "image/png": "[encoded data removed]",
      "text/plain": [
       "<Figure size 432x432 with 1 Axes>"
      ]
     },
     "metadata": {
      "needs_background": "light"
     },
     "output_type": "display_data"
    }
   ],
   "source": [
    "fig,ax_swarm3 = plt.subplots(1,1,figsize = (6,6))\n",
    "sns.swarmplot(x = 'features',y = 'values',hue = 'labels',data = df_eda_melt.loc[df_eda_melt[\"features\"].isin([\"Feature 2\"])],split = True,ax = ax_swarm3,color = '.2')\n",
    "sns.boxplot(x = 'features',y = 'values',hue = 'labels',data = df_eda_melt.loc[df_eda_melt[\"features\"].isin([\"Feature 2\"])],ax = ax_swarm3)"
   ]
  },
  {
   "cell_type": "markdown",
   "metadata": {},
   "source": [
    "Feature 3 : CD8+T (cells/ul)"
   ]
  },
  {
   "cell_type": "code",
   "execution_count": 46,
   "metadata": {},
   "outputs": [
    {
     "name": "stderr",
     "output_type": "stream",
     "text": [
      "c:\\Users\\Pasindu.Samaranayake\\Desktop\\MSc\\Predicting_Pneumonia\\lib\\site-packages\\seaborn\\categorical.py:3002: UserWarning: The `split` parameter has been renamed to `dodge`.\n",
      "  warnings.warn(msg, UserWarning)\n"
     ]
    },
    {
     "data": {
      "text/plain": [
       "<AxesSubplot:xlabel='features', ylabel='values'>"
      ]
     },
     "execution_count": 46,
     "metadata": {},
     "output_type": "execute_result"
    },
    {
     "data": {
      "image/png": "[encoded data removed]",
      "text/plain": [
       "<Figure size 432x432 with 1 Axes>"
      ]
     },
     "metadata": {
      "needs_background": "light"
     },
     "output_type": "display_data"
    }
   ],
   "source": [
    "fig,ax_swarm4 = plt.subplots(1,1,figsize = (6,6))\n",
    "sns.swarmplot(x = 'features',y = 'values',hue = 'labels',data = df_eda_melt.loc[df_eda_melt[\"features\"].isin([\"Feature 3\"])],split = True,ax = ax_swarm4,color = '.2')\n",
    "sns.boxplot(x = 'features',y = 'values',hue = 'labels',data = df_eda_melt.loc[df_eda_melt[\"features\"].isin([\"Feature 3\"])],ax = ax_swarm4)"
   ]
  },
  {
   "cell_type": "markdown",
   "metadata": {},
   "source": [
    "Feature 4 : CD4+T (cells/ul)"
   ]
  },
  {
   "cell_type": "code",
   "execution_count": 47,
   "metadata": {},
   "outputs": [
    {
     "name": "stderr",
     "output_type": "stream",
     "text": [
      "c:\\Users\\Pasindu.Samaranayake\\Desktop\\MSc\\Predicting_Pneumonia\\lib\\site-packages\\seaborn\\categorical.py:3002: UserWarning: The `split` parameter has been renamed to `dodge`.\n",
      "  warnings.warn(msg, UserWarning)\n"
     ]
    },
    {
     "data": {
      "text/plain": [
       "<AxesSubplot:xlabel='features', ylabel='values'>"
      ]
     },
     "execution_count": 47,
     "metadata": {},
     "output_type": "execute_result"
    },
    {
     "data": {
      "image/png": "[encoded data removed]",
      "text/plain": [
       "<Figure size 432x432 with 1 Axes>"
      ]
     },
     "metadata": {
      "needs_background": "light"
     },
     "output_type": "display_data"
    }
   ],
   "source": [
    "fig,ax_swarm5 = plt.subplots(1,1,figsize = (6,6))\n",
    "sns.swarmplot(x = 'features',y = 'values',hue = 'labels',data = df_eda_melt.loc[df_eda_melt[\"features\"].isin([\"Feature 4\"])],split = True,ax = ax_swarm5,color = '.2')\n",
    "sns.boxplot(x = 'features',y = 'values',hue = 'labels',data = df_eda_melt.loc[df_eda_melt[\"features\"].isin([\"Feature 4\"])],ax = ax_swarm5)"
   ]
  },
  {
   "cell_type": "markdown",
   "metadata": {},
   "source": [
    "Feature 5 : NK (cells/ul)"
   ]
  },
  {
   "cell_type": "code",
   "execution_count": 48,
   "metadata": {},
   "outputs": [
    {
     "name": "stderr",
     "output_type": "stream",
     "text": [
      "c:\\Users\\Pasindu.Samaranayake\\Desktop\\MSc\\Predicting_Pneumonia\\lib\\site-packages\\seaborn\\categorical.py:3002: UserWarning: The `split` parameter has been renamed to `dodge`.\n",
      "  warnings.warn(msg, UserWarning)\n"
     ]
    },
    {
     "data": {
      "text/plain": [
       "<AxesSubplot:xlabel='features', ylabel='values'>"
      ]
     },
     "execution_count": 48,
     "metadata": {},
     "output_type": "execute_result"
    },
    {
     "data": {
      "image/png": "[encoded data removed]",
      "text/plain": [
       "<Figure size 432x432 with 1 Axes>"
      ]
     },
     "metadata": {
      "needs_background": "light"
     },
     "output_type": "display_data"
    }
   ],
   "source": [
    "fig,ax_swarm6 = plt.subplots(1,1,figsize = (6,6))\n",
    "sns.swarmplot(x = 'features',y = 'values',hue = 'labels',data = df_eda_melt.loc[df_eda_melt[\"features\"].isin([\"Feature 5\"])],split = True,ax = ax_swarm6,color = '.2')\n",
    "sns.boxplot(x = 'features',y = 'values',hue = 'labels',data = df_eda_melt.loc[df_eda_melt[\"features\"].isin([\"Feature 5\"])],ax = ax_swarm6)"
   ]
  },
  {
   "cell_type": "markdown",
   "metadata": {},
   "source": [
    "Feature 6 : CD19+ (cells/ul)"
   ]
  },
  {
   "cell_type": "code",
   "execution_count": 49,
   "metadata": {},
   "outputs": [
    {
     "name": "stderr",
     "output_type": "stream",
     "text": [
      "c:\\Users\\Pasindu.Samaranayake\\Desktop\\MSc\\Predicting_Pneumonia\\lib\\site-packages\\seaborn\\categorical.py:3002: UserWarning: The `split` parameter has been renamed to `dodge`.\n",
      "  warnings.warn(msg, UserWarning)\n"
     ]
    },
    {
     "data": {
      "text/plain": [
       "<AxesSubplot:xlabel='features', ylabel='values'>"
      ]
     },
     "execution_count": 49,
     "metadata": {},
     "output_type": "execute_result"
    },
    {
     "data": {
      "image/png": "[encoded data removed]",
      "text/plain": [
       "<Figure size 432x432 with 1 Axes>"
      ]
     },
     "metadata": {
      "needs_background": "light"
     },
     "output_type": "display_data"
    }
   ],
   "source": [
    "fig,ax_swarm7 = plt.subplots(1,1,figsize = (6,6))\n",
    "sns.swarmplot(x = 'features',y = 'values',hue = 'labels',data = df_eda_melt.loc[df_eda_melt[\"features\"].isin([\"Feature 6\"])],split = True,ax = ax_swarm7,color = '.2')\n",
    "sns.boxplot(x = 'features',y = 'values',hue = 'labels',data = df_eda_melt.loc[df_eda_melt[\"features\"].isin([\"Feature 6\"])],ax = ax_swarm7)"
   ]
  },
  {
   "cell_type": "markdown",
   "metadata": {},
   "source": [
    "Feature 7 : CD45+ (cells/ul)"
   ]
  },
  {
   "cell_type": "code",
   "execution_count": 50,
   "metadata": {},
   "outputs": [
    {
     "name": "stderr",
     "output_type": "stream",
     "text": [
      "c:\\Users\\Pasindu.Samaranayake\\Desktop\\MSc\\Predicting_Pneumonia\\lib\\site-packages\\seaborn\\categorical.py:3002: UserWarning: The `split` parameter has been renamed to `dodge`.\n",
      "  warnings.warn(msg, UserWarning)\n"
     ]
    },
    {
     "data": {
      "text/plain": [
       "<AxesSubplot:xlabel='features', ylabel='values'>"
      ]
     },
     "execution_count": 50,
     "metadata": {},
     "output_type": "execute_result"
    },
    {
     "data": {
      "image/png": "[encoded data removed]",
      "text/plain": [
       "<Figure size 432x432 with 1 Axes>"
      ]
     },
     "metadata": {
      "needs_background": "light"
     },
     "output_type": "display_data"
    }
   ],
   "source": [
    "fig,ax_swarm8 = plt.subplots(1,1,figsize = (6,6))\n",
    "sns.swarmplot(x = 'features',y = 'values',hue = 'labels',data = df_eda_melt.loc[df_eda_melt[\"features\"].isin([\"Feature 7\"])],split = True,ax = ax_swarm8,color = '.2')\n",
    "sns.boxplot(x = 'features',y = 'values',hue = 'labels',data = df_eda_melt.loc[df_eda_melt[\"features\"].isin([\"Feature 7\"])],ax = ax_swarm8)"
   ]
  },
  {
   "cell_type": "markdown",
   "metadata": {},
   "source": [
    "Feature 10: Mono CD64+MFI (cells/ul)"
   ]
  },
  {
   "cell_type": "code",
   "execution_count": 51,
   "metadata": {},
   "outputs": [
    {
     "name": "stderr",
     "output_type": "stream",
     "text": [
      "c:\\Users\\Pasindu.Samaranayake\\Desktop\\MSc\\Predicting_Pneumonia\\lib\\site-packages\\seaborn\\categorical.py:3002: UserWarning: The `split` parameter has been renamed to `dodge`.\n",
      "  warnings.warn(msg, UserWarning)\n"
     ]
    },
    {
     "data": {
      "text/plain": [
       "<AxesSubplot:xlabel='features', ylabel='values'>"
      ]
     },
     "execution_count": 51,
     "metadata": {},
     "output_type": "execute_result"
    },
    {
     "data": {
      "image/png": "[encoded data removed]",
      "text/plain": [
       "<Figure size 432x432 with 1 Axes>"
      ]
     },
     "metadata": {
      "needs_background": "light"
     },
     "output_type": "display_data"
    }
   ],
   "source": [
    "fig,ax_swarm9 = plt.subplots(1,1,figsize = (6,6))\n",
    "sns.swarmplot(x = 'features',y = 'values',hue = 'labels',data = df_eda_melt.loc[df_eda_melt[\"features\"].isin([\"Feature 10\"])],split = True,ax = ax_swarm9,color = '.2')\n",
    "sns.boxplot(x = 'features',y = 'values',hue = 'labels',data = df_eda_melt.loc[df_eda_melt[\"features\"].isin([\"Feature 10\"])],ax = ax_swarm9)"
   ]
  },
  {
   "cell_type": "markdown",
   "metadata": {},
   "source": [
    "Insight from swarm plots:\n",
    "\n",
    "Features 0 show similar distributions between both classes and no useful separation. \n",
    "\n",
    "Features 2,3,4 show similar distributions between both classes and no useful separation. Also these 3 features show very similar distributions for each feature itself. This suggests high correlation. \n",
    "\n",
    "Feature 6,7 show similar distributions between both classes and no useful separation. \n",
    "\n",
    "Feature 1 shows that all instances of class label 0 are much lower than that of class label 1. Hence we can create a categorical attribute of high risk and low risk.\n",
    "\n",
    "Feature 5 shows that all instances of class label 1 are concentrated below the 75th percentile. Hence we can create a categorical attribute with this feature anything below the 75th pecentile of Class label 1 is considered as high risk. \n",
    "\n",
    "In Feature 10, majority of the instances of class Label 0 are concentrated betwee the 25th and 75th percentiles hence all values of the 10th Feature below the 75th percentile can be considered as low risk. "
   ]
  },
  {
   "cell_type": "markdown",
   "metadata": {},
   "source": [
    "<h3>Removing highly correlated features</h3>"
   ]
  },
  {
   "cell_type": "code",
   "execution_count": 52,
   "metadata": {},
   "outputs": [
    {
     "data": {
      "text/html": [
       "<div>\n",
       "<style scoped>\n",
       "    .dataframe tbody tr th:only-of-type {\n",
       "        vertical-align: middle;\n",
       "    }\n",
       "\n",
       "    .dataframe tbody tr th {\n",
       "        vertical-align: top;\n",
       "    }\n",
       "\n",
       "    .dataframe thead th {\n",
       "        text-align: right;\n",
       "    }\n",
       "</style>\n",
       "<table border=\"1\" class=\"dataframe\">\n",
       "  <thead>\n",
       "    <tr style=\"text-align: right;\">\n",
       "      <th></th>\n",
       "      <th>Feature 0</th>\n",
       "      <th>Feature 1</th>\n",
       "      <th>Feature 2</th>\n",
       "      <th>Feature 3</th>\n",
       "      <th>Feature 4</th>\n",
       "      <th>Feature 5</th>\n",
       "      <th>Feature 6</th>\n",
       "      <th>Feature 7</th>\n",
       "      <th>Feature 10</th>\n",
       "    </tr>\n",
       "  </thead>\n",
       "  <tbody>\n",
       "    <tr>\n",
       "      <th>Feature 0</th>\n",
       "      <td>1.000000</td>\n",
       "      <td>0.063708</td>\n",
       "      <td>0.157413</td>\n",
       "      <td>0.051841</td>\n",
       "      <td>0.230044</td>\n",
       "      <td>0.207894</td>\n",
       "      <td>0.218618</td>\n",
       "      <td>0.185430</td>\n",
       "      <td>0.256809</td>\n",
       "    </tr>\n",
       "    <tr>\n",
       "      <th>Feature 1</th>\n",
       "      <td>0.063708</td>\n",
       "      <td>1.000000</td>\n",
       "      <td>0.231715</td>\n",
       "      <td>0.217413</td>\n",
       "      <td>0.226256</td>\n",
       "      <td>0.338621</td>\n",
       "      <td>0.306358</td>\n",
       "      <td>0.285247</td>\n",
       "      <td>0.697158</td>\n",
       "    </tr>\n",
       "    <tr>\n",
       "      <th>Feature 2</th>\n",
       "      <td>0.157413</td>\n",
       "      <td>0.231715</td>\n",
       "      <td>1.000000</td>\n",
       "      <td>0.929688</td>\n",
       "      <td>0.921121</td>\n",
       "      <td>0.539541</td>\n",
       "      <td>0.749094</td>\n",
       "      <td>0.979549</td>\n",
       "      <td>0.251021</td>\n",
       "    </tr>\n",
       "    <tr>\n",
       "      <th>Feature 3</th>\n",
       "      <td>0.051841</td>\n",
       "      <td>0.217413</td>\n",
       "      <td>0.929688</td>\n",
       "      <td>1.000000</td>\n",
       "      <td>0.726275</td>\n",
       "      <td>0.492948</td>\n",
       "      <td>0.661218</td>\n",
       "      <td>0.907453</td>\n",
       "      <td>0.230455</td>\n",
       "    </tr>\n",
       "    <tr>\n",
       "      <th>Feature 4</th>\n",
       "      <td>0.230044</td>\n",
       "      <td>0.226256</td>\n",
       "      <td>0.921121</td>\n",
       "      <td>0.726275</td>\n",
       "      <td>1.000000</td>\n",
       "      <td>0.526522</td>\n",
       "      <td>0.718261</td>\n",
       "      <td>0.910562</td>\n",
       "      <td>0.249551</td>\n",
       "    </tr>\n",
       "    <tr>\n",
       "      <th>Feature 5</th>\n",
       "      <td>0.207894</td>\n",
       "      <td>0.338621</td>\n",
       "      <td>0.539541</td>\n",
       "      <td>0.492948</td>\n",
       "      <td>0.526522</td>\n",
       "      <td>1.000000</td>\n",
       "      <td>0.477934</td>\n",
       "      <td>0.686380</td>\n",
       "      <td>0.243918</td>\n",
       "    </tr>\n",
       "    <tr>\n",
       "      <th>Feature 6</th>\n",
       "      <td>0.218618</td>\n",
       "      <td>0.306358</td>\n",
       "      <td>0.749094</td>\n",
       "      <td>0.661218</td>\n",
       "      <td>0.718261</td>\n",
       "      <td>0.477934</td>\n",
       "      <td>1.000000</td>\n",
       "      <td>0.793969</td>\n",
       "      <td>0.353336</td>\n",
       "    </tr>\n",
       "    <tr>\n",
       "      <th>Feature 7</th>\n",
       "      <td>0.185430</td>\n",
       "      <td>0.285247</td>\n",
       "      <td>0.979549</td>\n",
       "      <td>0.907453</td>\n",
       "      <td>0.910562</td>\n",
       "      <td>0.686380</td>\n",
       "      <td>0.793969</td>\n",
       "      <td>1.000000</td>\n",
       "      <td>0.285937</td>\n",
       "    </tr>\n",
       "    <tr>\n",
       "      <th>Feature 10</th>\n",
       "      <td>0.256809</td>\n",
       "      <td>0.697158</td>\n",
       "      <td>0.251021</td>\n",
       "      <td>0.230455</td>\n",
       "      <td>0.249551</td>\n",
       "      <td>0.243918</td>\n",
       "      <td>0.353336</td>\n",
       "      <td>0.285937</td>\n",
       "      <td>1.000000</td>\n",
       "    </tr>\n",
       "  </tbody>\n",
       "</table>\n",
       "</div>"
      ],
      "text/plain": [
       "            Feature 0  Feature 1  Feature 2  Feature 3  Feature 4  Feature 5  \\\n",
       "Feature 0    1.000000   0.063708   0.157413   0.051841   0.230044   0.207894   \n",
       "Feature 1    0.063708   1.000000   0.231715   0.217413   0.226256   0.338621   \n",
       "Feature 2    0.157413   0.231715   1.000000   0.929688   0.921121   0.539541   \n",
       "Feature 3    0.051841   0.217413   0.929688   1.000000   0.726275   0.492948   \n",
       "Feature 4    0.230044   0.226256   0.921121   0.726275   1.000000   0.526522   \n",
       "Feature 5    0.207894   0.338621   0.539541   0.492948   0.526522   1.000000   \n",
       "Feature 6    0.218618   0.306358   0.749094   0.661218   0.718261   0.477934   \n",
       "Feature 7    0.185430   0.285247   0.979549   0.907453   0.910562   0.686380   \n",
       "Feature 10   0.256809   0.697158   0.251021   0.230455   0.249551   0.243918   \n",
       "\n",
       "            Feature 6  Feature 7  Feature 10  \n",
       "Feature 0    0.218618   0.185430    0.256809  \n",
       "Feature 1    0.306358   0.285247    0.697158  \n",
       "Feature 2    0.749094   0.979549    0.251021  \n",
       "Feature 3    0.661218   0.907453    0.230455  \n",
       "Feature 4    0.718261   0.910562    0.249551  \n",
       "Feature 5    0.477934   0.686380    0.243918  \n",
       "Feature 6    1.000000   0.793969    0.353336  \n",
       "Feature 7    0.793969   1.000000    0.285937  \n",
       "Feature 10   0.353336   0.285937    1.000000  "
      ]
     },
     "execution_count": 52,
     "metadata": {},
     "output_type": "execute_result"
    }
   ],
   "source": [
    "corr_matrix = df_eda[[i for i in df_eda.columns.tolist() if i not in [\"Age\",\"Sex\",\"labels\"]]].corr().abs()\n",
    "corr_matrix"
   ]
  },
  {
   "cell_type": "code",
   "execution_count": 53,
   "metadata": {},
   "outputs": [
    {
     "name": "stderr",
     "output_type": "stream",
     "text": [
      "C:\\Users\\Pasindu.Samaranayake\\AppData\\Local\\Temp\\ipykernel_18736\\2817667643.py:1: DeprecationWarning: `np.bool` is a deprecated alias for the builtin `bool`. To silence this warning, use `bool` by itself. Doing this will not modify any behavior and is safe. If you specifically wanted the numpy scalar type, use `np.bool_` here.\n",
      "Deprecated in NumPy 1.20; for more details and guidance: https://numpy.org/devdocs/release/1.20.0-notes.html#deprecations\n",
      "  upper = corr_matrix.where(np.triu(np.ones(corr_matrix.shape),k = 1).astype(np.bool))\n"
     ]
    }
   ],
   "source": [
    "upper = corr_matrix.where(np.triu(np.ones(corr_matrix.shape),k = 1).astype(np.bool))"
   ]
  },
  {
   "cell_type": "code",
   "execution_count": 54,
   "metadata": {},
   "outputs": [
    {
     "data": {
      "text/html": [
       "<div>\n",
       "<style scoped>\n",
       "    .dataframe tbody tr th:only-of-type {\n",
       "        vertical-align: middle;\n",
       "    }\n",
       "\n",
       "    .dataframe tbody tr th {\n",
       "        vertical-align: top;\n",
       "    }\n",
       "\n",
       "    .dataframe thead th {\n",
       "        text-align: right;\n",
       "    }\n",
       "</style>\n",
       "<table border=\"1\" class=\"dataframe\">\n",
       "  <thead>\n",
       "    <tr style=\"text-align: right;\">\n",
       "      <th></th>\n",
       "      <th>Feature 0</th>\n",
       "      <th>Feature 1</th>\n",
       "      <th>Feature 2</th>\n",
       "      <th>Feature 3</th>\n",
       "      <th>Feature 4</th>\n",
       "      <th>Feature 5</th>\n",
       "      <th>Feature 6</th>\n",
       "      <th>Feature 7</th>\n",
       "      <th>Feature 10</th>\n",
       "    </tr>\n",
       "  </thead>\n",
       "  <tbody>\n",
       "    <tr>\n",
       "      <th>Feature 0</th>\n",
       "      <td>NaN</td>\n",
       "      <td>0.063708</td>\n",
       "      <td>0.157413</td>\n",
       "      <td>0.051841</td>\n",
       "      <td>0.230044</td>\n",
       "      <td>0.207894</td>\n",
       "      <td>0.218618</td>\n",
       "      <td>0.185430</td>\n",
       "      <td>0.256809</td>\n",
       "    </tr>\n",
       "    <tr>\n",
       "      <th>Feature 1</th>\n",
       "      <td>NaN</td>\n",
       "      <td>NaN</td>\n",
       "      <td>0.231715</td>\n",
       "      <td>0.217413</td>\n",
       "      <td>0.226256</td>\n",
       "      <td>0.338621</td>\n",
       "      <td>0.306358</td>\n",
       "      <td>0.285247</td>\n",
       "      <td>0.697158</td>\n",
       "    </tr>\n",
       "    <tr>\n",
       "      <th>Feature 2</th>\n",
       "      <td>NaN</td>\n",
       "      <td>NaN</td>\n",
       "      <td>NaN</td>\n",
       "      <td>0.929688</td>\n",
       "      <td>0.921121</td>\n",
       "      <td>0.539541</td>\n",
       "      <td>0.749094</td>\n",
       "      <td>0.979549</td>\n",
       "      <td>0.251021</td>\n",
       "    </tr>\n",
       "    <tr>\n",
       "      <th>Feature 3</th>\n",
       "      <td>NaN</td>\n",
       "      <td>NaN</td>\n",
       "      <td>NaN</td>\n",
       "      <td>NaN</td>\n",
       "      <td>0.726275</td>\n",
       "      <td>0.492948</td>\n",
       "      <td>0.661218</td>\n",
       "      <td>0.907453</td>\n",
       "      <td>0.230455</td>\n",
       "    </tr>\n",
       "    <tr>\n",
       "      <th>Feature 4</th>\n",
       "      <td>NaN</td>\n",
       "      <td>NaN</td>\n",
       "      <td>NaN</td>\n",
       "      <td>NaN</td>\n",
       "      <td>NaN</td>\n",
       "      <td>0.526522</td>\n",
       "      <td>0.718261</td>\n",
       "      <td>0.910562</td>\n",
       "      <td>0.249551</td>\n",
       "    </tr>\n",
       "    <tr>\n",
       "      <th>Feature 5</th>\n",
       "      <td>NaN</td>\n",
       "      <td>NaN</td>\n",
       "      <td>NaN</td>\n",
       "      <td>NaN</td>\n",
       "      <td>NaN</td>\n",
       "      <td>NaN</td>\n",
       "      <td>0.477934</td>\n",
       "      <td>0.686380</td>\n",
       "      <td>0.243918</td>\n",
       "    </tr>\n",
       "    <tr>\n",
       "      <th>Feature 6</th>\n",
       "      <td>NaN</td>\n",
       "      <td>NaN</td>\n",
       "      <td>NaN</td>\n",
       "      <td>NaN</td>\n",
       "      <td>NaN</td>\n",
       "      <td>NaN</td>\n",
       "      <td>NaN</td>\n",
       "      <td>0.793969</td>\n",
       "      <td>0.353336</td>\n",
       "    </tr>\n",
       "    <tr>\n",
       "      <th>Feature 7</th>\n",
       "      <td>NaN</td>\n",
       "      <td>NaN</td>\n",
       "      <td>NaN</td>\n",
       "      <td>NaN</td>\n",
       "      <td>NaN</td>\n",
       "      <td>NaN</td>\n",
       "      <td>NaN</td>\n",
       "      <td>NaN</td>\n",
       "      <td>0.285937</td>\n",
       "    </tr>\n",
       "    <tr>\n",
       "      <th>Feature 10</th>\n",
       "      <td>NaN</td>\n",
       "      <td>NaN</td>\n",
       "      <td>NaN</td>\n",
       "      <td>NaN</td>\n",
       "      <td>NaN</td>\n",
       "      <td>NaN</td>\n",
       "      <td>NaN</td>\n",
       "      <td>NaN</td>\n",
       "      <td>NaN</td>\n",
       "    </tr>\n",
       "  </tbody>\n",
       "</table>\n",
       "</div>"
      ],
      "text/plain": [
       "            Feature 0  Feature 1  Feature 2  Feature 3  Feature 4  Feature 5  \\\n",
       "Feature 0         NaN   0.063708   0.157413   0.051841   0.230044   0.207894   \n",
       "Feature 1         NaN        NaN   0.231715   0.217413   0.226256   0.338621   \n",
       "Feature 2         NaN        NaN        NaN   0.929688   0.921121   0.539541   \n",
       "Feature 3         NaN        NaN        NaN        NaN   0.726275   0.492948   \n",
       "Feature 4         NaN        NaN        NaN        NaN        NaN   0.526522   \n",
       "Feature 5         NaN        NaN        NaN        NaN        NaN        NaN   \n",
       "Feature 6         NaN        NaN        NaN        NaN        NaN        NaN   \n",
       "Feature 7         NaN        NaN        NaN        NaN        NaN        NaN   \n",
       "Feature 10        NaN        NaN        NaN        NaN        NaN        NaN   \n",
       "\n",
       "            Feature 6  Feature 7  Feature 10  \n",
       "Feature 0    0.218618   0.185430    0.256809  \n",
       "Feature 1    0.306358   0.285247    0.697158  \n",
       "Feature 2    0.749094   0.979549    0.251021  \n",
       "Feature 3    0.661218   0.907453    0.230455  \n",
       "Feature 4    0.718261   0.910562    0.249551  \n",
       "Feature 5    0.477934   0.686380    0.243918  \n",
       "Feature 6         NaN   0.793969    0.353336  \n",
       "Feature 7         NaN        NaN    0.285937  \n",
       "Feature 10        NaN        NaN         NaN  "
      ]
     },
     "execution_count": 54,
     "metadata": {},
     "output_type": "execute_result"
    }
   ],
   "source": [
    "upper"
   ]
  },
  {
   "cell_type": "markdown",
   "metadata": {},
   "source": [
    "As expected, from the above correlation matrix, we see that Features 2,3,4 are highly correlated. Also Feature 7 is highly correlated with Feature 2,3,4. Hence we shall remove all features with correlation above 0.9"
   ]
  },
  {
   "cell_type": "code",
   "execution_count": 55,
   "metadata": {},
   "outputs": [
    {
     "data": {
      "text/plain": [
       "{'Feature 3', 'Feature 4', 'Feature 7'}"
      ]
     },
     "execution_count": 55,
     "metadata": {},
     "output_type": "execute_result"
    }
   ],
   "source": [
    "cols_to_drop = set()\n",
    "for i in range(upper.shape[1]):\n",
    "    for j in range(i + 1,upper.shape[1]):\n",
    "        if upper.iloc[i,j] > 0.9:\n",
    "            cols_to_drop.add(upper.columns.tolist()[j])\n",
    "cols_to_drop"
   ]
  },
  {
   "cell_type": "markdown",
   "metadata": {},
   "source": [
    "Drop Features 3, 4 and 7"
   ]
  },
  {
   "cell_type": "code",
   "execution_count": 56,
   "metadata": {},
   "outputs": [
    {
     "data": {
      "text/html": [
       "<div>\n",
       "<style scoped>\n",
       "    .dataframe tbody tr th:only-of-type {\n",
       "        vertical-align: middle;\n",
       "    }\n",
       "\n",
       "    .dataframe tbody tr th {\n",
       "        vertical-align: top;\n",
       "    }\n",
       "\n",
       "    .dataframe thead th {\n",
       "        text-align: right;\n",
       "    }\n",
       "</style>\n",
       "<table border=\"1\" class=\"dataframe\">\n",
       "  <thead>\n",
       "    <tr style=\"text-align: right;\">\n",
       "      <th></th>\n",
       "      <th>Feature 0</th>\n",
       "      <th>Feature 1</th>\n",
       "      <th>Feature 2</th>\n",
       "      <th>Feature 5</th>\n",
       "      <th>Feature 6</th>\n",
       "      <th>Age</th>\n",
       "      <th>Sex</th>\n",
       "      <th>Feature 10</th>\n",
       "      <th>labels</th>\n",
       "    </tr>\n",
       "  </thead>\n",
       "  <tbody>\n",
       "    <tr>\n",
       "      <th>86</th>\n",
       "      <td>1076.992553</td>\n",
       "      <td>1269.764792</td>\n",
       "      <td>564.689801</td>\n",
       "      <td>76.560033</td>\n",
       "      <td>32.270733</td>\n",
       "      <td>53</td>\n",
       "      <td>0</td>\n",
       "      <td>5349.284871</td>\n",
       "      <td>1</td>\n",
       "    </tr>\n",
       "    <tr>\n",
       "      <th>89</th>\n",
       "      <td>496.291717</td>\n",
       "      <td>305.040596</td>\n",
       "      <td>501.754176</td>\n",
       "      <td>19.212571</td>\n",
       "      <td>49.954707</td>\n",
       "      <td>40</td>\n",
       "      <td>0</td>\n",
       "      <td>934.350369</td>\n",
       "      <td>1</td>\n",
       "    </tr>\n",
       "    <tr>\n",
       "      <th>19</th>\n",
       "      <td>403.000000</td>\n",
       "      <td>555.000000</td>\n",
       "      <td>313.480000</td>\n",
       "      <td>46.680000</td>\n",
       "      <td>7.900000</td>\n",
       "      <td>40</td>\n",
       "      <td>0</td>\n",
       "      <td>2209.000000</td>\n",
       "      <td>1</td>\n",
       "    </tr>\n",
       "    <tr>\n",
       "      <th>53</th>\n",
       "      <td>1558.000000</td>\n",
       "      <td>611.000000</td>\n",
       "      <td>359.150000</td>\n",
       "      <td>20.620000</td>\n",
       "      <td>81.520000</td>\n",
       "      <td>49</td>\n",
       "      <td>1</td>\n",
       "      <td>2189.000000</td>\n",
       "      <td>1</td>\n",
       "    </tr>\n",
       "    <tr>\n",
       "      <th>26</th>\n",
       "      <td>2088.000000</td>\n",
       "      <td>98.000000</td>\n",
       "      <td>962.300000</td>\n",
       "      <td>370.880000</td>\n",
       "      <td>142.890000</td>\n",
       "      <td>51</td>\n",
       "      <td>1</td>\n",
       "      <td>1599.000000</td>\n",
       "      <td>1</td>\n",
       "    </tr>\n",
       "    <tr>\n",
       "      <th>...</th>\n",
       "      <td>...</td>\n",
       "      <td>...</td>\n",
       "      <td>...</td>\n",
       "      <td>...</td>\n",
       "      <td>...</td>\n",
       "      <td>...</td>\n",
       "      <td>...</td>\n",
       "      <td>...</td>\n",
       "      <td>...</td>\n",
       "    </tr>\n",
       "    <tr>\n",
       "      <th>38</th>\n",
       "      <td>1010.000000</td>\n",
       "      <td>1384.000000</td>\n",
       "      <td>570.130000</td>\n",
       "      <td>80.170000</td>\n",
       "      <td>31.180000</td>\n",
       "      <td>56</td>\n",
       "      <td>1</td>\n",
       "      <td>5501.000000</td>\n",
       "      <td>1</td>\n",
       "    </tr>\n",
       "    <tr>\n",
       "      <th>56</th>\n",
       "      <td>365.000000</td>\n",
       "      <td>248.000000</td>\n",
       "      <td>300.750000</td>\n",
       "      <td>13.420000</td>\n",
       "      <td>52.910000</td>\n",
       "      <td>41</td>\n",
       "      <td>1</td>\n",
       "      <td>866.000000</td>\n",
       "      <td>1</td>\n",
       "    </tr>\n",
       "    <tr>\n",
       "      <th>58</th>\n",
       "      <td>631.000000</td>\n",
       "      <td>182.000000</td>\n",
       "      <td>675.100000</td>\n",
       "      <td>136.000000</td>\n",
       "      <td>56.230000</td>\n",
       "      <td>29</td>\n",
       "      <td>1</td>\n",
       "      <td>3990.000000</td>\n",
       "      <td>0</td>\n",
       "    </tr>\n",
       "    <tr>\n",
       "      <th>42</th>\n",
       "      <td>1679.000000</td>\n",
       "      <td>79.000000</td>\n",
       "      <td>483.210000</td>\n",
       "      <td>227.050000</td>\n",
       "      <td>101.090000</td>\n",
       "      <td>39</td>\n",
       "      <td>0</td>\n",
       "      <td>4480.000000</td>\n",
       "      <td>0</td>\n",
       "    </tr>\n",
       "    <tr>\n",
       "      <th>34</th>\n",
       "      <td>821.000000</td>\n",
       "      <td>134.000000</td>\n",
       "      <td>1134.740000</td>\n",
       "      <td>459.720000</td>\n",
       "      <td>23.870000</td>\n",
       "      <td>41</td>\n",
       "      <td>1</td>\n",
       "      <td>1893.000000</td>\n",
       "      <td>0</td>\n",
       "    </tr>\n",
       "  </tbody>\n",
       "</table>\n",
       "<p>91 rows × 9 columns</p>\n",
       "</div>"
      ],
      "text/plain": [
       "      Feature 0    Feature 1    Feature 2   Feature 5   Feature 6  Age  Sex  \\\n",
       "86  1076.992553  1269.764792   564.689801   76.560033   32.270733   53    0   \n",
       "89   496.291717   305.040596   501.754176   19.212571   49.954707   40    0   \n",
       "19   403.000000   555.000000   313.480000   46.680000    7.900000   40    0   \n",
       "53  1558.000000   611.000000   359.150000   20.620000   81.520000   49    1   \n",
       "26  2088.000000    98.000000   962.300000  370.880000  142.890000   51    1   \n",
       "..          ...          ...          ...         ...         ...  ...  ...   \n",
       "38  1010.000000  1384.000000   570.130000   80.170000   31.180000   56    1   \n",
       "56   365.000000   248.000000   300.750000   13.420000   52.910000   41    1   \n",
       "58   631.000000   182.000000   675.100000  136.000000   56.230000   29    1   \n",
       "42  1679.000000    79.000000   483.210000  227.050000  101.090000   39    0   \n",
       "34   821.000000   134.000000  1134.740000  459.720000   23.870000   41    1   \n",
       "\n",
       "     Feature 10  labels  \n",
       "86  5349.284871       1  \n",
       "89   934.350369       1  \n",
       "19  2209.000000       1  \n",
       "53  2189.000000       1  \n",
       "26  1599.000000       1  \n",
       "..          ...     ...  \n",
       "38  5501.000000       1  \n",
       "56   866.000000       1  \n",
       "58  3990.000000       0  \n",
       "42  4480.000000       0  \n",
       "34  1893.000000       0  \n",
       "\n",
       "[91 rows x 9 columns]"
      ]
     },
     "execution_count": 56,
     "metadata": {},
     "output_type": "execute_result"
    }
   ],
   "source": [
    "df_eda = df_eda.drop(list(cols_to_drop),axis = 1)\n",
    "df_eda"
   ]
  },
  {
   "cell_type": "code",
   "execution_count": 57,
   "metadata": {},
   "outputs": [
    {
     "data": {
      "text/html": [
       "<div>\n",
       "<style scoped>\n",
       "    .dataframe tbody tr th:only-of-type {\n",
       "        vertical-align: middle;\n",
       "    }\n",
       "\n",
       "    .dataframe tbody tr th {\n",
       "        vertical-align: top;\n",
       "    }\n",
       "\n",
       "    .dataframe thead th {\n",
       "        text-align: right;\n",
       "    }\n",
       "</style>\n",
       "<table border=\"1\" class=\"dataframe\">\n",
       "  <thead>\n",
       "    <tr style=\"text-align: right;\">\n",
       "      <th></th>\n",
       "      <th>Feature 0</th>\n",
       "      <th>Feature 1</th>\n",
       "      <th>Feature 2</th>\n",
       "      <th>Feature 5</th>\n",
       "      <th>Feature 6</th>\n",
       "      <th>Feature 10</th>\n",
       "    </tr>\n",
       "  </thead>\n",
       "  <tbody>\n",
       "    <tr>\n",
       "      <th>Feature 0</th>\n",
       "      <td>NaN</td>\n",
       "      <td>0.063708</td>\n",
       "      <td>0.157413</td>\n",
       "      <td>0.207894</td>\n",
       "      <td>0.218618</td>\n",
       "      <td>0.256809</td>\n",
       "    </tr>\n",
       "    <tr>\n",
       "      <th>Feature 1</th>\n",
       "      <td>NaN</td>\n",
       "      <td>NaN</td>\n",
       "      <td>0.231715</td>\n",
       "      <td>0.338621</td>\n",
       "      <td>0.306358</td>\n",
       "      <td>0.697158</td>\n",
       "    </tr>\n",
       "    <tr>\n",
       "      <th>Feature 2</th>\n",
       "      <td>NaN</td>\n",
       "      <td>NaN</td>\n",
       "      <td>NaN</td>\n",
       "      <td>0.539541</td>\n",
       "      <td>0.749094</td>\n",
       "      <td>0.251021</td>\n",
       "    </tr>\n",
       "    <tr>\n",
       "      <th>Feature 5</th>\n",
       "      <td>NaN</td>\n",
       "      <td>NaN</td>\n",
       "      <td>NaN</td>\n",
       "      <td>NaN</td>\n",
       "      <td>0.477934</td>\n",
       "      <td>0.243918</td>\n",
       "    </tr>\n",
       "    <tr>\n",
       "      <th>Feature 6</th>\n",
       "      <td>NaN</td>\n",
       "      <td>NaN</td>\n",
       "      <td>NaN</td>\n",
       "      <td>NaN</td>\n",
       "      <td>NaN</td>\n",
       "      <td>0.353336</td>\n",
       "    </tr>\n",
       "    <tr>\n",
       "      <th>Feature 10</th>\n",
       "      <td>NaN</td>\n",
       "      <td>NaN</td>\n",
       "      <td>NaN</td>\n",
       "      <td>NaN</td>\n",
       "      <td>NaN</td>\n",
       "      <td>NaN</td>\n",
       "    </tr>\n",
       "  </tbody>\n",
       "</table>\n",
       "</div>"
      ],
      "text/plain": [
       "            Feature 0  Feature 1  Feature 2  Feature 5  Feature 6  Feature 10\n",
       "Feature 0         NaN   0.063708   0.157413   0.207894   0.218618    0.256809\n",
       "Feature 1         NaN        NaN   0.231715   0.338621   0.306358    0.697158\n",
       "Feature 2         NaN        NaN        NaN   0.539541   0.749094    0.251021\n",
       "Feature 5         NaN        NaN        NaN        NaN   0.477934    0.243918\n",
       "Feature 6         NaN        NaN        NaN        NaN        NaN    0.353336\n",
       "Feature 10        NaN        NaN        NaN        NaN        NaN         NaN"
      ]
     },
     "execution_count": 57,
     "metadata": {},
     "output_type": "execute_result"
    }
   ],
   "source": [
    "df_eda[[i for i in df_eda.columns.tolist() if i not in [\"Age\",\"Sex\",\"labels\"]]].corr().abs().where(np.triu(np.ones(df_eda[[i for i in df_eda.columns.tolist() if i not in [\"Age\",\"Sex\",\"labels\"]]].corr().shape),k = 1).astype(bool))"
   ]
  },
  {
   "cell_type": "markdown",
   "metadata": {},
   "source": [
    "As proven in the earlier Exploratory Data Analysis, both Age and Sex also have no meaningful correlation with the response variable. Hence we can drop these too"
   ]
  },
  {
   "cell_type": "code",
   "execution_count": 58,
   "metadata": {},
   "outputs": [
    {
     "data": {
      "text/html": [
       "<div>\n",
       "<style scoped>\n",
       "    .dataframe tbody tr th:only-of-type {\n",
       "        vertical-align: middle;\n",
       "    }\n",
       "\n",
       "    .dataframe tbody tr th {\n",
       "        vertical-align: top;\n",
       "    }\n",
       "\n",
       "    .dataframe thead th {\n",
       "        text-align: right;\n",
       "    }\n",
       "</style>\n",
       "<table border=\"1\" class=\"dataframe\">\n",
       "  <thead>\n",
       "    <tr style=\"text-align: right;\">\n",
       "      <th></th>\n",
       "      <th>Feature 0</th>\n",
       "      <th>Feature 1</th>\n",
       "      <th>Feature 2</th>\n",
       "      <th>Feature 5</th>\n",
       "      <th>Feature 6</th>\n",
       "      <th>Feature 10</th>\n",
       "      <th>labels</th>\n",
       "    </tr>\n",
       "  </thead>\n",
       "  <tbody>\n",
       "    <tr>\n",
       "      <th>86</th>\n",
       "      <td>1076.992553</td>\n",
       "      <td>1269.764792</td>\n",
       "      <td>564.689801</td>\n",
       "      <td>76.560033</td>\n",
       "      <td>32.270733</td>\n",
       "      <td>5349.284871</td>\n",
       "      <td>1</td>\n",
       "    </tr>\n",
       "    <tr>\n",
       "      <th>89</th>\n",
       "      <td>496.291717</td>\n",
       "      <td>305.040596</td>\n",
       "      <td>501.754176</td>\n",
       "      <td>19.212571</td>\n",
       "      <td>49.954707</td>\n",
       "      <td>934.350369</td>\n",
       "      <td>1</td>\n",
       "    </tr>\n",
       "    <tr>\n",
       "      <th>19</th>\n",
       "      <td>403.000000</td>\n",
       "      <td>555.000000</td>\n",
       "      <td>313.480000</td>\n",
       "      <td>46.680000</td>\n",
       "      <td>7.900000</td>\n",
       "      <td>2209.000000</td>\n",
       "      <td>1</td>\n",
       "    </tr>\n",
       "    <tr>\n",
       "      <th>53</th>\n",
       "      <td>1558.000000</td>\n",
       "      <td>611.000000</td>\n",
       "      <td>359.150000</td>\n",
       "      <td>20.620000</td>\n",
       "      <td>81.520000</td>\n",
       "      <td>2189.000000</td>\n",
       "      <td>1</td>\n",
       "    </tr>\n",
       "    <tr>\n",
       "      <th>26</th>\n",
       "      <td>2088.000000</td>\n",
       "      <td>98.000000</td>\n",
       "      <td>962.300000</td>\n",
       "      <td>370.880000</td>\n",
       "      <td>142.890000</td>\n",
       "      <td>1599.000000</td>\n",
       "      <td>1</td>\n",
       "    </tr>\n",
       "    <tr>\n",
       "      <th>...</th>\n",
       "      <td>...</td>\n",
       "      <td>...</td>\n",
       "      <td>...</td>\n",
       "      <td>...</td>\n",
       "      <td>...</td>\n",
       "      <td>...</td>\n",
       "      <td>...</td>\n",
       "    </tr>\n",
       "    <tr>\n",
       "      <th>38</th>\n",
       "      <td>1010.000000</td>\n",
       "      <td>1384.000000</td>\n",
       "      <td>570.130000</td>\n",
       "      <td>80.170000</td>\n",
       "      <td>31.180000</td>\n",
       "      <td>5501.000000</td>\n",
       "      <td>1</td>\n",
       "    </tr>\n",
       "    <tr>\n",
       "      <th>56</th>\n",
       "      <td>365.000000</td>\n",
       "      <td>248.000000</td>\n",
       "      <td>300.750000</td>\n",
       "      <td>13.420000</td>\n",
       "      <td>52.910000</td>\n",
       "      <td>866.000000</td>\n",
       "      <td>1</td>\n",
       "    </tr>\n",
       "    <tr>\n",
       "      <th>58</th>\n",
       "      <td>631.000000</td>\n",
       "      <td>182.000000</td>\n",
       "      <td>675.100000</td>\n",
       "      <td>136.000000</td>\n",
       "      <td>56.230000</td>\n",
       "      <td>3990.000000</td>\n",
       "      <td>0</td>\n",
       "    </tr>\n",
       "    <tr>\n",
       "      <th>42</th>\n",
       "      <td>1679.000000</td>\n",
       "      <td>79.000000</td>\n",
       "      <td>483.210000</td>\n",
       "      <td>227.050000</td>\n",
       "      <td>101.090000</td>\n",
       "      <td>4480.000000</td>\n",
       "      <td>0</td>\n",
       "    </tr>\n",
       "    <tr>\n",
       "      <th>34</th>\n",
       "      <td>821.000000</td>\n",
       "      <td>134.000000</td>\n",
       "      <td>1134.740000</td>\n",
       "      <td>459.720000</td>\n",
       "      <td>23.870000</td>\n",
       "      <td>1893.000000</td>\n",
       "      <td>0</td>\n",
       "    </tr>\n",
       "  </tbody>\n",
       "</table>\n",
       "<p>91 rows × 7 columns</p>\n",
       "</div>"
      ],
      "text/plain": [
       "      Feature 0    Feature 1    Feature 2   Feature 5   Feature 6  \\\n",
       "86  1076.992553  1269.764792   564.689801   76.560033   32.270733   \n",
       "89   496.291717   305.040596   501.754176   19.212571   49.954707   \n",
       "19   403.000000   555.000000   313.480000   46.680000    7.900000   \n",
       "53  1558.000000   611.000000   359.150000   20.620000   81.520000   \n",
       "26  2088.000000    98.000000   962.300000  370.880000  142.890000   \n",
       "..          ...          ...          ...         ...         ...   \n",
       "38  1010.000000  1384.000000   570.130000   80.170000   31.180000   \n",
       "56   365.000000   248.000000   300.750000   13.420000   52.910000   \n",
       "58   631.000000   182.000000   675.100000  136.000000   56.230000   \n",
       "42  1679.000000    79.000000   483.210000  227.050000  101.090000   \n",
       "34   821.000000   134.000000  1134.740000  459.720000   23.870000   \n",
       "\n",
       "     Feature 10  labels  \n",
       "86  5349.284871       1  \n",
       "89   934.350369       1  \n",
       "19  2209.000000       1  \n",
       "53  2189.000000       1  \n",
       "26  1599.000000       1  \n",
       "..          ...     ...  \n",
       "38  5501.000000       1  \n",
       "56   866.000000       1  \n",
       "58  3990.000000       0  \n",
       "42  4480.000000       0  \n",
       "34  1893.000000       0  \n",
       "\n",
       "[91 rows x 7 columns]"
      ]
     },
     "execution_count": 58,
     "metadata": {},
     "output_type": "execute_result"
    }
   ],
   "source": [
    "df_eda = df_eda.drop([\"Age\",\"Sex\"],axis = 1)\n",
    "df_eda"
   ]
  },
  {
   "cell_type": "markdown",
   "metadata": {},
   "source": [
    "Feature engineering"
   ]
  },
  {
   "cell_type": "markdown",
   "metadata": {},
   "source": [
    "1) New categorical attribute will be created using feature 1. The instances with Feature 1 values < the 75th Percentile + 1.5IQR of feature 1 in class 0 will be considered as low risk\n",
    "\n",
    "2) New categorical attribute will be created using feature 5. The instances with Feature 5 values < the 75th Percentile feature 5 in class 1 will be considered as high risk\n",
    "\n",
    "3) New categorical attribute will be created using feature 10. The instances with Feature 10 values < the 75th Percentile feature 10 in class 0 will be considered as low risk"
   ]
  },
  {
   "cell_type": "code",
   "execution_count": 59,
   "metadata": {},
   "outputs": [
    {
     "data": {
      "text/html": [
       "<div>\n",
       "<style scoped>\n",
       "    .dataframe tbody tr th:only-of-type {\n",
       "        vertical-align: middle;\n",
       "    }\n",
       "\n",
       "    .dataframe tbody tr th {\n",
       "        vertical-align: top;\n",
       "    }\n",
       "\n",
       "    .dataframe thead th {\n",
       "        text-align: right;\n",
       "    }\n",
       "</style>\n",
       "<table border=\"1\" class=\"dataframe\">\n",
       "  <thead>\n",
       "    <tr style=\"text-align: right;\">\n",
       "      <th></th>\n",
       "      <th>Feature 0</th>\n",
       "      <th>Feature 1</th>\n",
       "      <th>Feature 2</th>\n",
       "      <th>Feature 5</th>\n",
       "      <th>Feature 6</th>\n",
       "      <th>Feature 10</th>\n",
       "      <th>labels</th>\n",
       "      <th>Feature 1_Cat</th>\n",
       "      <th>Feature 5_Cat</th>\n",
       "      <th>Feature 10_Cat</th>\n",
       "    </tr>\n",
       "  </thead>\n",
       "  <tbody>\n",
       "    <tr>\n",
       "      <th>86</th>\n",
       "      <td>1076.992553</td>\n",
       "      <td>1269.764792</td>\n",
       "      <td>564.689801</td>\n",
       "      <td>76.560033</td>\n",
       "      <td>32.270733</td>\n",
       "      <td>5349.284871</td>\n",
       "      <td>1</td>\n",
       "      <td>High Risk</td>\n",
       "      <td>High Risk</td>\n",
       "      <td>High Risk</td>\n",
       "    </tr>\n",
       "    <tr>\n",
       "      <th>89</th>\n",
       "      <td>496.291717</td>\n",
       "      <td>305.040596</td>\n",
       "      <td>501.754176</td>\n",
       "      <td>19.212571</td>\n",
       "      <td>49.954707</td>\n",
       "      <td>934.350369</td>\n",
       "      <td>1</td>\n",
       "      <td>High Risk</td>\n",
       "      <td>High Risk</td>\n",
       "      <td>Low Risk</td>\n",
       "    </tr>\n",
       "    <tr>\n",
       "      <th>19</th>\n",
       "      <td>403.000000</td>\n",
       "      <td>555.000000</td>\n",
       "      <td>313.480000</td>\n",
       "      <td>46.680000</td>\n",
       "      <td>7.900000</td>\n",
       "      <td>2209.000000</td>\n",
       "      <td>1</td>\n",
       "      <td>High Risk</td>\n",
       "      <td>High Risk</td>\n",
       "      <td>High Risk</td>\n",
       "    </tr>\n",
       "    <tr>\n",
       "      <th>53</th>\n",
       "      <td>1558.000000</td>\n",
       "      <td>611.000000</td>\n",
       "      <td>359.150000</td>\n",
       "      <td>20.620000</td>\n",
       "      <td>81.520000</td>\n",
       "      <td>2189.000000</td>\n",
       "      <td>1</td>\n",
       "      <td>High Risk</td>\n",
       "      <td>High Risk</td>\n",
       "      <td>High Risk</td>\n",
       "    </tr>\n",
       "    <tr>\n",
       "      <th>26</th>\n",
       "      <td>2088.000000</td>\n",
       "      <td>98.000000</td>\n",
       "      <td>962.300000</td>\n",
       "      <td>370.880000</td>\n",
       "      <td>142.890000</td>\n",
       "      <td>1599.000000</td>\n",
       "      <td>1</td>\n",
       "      <td>Low Risk</td>\n",
       "      <td>Low Risk</td>\n",
       "      <td>Low Risk</td>\n",
       "    </tr>\n",
       "    <tr>\n",
       "      <th>...</th>\n",
       "      <td>...</td>\n",
       "      <td>...</td>\n",
       "      <td>...</td>\n",
       "      <td>...</td>\n",
       "      <td>...</td>\n",
       "      <td>...</td>\n",
       "      <td>...</td>\n",
       "      <td>...</td>\n",
       "      <td>...</td>\n",
       "      <td>...</td>\n",
       "    </tr>\n",
       "    <tr>\n",
       "      <th>38</th>\n",
       "      <td>1010.000000</td>\n",
       "      <td>1384.000000</td>\n",
       "      <td>570.130000</td>\n",
       "      <td>80.170000</td>\n",
       "      <td>31.180000</td>\n",
       "      <td>5501.000000</td>\n",
       "      <td>1</td>\n",
       "      <td>High Risk</td>\n",
       "      <td>High Risk</td>\n",
       "      <td>High Risk</td>\n",
       "    </tr>\n",
       "    <tr>\n",
       "      <th>56</th>\n",
       "      <td>365.000000</td>\n",
       "      <td>248.000000</td>\n",
       "      <td>300.750000</td>\n",
       "      <td>13.420000</td>\n",
       "      <td>52.910000</td>\n",
       "      <td>866.000000</td>\n",
       "      <td>1</td>\n",
       "      <td>High Risk</td>\n",
       "      <td>High Risk</td>\n",
       "      <td>Low Risk</td>\n",
       "    </tr>\n",
       "    <tr>\n",
       "      <th>58</th>\n",
       "      <td>631.000000</td>\n",
       "      <td>182.000000</td>\n",
       "      <td>675.100000</td>\n",
       "      <td>136.000000</td>\n",
       "      <td>56.230000</td>\n",
       "      <td>3990.000000</td>\n",
       "      <td>0</td>\n",
       "      <td>Low Risk</td>\n",
       "      <td>Low Risk</td>\n",
       "      <td>High Risk</td>\n",
       "    </tr>\n",
       "    <tr>\n",
       "      <th>42</th>\n",
       "      <td>1679.000000</td>\n",
       "      <td>79.000000</td>\n",
       "      <td>483.210000</td>\n",
       "      <td>227.050000</td>\n",
       "      <td>101.090000</td>\n",
       "      <td>4480.000000</td>\n",
       "      <td>0</td>\n",
       "      <td>Low Risk</td>\n",
       "      <td>Low Risk</td>\n",
       "      <td>High Risk</td>\n",
       "    </tr>\n",
       "    <tr>\n",
       "      <th>34</th>\n",
       "      <td>821.000000</td>\n",
       "      <td>134.000000</td>\n",
       "      <td>1134.740000</td>\n",
       "      <td>459.720000</td>\n",
       "      <td>23.870000</td>\n",
       "      <td>1893.000000</td>\n",
       "      <td>0</td>\n",
       "      <td>Low Risk</td>\n",
       "      <td>Low Risk</td>\n",
       "      <td>Low Risk</td>\n",
       "    </tr>\n",
       "  </tbody>\n",
       "</table>\n",
       "<p>91 rows × 10 columns</p>\n",
       "</div>"
      ],
      "text/plain": [
       "      Feature 0    Feature 1    Feature 2   Feature 5   Feature 6  \\\n",
       "86  1076.992553  1269.764792   564.689801   76.560033   32.270733   \n",
       "89   496.291717   305.040596   501.754176   19.212571   49.954707   \n",
       "19   403.000000   555.000000   313.480000   46.680000    7.900000   \n",
       "53  1558.000000   611.000000   359.150000   20.620000   81.520000   \n",
       "26  2088.000000    98.000000   962.300000  370.880000  142.890000   \n",
       "..          ...          ...          ...         ...         ...   \n",
       "38  1010.000000  1384.000000   570.130000   80.170000   31.180000   \n",
       "56   365.000000   248.000000   300.750000   13.420000   52.910000   \n",
       "58   631.000000   182.000000   675.100000  136.000000   56.230000   \n",
       "42  1679.000000    79.000000   483.210000  227.050000  101.090000   \n",
       "34   821.000000   134.000000  1134.740000  459.720000   23.870000   \n",
       "\n",
       "     Feature 10  labels Feature 1_Cat Feature 5_Cat Feature 10_Cat  \n",
       "86  5349.284871       1     High Risk     High Risk      High Risk  \n",
       "89   934.350369       1     High Risk     High Risk       Low Risk  \n",
       "19  2209.000000       1     High Risk     High Risk      High Risk  \n",
       "53  2189.000000       1     High Risk     High Risk      High Risk  \n",
       "26  1599.000000       1      Low Risk      Low Risk       Low Risk  \n",
       "..          ...     ...           ...           ...            ...  \n",
       "38  5501.000000       1     High Risk     High Risk      High Risk  \n",
       "56   866.000000       1     High Risk     High Risk       Low Risk  \n",
       "58  3990.000000       0      Low Risk      Low Risk      High Risk  \n",
       "42  4480.000000       0      Low Risk      Low Risk      High Risk  \n",
       "34  1893.000000       0      Low Risk      Low Risk       Low Risk  \n",
       "\n",
       "[91 rows x 10 columns]"
      ]
     },
     "execution_count": 59,
     "metadata": {},
     "output_type": "execute_result"
    }
   ],
   "source": [
    "feature_eng = feature_engineering()\n",
    "df_eda = feature_eng.feature0_fit_transform(df_eda)\n",
    "df_eda = feature_eng.feature5_fit_transform(df_eda)\n",
    "df_eda = feature_eng.feature10_fit_transform(df_eda)\n",
    "df_eda"
   ]
  },
  {
   "cell_type": "markdown",
   "metadata": {},
   "source": [
    "Assessment of the feature engineering\n",
    "\n",
    "3 new features are made:\n",
    "\n",
    "- Feature 1_Cat\n",
    "- Feature 5_Cat\n",
    "- Feature 10_Cat"
   ]
  },
  {
   "cell_type": "code",
   "execution_count": 60,
   "metadata": {},
   "outputs": [
    {
     "name": "stderr",
     "output_type": "stream",
     "text": [
      "c:\\Users\\Pasindu.Samaranayake\\Desktop\\MSc\\Predicting_Pneumonia\\lib\\site-packages\\seaborn\\_decorators.py:36: FutureWarning: Pass the following variable as a keyword arg: x. From version 0.12, the only valid positional argument will be `data`, and passing other arguments without an explicit keyword will result in an error or misinterpretation.\n",
      "  warnings.warn(\n"
     ]
    },
    {
     "data": {
      "text/plain": [
       "<AxesSubplot:xlabel='labels', ylabel='count'>"
      ]
     },
     "execution_count": 60,
     "metadata": {},
     "output_type": "execute_result"
    },
    {
     "data": {
      "image/png": "[encoded data removed]",
      "text/plain": [
       "<Figure size 432x288 with 1 Axes>"
      ]
     },
     "metadata": {
      "needs_background": "light"
     },
     "output_type": "display_data"
    }
   ],
   "source": [
    "sns.countplot(df_eda[\"labels\"])"
   ]
  },
  {
   "cell_type": "code",
   "execution_count": 61,
   "metadata": {},
   "outputs": [
    {
     "data": {
      "text/plain": [
       "Counter({1: 46, 0: 45})"
      ]
     },
     "execution_count": 61,
     "metadata": {},
     "output_type": "execute_result"
    }
   ],
   "source": [
    "Counter(df_eda[\"labels\"])"
   ]
  },
  {
   "cell_type": "markdown",
   "metadata": {},
   "source": [
    "There are 46 cases of Positive instances and 45 cases of negative instances. "
   ]
  },
  {
   "cell_type": "markdown",
   "metadata": {},
   "source": [
    "High Risk in Feature 1_Cat"
   ]
  },
  {
   "cell_type": "code",
   "execution_count": 62,
   "metadata": {},
   "outputs": [
    {
     "name": "stderr",
     "output_type": "stream",
     "text": [
      "c:\\Users\\Pasindu.Samaranayake\\Desktop\\MSc\\Predicting_Pneumonia\\lib\\site-packages\\seaborn\\_decorators.py:36: FutureWarning: Pass the following variable as a keyword arg: x. From version 0.12, the only valid positional argument will be `data`, and passing other arguments without an explicit keyword will result in an error or misinterpretation.\n",
      "  warnings.warn(\n"
     ]
    },
    {
     "data": {
      "text/plain": [
       "<AxesSubplot:xlabel='labels', ylabel='count'>"
      ]
     },
     "execution_count": 62,
     "metadata": {},
     "output_type": "execute_result"
    },
    {
     "data": {
      "image/png": "[encoded data removed]",
      "text/plain": [
       "<Figure size 432x288 with 1 Axes>"
      ]
     },
     "metadata": {
      "needs_background": "light"
     },
     "output_type": "display_data"
    }
   ],
   "source": [
    "sns.countplot(df_eda.loc[(df_eda[\"Feature 1_Cat\"] == \"High Risk\")][\"labels\"])"
   ]
  },
  {
   "cell_type": "code",
   "execution_count": 63,
   "metadata": {},
   "outputs": [
    {
     "data": {
      "text/plain": [
       "Counter({1: 36, 0: 1})"
      ]
     },
     "execution_count": 63,
     "metadata": {},
     "output_type": "execute_result"
    }
   ],
   "source": [
    "Counter(df_eda.loc[(df_eda[\"Feature 1_Cat\"] == \"High Risk\")][\"labels\"])"
   ]
  },
  {
   "cell_type": "markdown",
   "metadata": {},
   "source": [
    "Out of the 46 positive cases, Simply using the \"Feature 1_Cat\" = High Risk rule results in capturing 37 Positive cases being correctly classified and 1 Negative case being mistakenly classified as positive. That is a precision of 97% with recall of 80% from one feature. Hence this allows for a good rule."
   ]
  },
  {
   "cell_type": "markdown",
   "metadata": {},
   "source": [
    "High Risk in Feature 5_Cat"
   ]
  },
  {
   "cell_type": "code",
   "execution_count": 64,
   "metadata": {},
   "outputs": [
    {
     "name": "stderr",
     "output_type": "stream",
     "text": [
      "c:\\Users\\Pasindu.Samaranayake\\Desktop\\MSc\\Predicting_Pneumonia\\lib\\site-packages\\seaborn\\_decorators.py:36: FutureWarning: Pass the following variable as a keyword arg: x. From version 0.12, the only valid positional argument will be `data`, and passing other arguments without an explicit keyword will result in an error or misinterpretation.\n",
      "  warnings.warn(\n"
     ]
    },
    {
     "data": {
      "text/plain": [
       "<AxesSubplot:xlabel='labels', ylabel='count'>"
      ]
     },
     "execution_count": 64,
     "metadata": {},
     "output_type": "execute_result"
    },
    {
     "data": {
      "image/png": "[encoded data removed]",
      "text/plain": [
       "<Figure size 432x288 with 1 Axes>"
      ]
     },
     "metadata": {
      "needs_background": "light"
     },
     "output_type": "display_data"
    }
   ],
   "source": [
    "sns.countplot(df_eda.loc[(df_eda[\"Feature 5_Cat\"] == \"High Risk\")][\"labels\"])"
   ]
  },
  {
   "cell_type": "code",
   "execution_count": 65,
   "metadata": {},
   "outputs": [
    {
     "data": {
      "text/plain": [
       "Counter({1: 34, 0: 6})"
      ]
     },
     "execution_count": 65,
     "metadata": {},
     "output_type": "execute_result"
    }
   ],
   "source": [
    "Counter(df_eda.loc[(df_eda[\"Feature 5_Cat\"] == \"High Risk\")][\"labels\"])"
   ]
  },
  {
   "cell_type": "markdown",
   "metadata": {},
   "source": [
    "Out of the 46 positive cases, Simply using the \"Feature 5_Cat\" = High Risk rule results in capturing 34 Positive cases being correctly classified and 5 Negative case being mistakenly classified as positive. That is a precision of 87% with recall of 74% from one feature. Hence this allows for a good rule."
   ]
  },
  {
   "cell_type": "markdown",
   "metadata": {},
   "source": [
    "High Risk in Feature 10_Cat"
   ]
  },
  {
   "cell_type": "code",
   "execution_count": 66,
   "metadata": {},
   "outputs": [
    {
     "name": "stderr",
     "output_type": "stream",
     "text": [
      "c:\\Users\\Pasindu.Samaranayake\\Desktop\\MSc\\Predicting_Pneumonia\\lib\\site-packages\\seaborn\\_decorators.py:36: FutureWarning: Pass the following variable as a keyword arg: x. From version 0.12, the only valid positional argument will be `data`, and passing other arguments without an explicit keyword will result in an error or misinterpretation.\n",
      "  warnings.warn(\n"
     ]
    },
    {
     "data": {
      "text/plain": [
       "<AxesSubplot:xlabel='labels', ylabel='count'>"
      ]
     },
     "execution_count": 66,
     "metadata": {},
     "output_type": "execute_result"
    },
    {
     "data": {
      "image/png": "[encoded data removed]",
      "text/plain": [
       "<Figure size 432x288 with 1 Axes>"
      ]
     },
     "metadata": {
      "needs_background": "light"
     },
     "output_type": "display_data"
    }
   ],
   "source": [
    "sns.countplot(df_eda.loc[(df_eda[\"Feature 10_Cat\"] == \"High Risk\")][\"labels\"])"
   ]
  },
  {
   "cell_type": "code",
   "execution_count": 67,
   "metadata": {},
   "outputs": [
    {
     "data": {
      "text/plain": [
       "Counter({1: 32, 0: 11})"
      ]
     },
     "execution_count": 67,
     "metadata": {},
     "output_type": "execute_result"
    }
   ],
   "source": [
    "Counter(df_eda.loc[(df_eda[\"Feature 10_Cat\"] == \"High Risk\")][\"labels\"])"
   ]
  },
  {
   "cell_type": "markdown",
   "metadata": {},
   "source": [
    "\"Feature 10_Cat\" is not a good feature in comparison to \"Feature 1_Cat\" and \"Feature 5_Cat\". Nevertheless it can be used for the classifier"
   ]
  },
  {
   "cell_type": "code",
   "execution_count": 68,
   "metadata": {},
   "outputs": [
    {
     "data": {
      "text/plain": [
       "Counter({1: 34, 0: 6})"
      ]
     },
     "execution_count": 68,
     "metadata": {},
     "output_type": "execute_result"
    }
   ],
   "source": [
    "Counter(df_eda.loc[(df_eda[\"Feature 5_Cat\"] == \"High Risk\")][\"labels\"])"
   ]
  },
  {
   "cell_type": "code",
   "execution_count": 69,
   "metadata": {},
   "outputs": [
    {
     "data": {
      "text/plain": [
       "{0: 45, 1: 46}"
      ]
     },
     "execution_count": 69,
     "metadata": {},
     "output_type": "execute_result"
    }
   ],
   "source": [
    "{k:grp.shape[0] for k,grp in df_eda.groupby(\"labels\")}"
   ]
  },
  {
   "cell_type": "code",
   "execution_count": 70,
   "metadata": {},
   "outputs": [],
   "source": [
    "df_eda_2 = df_eda.drop([\"Feature 1\",\"Feature 5\",\"Feature 10\"],axis = 1)"
   ]
  },
  {
   "cell_type": "code",
   "execution_count": 71,
   "metadata": {},
   "outputs": [
    {
     "data": {
      "text/html": [
       "<div>\n",
       "<style scoped>\n",
       "    .dataframe tbody tr th:only-of-type {\n",
       "        vertical-align: middle;\n",
       "    }\n",
       "\n",
       "    .dataframe tbody tr th {\n",
       "        vertical-align: top;\n",
       "    }\n",
       "\n",
       "    .dataframe thead th {\n",
       "        text-align: right;\n",
       "    }\n",
       "</style>\n",
       "<table border=\"1\" class=\"dataframe\">\n",
       "  <thead>\n",
       "    <tr style=\"text-align: right;\">\n",
       "      <th></th>\n",
       "      <th>Feature 0</th>\n",
       "      <th>Feature 2</th>\n",
       "      <th>Feature 6</th>\n",
       "      <th>Feature 1_Cat_High Risk</th>\n",
       "      <th>Feature 1_Cat_Low Risk</th>\n",
       "      <th>Feature 5_Cat_High Risk</th>\n",
       "      <th>Feature 5_Cat_Low Risk</th>\n",
       "      <th>Feature 10_Cat_High Risk</th>\n",
       "      <th>Feature 10_Cat_Low Risk</th>\n",
       "      <th>labels</th>\n",
       "    </tr>\n",
       "  </thead>\n",
       "  <tbody>\n",
       "    <tr>\n",
       "      <th>86</th>\n",
       "      <td>1076.992553</td>\n",
       "      <td>564.689801</td>\n",
       "      <td>32.270733</td>\n",
       "      <td>1</td>\n",
       "      <td>0</td>\n",
       "      <td>1</td>\n",
       "      <td>0</td>\n",
       "      <td>1</td>\n",
       "      <td>0</td>\n",
       "      <td>1</td>\n",
       "    </tr>\n",
       "    <tr>\n",
       "      <th>89</th>\n",
       "      <td>496.291717</td>\n",
       "      <td>501.754176</td>\n",
       "      <td>49.954707</td>\n",
       "      <td>1</td>\n",
       "      <td>0</td>\n",
       "      <td>1</td>\n",
       "      <td>0</td>\n",
       "      <td>0</td>\n",
       "      <td>1</td>\n",
       "      <td>1</td>\n",
       "    </tr>\n",
       "    <tr>\n",
       "      <th>19</th>\n",
       "      <td>403.000000</td>\n",
       "      <td>313.480000</td>\n",
       "      <td>7.900000</td>\n",
       "      <td>1</td>\n",
       "      <td>0</td>\n",
       "      <td>1</td>\n",
       "      <td>0</td>\n",
       "      <td>1</td>\n",
       "      <td>0</td>\n",
       "      <td>1</td>\n",
       "    </tr>\n",
       "    <tr>\n",
       "      <th>53</th>\n",
       "      <td>1558.000000</td>\n",
       "      <td>359.150000</td>\n",
       "      <td>81.520000</td>\n",
       "      <td>1</td>\n",
       "      <td>0</td>\n",
       "      <td>1</td>\n",
       "      <td>0</td>\n",
       "      <td>1</td>\n",
       "      <td>0</td>\n",
       "      <td>1</td>\n",
       "    </tr>\n",
       "    <tr>\n",
       "      <th>26</th>\n",
       "      <td>2088.000000</td>\n",
       "      <td>962.300000</td>\n",
       "      <td>142.890000</td>\n",
       "      <td>0</td>\n",
       "      <td>1</td>\n",
       "      <td>0</td>\n",
       "      <td>1</td>\n",
       "      <td>0</td>\n",
       "      <td>1</td>\n",
       "      <td>1</td>\n",
       "    </tr>\n",
       "    <tr>\n",
       "      <th>...</th>\n",
       "      <td>...</td>\n",
       "      <td>...</td>\n",
       "      <td>...</td>\n",
       "      <td>...</td>\n",
       "      <td>...</td>\n",
       "      <td>...</td>\n",
       "      <td>...</td>\n",
       "      <td>...</td>\n",
       "      <td>...</td>\n",
       "      <td>...</td>\n",
       "    </tr>\n",
       "    <tr>\n",
       "      <th>38</th>\n",
       "      <td>1010.000000</td>\n",
       "      <td>570.130000</td>\n",
       "      <td>31.180000</td>\n",
       "      <td>1</td>\n",
       "      <td>0</td>\n",
       "      <td>1</td>\n",
       "      <td>0</td>\n",
       "      <td>1</td>\n",
       "      <td>0</td>\n",
       "      <td>1</td>\n",
       "    </tr>\n",
       "    <tr>\n",
       "      <th>56</th>\n",
       "      <td>365.000000</td>\n",
       "      <td>300.750000</td>\n",
       "      <td>52.910000</td>\n",
       "      <td>1</td>\n",
       "      <td>0</td>\n",
       "      <td>1</td>\n",
       "      <td>0</td>\n",
       "      <td>0</td>\n",
       "      <td>1</td>\n",
       "      <td>1</td>\n",
       "    </tr>\n",
       "    <tr>\n",
       "      <th>58</th>\n",
       "      <td>631.000000</td>\n",
       "      <td>675.100000</td>\n",
       "      <td>56.230000</td>\n",
       "      <td>0</td>\n",
       "      <td>1</td>\n",
       "      <td>0</td>\n",
       "      <td>1</td>\n",
       "      <td>1</td>\n",
       "      <td>0</td>\n",
       "      <td>0</td>\n",
       "    </tr>\n",
       "    <tr>\n",
       "      <th>42</th>\n",
       "      <td>1679.000000</td>\n",
       "      <td>483.210000</td>\n",
       "      <td>101.090000</td>\n",
       "      <td>0</td>\n",
       "      <td>1</td>\n",
       "      <td>0</td>\n",
       "      <td>1</td>\n",
       "      <td>1</td>\n",
       "      <td>0</td>\n",
       "      <td>0</td>\n",
       "    </tr>\n",
       "    <tr>\n",
       "      <th>34</th>\n",
       "      <td>821.000000</td>\n",
       "      <td>1134.740000</td>\n",
       "      <td>23.870000</td>\n",
       "      <td>0</td>\n",
       "      <td>1</td>\n",
       "      <td>0</td>\n",
       "      <td>1</td>\n",
       "      <td>0</td>\n",
       "      <td>1</td>\n",
       "      <td>0</td>\n",
       "    </tr>\n",
       "  </tbody>\n",
       "</table>\n",
       "<p>91 rows × 10 columns</p>\n",
       "</div>"
      ],
      "text/plain": [
       "      Feature 0    Feature 2   Feature 6  Feature 1_Cat_High Risk  \\\n",
       "86  1076.992553   564.689801   32.270733                        1   \n",
       "89   496.291717   501.754176   49.954707                        1   \n",
       "19   403.000000   313.480000    7.900000                        1   \n",
       "53  1558.000000   359.150000   81.520000                        1   \n",
       "26  2088.000000   962.300000  142.890000                        0   \n",
       "..          ...          ...         ...                      ...   \n",
       "38  1010.000000   570.130000   31.180000                        1   \n",
       "56   365.000000   300.750000   52.910000                        1   \n",
       "58   631.000000   675.100000   56.230000                        0   \n",
       "42  1679.000000   483.210000  101.090000                        0   \n",
       "34   821.000000  1134.740000   23.870000                        0   \n",
       "\n",
       "    Feature 1_Cat_Low Risk  Feature 5_Cat_High Risk  Feature 5_Cat_Low Risk  \\\n",
       "86                       0                        1                       0   \n",
       "89                       0                        1                       0   \n",
       "19                       0                        1                       0   \n",
       "53                       0                        1                       0   \n",
       "26                       1                        0                       1   \n",
       "..                     ...                      ...                     ...   \n",
       "38                       0                        1                       0   \n",
       "56                       0                        1                       0   \n",
       "58                       1                        0                       1   \n",
       "42                       1                        0                       1   \n",
       "34                       1                        0                       1   \n",
       "\n",
       "    Feature 10_Cat_High Risk  Feature 10_Cat_Low Risk  labels  \n",
       "86                         1                        0       1  \n",
       "89                         0                        1       1  \n",
       "19                         1                        0       1  \n",
       "53                         1                        0       1  \n",
       "26                         0                        1       1  \n",
       "..                       ...                      ...     ...  \n",
       "38                         1                        0       1  \n",
       "56                         0                        1       1  \n",
       "58                         1                        0       0  \n",
       "42                         1                        0       0  \n",
       "34                         0                        1       0  \n",
       "\n",
       "[91 rows x 10 columns]"
      ]
     },
     "execution_count": 71,
     "metadata": {},
     "output_type": "execute_result"
    }
   ],
   "source": [
    "pd.concat([df_eda_2[[i for i in df_eda_2.columns.tolist() if \"_\" not in i and i != \"labels\"]],pd.get_dummies(df_eda_2[['Feature 1_Cat','Feature 5_Cat','Feature 10_Cat',]]),df_eda_2[[\"labels\"]]],axis = 1)"
   ]
  },
  {
   "cell_type": "code",
   "execution_count": 72,
   "metadata": {},
   "outputs": [
    {
     "data": {
      "text/html": [
       "<div>\n",
       "<style scoped>\n",
       "    .dataframe tbody tr th:only-of-type {\n",
       "        vertical-align: middle;\n",
       "    }\n",
       "\n",
       "    .dataframe tbody tr th {\n",
       "        vertical-align: top;\n",
       "    }\n",
       "\n",
       "    .dataframe thead th {\n",
       "        text-align: right;\n",
       "    }\n",
       "</style>\n",
       "<table border=\"1\" class=\"dataframe\">\n",
       "  <thead>\n",
       "    <tr style=\"text-align: right;\">\n",
       "      <th></th>\n",
       "      <th>Feature 0</th>\n",
       "      <th>Feature 2</th>\n",
       "      <th>Feature 6</th>\n",
       "      <th>Feature 1_Cat_High Risk</th>\n",
       "      <th>Feature 1_Cat_Low Risk</th>\n",
       "      <th>Feature 5_Cat_High Risk</th>\n",
       "      <th>Feature 5_Cat_Low Risk</th>\n",
       "      <th>Feature 10_Cat_High Risk</th>\n",
       "      <th>Feature 10_Cat_Low Risk</th>\n",
       "      <th>labels</th>\n",
       "    </tr>\n",
       "  </thead>\n",
       "  <tbody>\n",
       "    <tr>\n",
       "      <th>0</th>\n",
       "      <td>3.205098</td>\n",
       "      <td>-1.057197</td>\n",
       "      <td>-1.116006</td>\n",
       "      <td>1</td>\n",
       "      <td>0</td>\n",
       "      <td>1</td>\n",
       "      <td>0</td>\n",
       "      <td>1</td>\n",
       "      <td>0</td>\n",
       "      <td>1</td>\n",
       "    </tr>\n",
       "    <tr>\n",
       "      <th>1</th>\n",
       "      <td>0.972092</td>\n",
       "      <td>0.978356</td>\n",
       "      <td>0.730541</td>\n",
       "      <td>0</td>\n",
       "      <td>1</td>\n",
       "      <td>1</td>\n",
       "      <td>0</td>\n",
       "      <td>0</td>\n",
       "      <td>1</td>\n",
       "      <td>0</td>\n",
       "    </tr>\n",
       "    <tr>\n",
       "      <th>2</th>\n",
       "      <td>0.539024</td>\n",
       "      <td>0.788410</td>\n",
       "      <td>1.275326</td>\n",
       "      <td>0</td>\n",
       "      <td>1</td>\n",
       "      <td>0</td>\n",
       "      <td>1</td>\n",
       "      <td>0</td>\n",
       "      <td>1</td>\n",
       "      <td>0</td>\n",
       "    </tr>\n",
       "    <tr>\n",
       "      <th>3</th>\n",
       "      <td>-0.683039</td>\n",
       "      <td>-0.790889</td>\n",
       "      <td>-0.660085</td>\n",
       "      <td>0</td>\n",
       "      <td>1</td>\n",
       "      <td>1</td>\n",
       "      <td>0</td>\n",
       "      <td>0</td>\n",
       "      <td>1</td>\n",
       "      <td>0</td>\n",
       "    </tr>\n",
       "    <tr>\n",
       "      <th>4</th>\n",
       "      <td>-0.210725</td>\n",
       "      <td>0.390746</td>\n",
       "      <td>0.309535</td>\n",
       "      <td>0</td>\n",
       "      <td>1</td>\n",
       "      <td>0</td>\n",
       "      <td>1</td>\n",
       "      <td>0</td>\n",
       "      <td>1</td>\n",
       "      <td>0</td>\n",
       "    </tr>\n",
       "    <tr>\n",
       "      <th>...</th>\n",
       "      <td>...</td>\n",
       "      <td>...</td>\n",
       "      <td>...</td>\n",
       "      <td>...</td>\n",
       "      <td>...</td>\n",
       "      <td>...</td>\n",
       "      <td>...</td>\n",
       "      <td>...</td>\n",
       "      <td>...</td>\n",
       "      <td>...</td>\n",
       "    </tr>\n",
       "    <tr>\n",
       "      <th>109</th>\n",
       "      <td>0.166770</td>\n",
       "      <td>-0.320943</td>\n",
       "      <td>-0.796041</td>\n",
       "      <td>1</td>\n",
       "      <td>0</td>\n",
       "      <td>1</td>\n",
       "      <td>0</td>\n",
       "      <td>0</td>\n",
       "      <td>1</td>\n",
       "      <td>1</td>\n",
       "    </tr>\n",
       "    <tr>\n",
       "      <th>110</th>\n",
       "      <td>1.178518</td>\n",
       "      <td>-0.449207</td>\n",
       "      <td>-0.327596</td>\n",
       "      <td>1</td>\n",
       "      <td>0</td>\n",
       "      <td>1</td>\n",
       "      <td>0</td>\n",
       "      <td>1</td>\n",
       "      <td>0</td>\n",
       "      <td>1</td>\n",
       "    </tr>\n",
       "    <tr>\n",
       "      <th>111</th>\n",
       "      <td>0.304752</td>\n",
       "      <td>-0.098148</td>\n",
       "      <td>-0.469267</td>\n",
       "      <td>1</td>\n",
       "      <td>0</td>\n",
       "      <td>1</td>\n",
       "      <td>0</td>\n",
       "      <td>1</td>\n",
       "      <td>0</td>\n",
       "      <td>1</td>\n",
       "    </tr>\n",
       "    <tr>\n",
       "      <th>112</th>\n",
       "      <td>0.159966</td>\n",
       "      <td>-0.721489</td>\n",
       "      <td>-0.755853</td>\n",
       "      <td>1</td>\n",
       "      <td>0</td>\n",
       "      <td>0</td>\n",
       "      <td>1</td>\n",
       "      <td>1</td>\n",
       "      <td>0</td>\n",
       "      <td>1</td>\n",
       "    </tr>\n",
       "    <tr>\n",
       "      <th>113</th>\n",
       "      <td>-0.215552</td>\n",
       "      <td>-0.328139</td>\n",
       "      <td>-0.478567</td>\n",
       "      <td>1</td>\n",
       "      <td>0</td>\n",
       "      <td>0</td>\n",
       "      <td>1</td>\n",
       "      <td>1</td>\n",
       "      <td>0</td>\n",
       "      <td>1</td>\n",
       "    </tr>\n",
       "  </tbody>\n",
       "</table>\n",
       "<p>114 rows × 10 columns</p>\n",
       "</div>"
      ],
      "text/plain": [
       "     Feature 0  Feature 2  Feature 6  Feature 1_Cat_High Risk  \\\n",
       "0     3.205098  -1.057197  -1.116006                        1   \n",
       "1     0.972092   0.978356   0.730541                        0   \n",
       "2     0.539024   0.788410   1.275326                        0   \n",
       "3    -0.683039  -0.790889  -0.660085                        0   \n",
       "4    -0.210725   0.390746   0.309535                        0   \n",
       "..         ...        ...        ...                      ...   \n",
       "109   0.166770  -0.320943  -0.796041                        1   \n",
       "110   1.178518  -0.449207  -0.327596                        1   \n",
       "111   0.304752  -0.098148  -0.469267                        1   \n",
       "112   0.159966  -0.721489  -0.755853                        1   \n",
       "113  -0.215552  -0.328139  -0.478567                        1   \n",
       "\n",
       "     Feature 1_Cat_Low Risk  Feature 5_Cat_High Risk  Feature 5_Cat_Low Risk  \\\n",
       "0                         0                        1                       0   \n",
       "1                         1                        1                       0   \n",
       "2                         1                        0                       1   \n",
       "3                         1                        1                       0   \n",
       "4                         1                        0                       1   \n",
       "..                      ...                      ...                     ...   \n",
       "109                       0                        1                       0   \n",
       "110                       0                        1                       0   \n",
       "111                       0                        1                       0   \n",
       "112                       0                        0                       1   \n",
       "113                       0                        0                       1   \n",
       "\n",
       "     Feature 10_Cat_High Risk  Feature 10_Cat_Low Risk  labels  \n",
       "0                           1                        0       1  \n",
       "1                           0                        1       0  \n",
       "2                           0                        1       0  \n",
       "3                           0                        1       0  \n",
       "4                           0                        1       0  \n",
       "..                        ...                      ...     ...  \n",
       "109                         0                        1       1  \n",
       "110                         1                        0       1  \n",
       "111                         1                        0       1  \n",
       "112                         1                        0       1  \n",
       "113                         1                        0       1  \n",
       "\n",
       "[114 rows x 10 columns]"
      ]
     },
     "execution_count": 72,
     "metadata": {},
     "output_type": "execute_result"
    }
   ],
   "source": [
    "preprocess_training = preprocess_data(filepath=str(Path(Path.cwd()/\"Data\"/\"train.csv\").resolve()))\n",
    "df = preprocess_training.read_df(process_complete = True)\n",
    "df"
   ]
  },
  {
   "cell_type": "code",
   "execution_count": 73,
   "metadata": {},
   "outputs": [],
   "source": [
    "df_train = df[[i for i in df.columns.tolist() if i not in [\"labels\"]]]\n",
    "df_labels = df[[i for i in df.columns.tolist() if i in [\"labels\"]]]"
   ]
  },
  {
   "cell_type": "code",
   "execution_count": 74,
   "metadata": {},
   "outputs": [],
   "source": [
    "layer_info_dict = {\n",
    "            1:(df_train.shape[1],5,'relu'),\n",
    "            2:(5,4,'relu'),\n",
    "            #output layer\n",
    "            3:(4,1,'sigmoid')\n",
    "        }\n",
    "        \n",
    "model = NeuralNetwork(layer_info_dict)"
   ]
  },
  {
   "cell_type": "code",
   "execution_count": 86,
   "metadata": {},
   "outputs": [
    {
     "name": "stdout",
     "output_type": "stream",
     "text": [
      "tensor([0.5973], grad_fn=<SigmoidBackward0>)\n",
      "tensor([1.])\n",
      "tensor(0.5154, grad_fn=<BinaryCrossEntropyBackward0>)\n"
     ]
    }
   ],
   "source": [
    "loss_fn = nn.BCELoss()\n",
    "for batch,(X,y) in enumerate(DataLoader(TensorDataset(torch.tensor(df_train.to_numpy()),torch.tensor(df_labels[\"labels\"])),batch_sampler=None,batch_size=None)):\n",
    "    pred = model(X.float())\n",
    "    print(pred)\n",
    "    print(y.unsqueeze(0).float())\n",
    "    print(loss_fn(pred,y.unsqueeze(0).float()))\n",
    "    break"
   ]
  },
  {
   "cell_type": "markdown",
   "metadata": {},
   "source": [
    "Training the Dataset using Neural Networks built on Pytorch"
   ]
  },
  {
   "cell_type": "markdown",
   "metadata": {},
   "source": [
    "Train a network with 2 hidden layers\n",
    "First investigate the number of neurons in the 2 layers of the network"
   ]
  },
  {
   "cell_type": "code",
   "execution_count": null,
   "metadata": {},
   "outputs": [],
   "source": [
    "first_layer_output = [5,6,7,8,9,10,11,12,13,14,15]\n",
    "second_layer_output =[5,6,7,8,9,10]\n",
    "combinations = list(product([i for i,j in enumerate(first_layer_output)],[i for i,j in enumerate(second_layer_output)]))\n",
    "parameter_list = list()\n",
    "\n",
    "for combination in combinations:\n",
    "    parameter_list.append([first_layer_output[combination[0]],second_layer_output[combination[1]]])"
   ]
  },
  {
   "cell_type": "code",
   "execution_count": null,
   "metadata": {},
   "outputs": [],
   "source": [
    "for parameter_set in parameter_list:\n",
    "    first_layer_output_units = parameter_set[0]\n",
    "    second_layer_output_units = parameter_set[1]\n",
    "    epoch_num = 10\n",
    "    cross_val_splits = 5\n",
    "\n",
    "    ksplitter = StratifiedKFold(n_splits = 5, shuffle = True,random_state = 42)\n",
    "    model_score = 0\n",
    "    model_loss = 0\n",
    "\n",
    "    for train_idx,valid_idx in ksplitter.split(df_train):\n",
    "        layer_info_dict = {\n",
    "            1:(df_train.shape[1],first_layer_output_units,'relu'),\n",
    "            2:(first_layer_output_units,second_layer_output_units,'relu'),\n",
    "            #output layer\n",
    "            3:(second_layer_output_units,1,'sigmoid')\n",
    "        }\n",
    "        \n",
    "        model = NeuralNetwork(layer_info_dict)\n",
    "        loss_fn = nn.BCELoss()\n",
    "        X_train,y_train = df_train[train_idx],df_labels[train_idx]\n",
    "        X_valid,y_valid = df_train[valid_idx],df_labels[valid_idx]\n",
    "\n",
    "        ds_train = TensorDataset(torch.tensor(X_train),torch.tensor(y_train))\n",
    "        train_dataloader = DataLoader(ds_train,batch_sampler=None,batch_size=None)\n",
    "        ds_valid = TensorDataset(torch.tensor(X_valid),torch.tensor(y_valid))\n",
    "        valid_dataloader = DataLoader(ds_valid,batch_sampler=None,batch_size=None)\n",
    "        trainvalidate = TrainingValidatingNetwork()\n",
    "        optimizer = torch.optim.Adam(model.parameters(),lr = 1e-03)\n",
    "        accuracy,loss = trainvalidate.train_and_validate(train_dataloader,valid_dataloader,model,loss_fn,epochs=10,optimizer=optimizer)       \n",
    "        model_score += accuracy\n",
    "        model_loss += loss"
   ]
  },
  {
   "cell_type": "code",
   "execution_count": null,
   "metadata": {},
   "outputs": [],
   "source": []
  }
 ],
 "metadata": {
  "interpreter": {
   "hash": "f04f19c809d9fd2a23489b3a20ba1768a3ce2a0f10653349b314d6a65064f27b"
  },
  "kernelspec": {
   "display_name": "Python 3.8.8 ('Predicting_Pneumonia': venv)",
   "language": "python",
   "name": "python3"
  },
  "language_info": {
   "codemirror_mode": {
    "name": "ipython",
    "version": 3
   },
   "file_extension": ".py",
   "mimetype": "text/x-python",
   "name": "python",
   "nbconvert_exporter": "python",
   "pygments_lexer": "ipython3",
   "version": "3.10.2"
  },
  "orig_nbformat": 4
 },
 "nbformat": 4,
 "nbformat_minor": 2
}
