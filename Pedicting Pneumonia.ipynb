{
 "cells": [
  {
   "cell_type": "code",
   "execution_count": 1,
   "metadata": {},
   "outputs": [],
   "source": [
    "import os\n",
    "from pipeline_functionality import preprocess_data\n",
    "from pipeline_functionality import preprocess_training_validation\n",
    "from pipeline_functionality import feature_engineering\n",
    "from pipeline_functionality import NeuralNetwork\n",
    "from pipeline_functionality import TrainingValidatingNetwork\n",
    "from sklearn.preprocessing import StandardScaler\n",
    "from sklearn.model_selection import train_test_split\n",
    "from pathlib import Path\n",
    "import matplotlib.pyplot as plt\n",
    "import seaborn as sns\n",
    "from collections import Counter\n",
    "import pandas as pd\n",
    "from imblearn.over_sampling import SMOTE\n",
    "from scipy.stats import f_oneway\n",
    "import numpy as np\n",
    "from scipy.stats import chi2_contingency\n",
    "from scipy.stats import chi2\n",
    "import torch\n",
    "from torch import nn\n",
    "from torch.utils.data import DataLoader\n",
    "from sklearn.metrics import confusion_matrix\n",
    "from sklearn.metrics import roc_curve\n",
    "from sklearn.metrics import roc_auc_score\n",
    "from sklearn.model_selection import StratifiedKFold\n",
    "from itertools import product\n",
    "from torch.utils.data import DataLoader\n",
    "from torch.utils.data import TensorDataset\n",
    "from sklearn.model_selection import RandomizedSearchCV\n",
    "from sklearn.model_selection import GridSearchCV\n",
    "from sklearn.ensemble import RandomForestClassifier"
   ]
  },
  {
   "cell_type": "markdown",
   "metadata": {},
   "source": [
    "Functions for Statistical Tests for feature engineering and EDA"
   ]
  },
  {
   "cell_type": "code",
   "execution_count": 2,
   "metadata": {},
   "outputs": [],
   "source": [
    "#One way ANOVA test\n",
    "def oneway_anova(class1,class2):\n",
    "    stat,pval = f_oneway(class1,class2)\n",
    "    if pval < 0.05:\n",
    "        print(f\"Mean difference is statistically significant with pvalue of {pval}\")\n",
    "    else:\n",
    "        print(f\"Mean difference is statistically not significant with pvalue of {pval}\")\n",
    "\n",
    "#chi2 test\n",
    "def check_chi2_correlation(contingency_table):\n",
    "    DOF = (contingency_table.shape[0] - 1) * (contingency_table.shape[1] - 1)\n",
    "    critical_val = chi2.ppf(0.95,DOF)\n",
    "    stat,p,dof,expected_array = chi2_contingency(contingency_table)\n",
    "    if stat > critical_val:\n",
    "        print(f\"Reject Null Hypotheses. Critical Value for 0.95 siginficance : {critical_val}, DOF : {DOF}. Chi2 statistic : {stat}\")\n",
    "    else:\n",
    "        print(f\"No correlation. Critical Value for 0.95 siginficance : {critical_val}. Chi2 statistic : {stat}\")"
   ]
  },
  {
   "cell_type": "code",
   "execution_count": 3,
   "metadata": {},
   "outputs": [],
   "source": [
    "preprocess = preprocess_data(filepath=str(Path(Path.cwd()/\"Data\"/\"train.csv\").resolve()))\n",
    "df = preprocess.read_df()"
   ]
  },
  {
   "cell_type": "markdown",
   "metadata": {},
   "source": [
    "Checking for missing values"
   ]
  },
  {
   "cell_type": "code",
   "execution_count": 4,
   "metadata": {},
   "outputs": [
    {
     "data": {
      "text/plain": [
       "Feature 0     1\n",
       "Feature 1     1\n",
       "Feature 2     0\n",
       "Feature 3     0\n",
       "Feature 4     0\n",
       "Feature 5     0\n",
       "Feature 6     0\n",
       "Feature 7     0\n",
       "Age           0\n",
       "Sex           0\n",
       "Feature 10    1\n",
       "label         0\n",
       "dtype: int64"
      ]
     },
     "execution_count": 4,
     "metadata": {},
     "output_type": "execute_result"
    }
   ],
   "source": [
    "df.isna().sum()"
   ]
  },
  {
   "cell_type": "code",
   "execution_count": 5,
   "metadata": {},
   "outputs": [
    {
     "data": {
      "text/html": [
       "<div>\n",
       "<style scoped>\n",
       "    .dataframe tbody tr th:only-of-type {\n",
       "        vertical-align: middle;\n",
       "    }\n",
       "\n",
       "    .dataframe tbody tr th {\n",
       "        vertical-align: top;\n",
       "    }\n",
       "\n",
       "    .dataframe thead th {\n",
       "        text-align: right;\n",
       "    }\n",
       "</style>\n",
       "<table border=\"1\" class=\"dataframe\">\n",
       "  <thead>\n",
       "    <tr style=\"text-align: right;\">\n",
       "      <th></th>\n",
       "      <th>Feature 0</th>\n",
       "      <th>Feature 1</th>\n",
       "      <th>Feature 2</th>\n",
       "      <th>Feature 3</th>\n",
       "      <th>Feature 4</th>\n",
       "      <th>Feature 5</th>\n",
       "      <th>Feature 6</th>\n",
       "      <th>Feature 7</th>\n",
       "      <th>Age</th>\n",
       "      <th>Sex</th>\n",
       "      <th>Feature 10</th>\n",
       "      <th>label</th>\n",
       "    </tr>\n",
       "  </thead>\n",
       "  <tbody>\n",
       "    <tr>\n",
       "      <th>39</th>\n",
       "      <td>NaN</td>\n",
       "      <td>NaN</td>\n",
       "      <td>1336.54</td>\n",
       "      <td>739.71</td>\n",
       "      <td>550.3</td>\n",
       "      <td>68.46</td>\n",
       "      <td>192.07</td>\n",
       "      <td>1615.68</td>\n",
       "      <td>21</td>\n",
       "      <td>0</td>\n",
       "      <td>NaN</td>\n",
       "      <td>0</td>\n",
       "    </tr>\n",
       "  </tbody>\n",
       "</table>\n",
       "</div>"
      ],
      "text/plain": [
       "    Feature 0  Feature 1  Feature 2  Feature 3  Feature 4  Feature 5  \\\n",
       "39        NaN        NaN    1336.54     739.71      550.3      68.46   \n",
       "\n",
       "    Feature 6  Feature 7  Age  Sex  Feature 10  label  \n",
       "39     192.07    1615.68   21    0         NaN      0  "
      ]
     },
     "execution_count": 5,
     "metadata": {},
     "output_type": "execute_result"
    }
   ],
   "source": [
    "df[(df[\"Feature 0\"].isna()) & (df[\"Feature 1\"].isna()) & (df[\"Feature 10\"].isna())]"
   ]
  },
  {
   "cell_type": "markdown",
   "metadata": {},
   "source": [
    "There is only one instance of missing values, hence we shall drop that off"
   ]
  },
  {
   "cell_type": "code",
   "execution_count": 6,
   "metadata": {},
   "outputs": [
    {
     "data": {
      "text/html": [
       "<div>\n",
       "<style scoped>\n",
       "    .dataframe tbody tr th:only-of-type {\n",
       "        vertical-align: middle;\n",
       "    }\n",
       "\n",
       "    .dataframe tbody tr th {\n",
       "        vertical-align: top;\n",
       "    }\n",
       "\n",
       "    .dataframe thead th {\n",
       "        text-align: right;\n",
       "    }\n",
       "</style>\n",
       "<table border=\"1\" class=\"dataframe\">\n",
       "  <thead>\n",
       "    <tr style=\"text-align: right;\">\n",
       "      <th></th>\n",
       "      <th>Feature 0</th>\n",
       "      <th>Feature 1</th>\n",
       "      <th>Feature 2</th>\n",
       "      <th>Feature 3</th>\n",
       "      <th>Feature 4</th>\n",
       "      <th>Feature 5</th>\n",
       "      <th>Feature 6</th>\n",
       "      <th>Feature 7</th>\n",
       "      <th>Age</th>\n",
       "      <th>Sex</th>\n",
       "      <th>Feature 10</th>\n",
       "      <th>label</th>\n",
       "    </tr>\n",
       "  </thead>\n",
       "  <tbody>\n",
       "    <tr>\n",
       "      <th>0</th>\n",
       "      <td>3556.0</td>\n",
       "      <td>2489.0</td>\n",
       "      <td>265.19</td>\n",
       "      <td>77.53</td>\n",
       "      <td>176.55</td>\n",
       "      <td>0.00</td>\n",
       "      <td>4.20</td>\n",
       "      <td>307.91</td>\n",
       "      <td>52</td>\n",
       "      <td>0</td>\n",
       "      <td>7515.0</td>\n",
       "      <td>1</td>\n",
       "    </tr>\n",
       "    <tr>\n",
       "      <th>1</th>\n",
       "      <td>1906.0</td>\n",
       "      <td>134.0</td>\n",
       "      <td>1442.61</td>\n",
       "      <td>551.90</td>\n",
       "      <td>876.07</td>\n",
       "      <td>112.10</td>\n",
       "      <td>168.15</td>\n",
       "      <td>1735.48</td>\n",
       "      <td>20</td>\n",
       "      <td>1</td>\n",
       "      <td>1756.0</td>\n",
       "      <td>0</td>\n",
       "    </tr>\n",
       "    <tr>\n",
       "      <th>2</th>\n",
       "      <td>1586.0</td>\n",
       "      <td>71.0</td>\n",
       "      <td>1332.74</td>\n",
       "      <td>684.20</td>\n",
       "      <td>655.26</td>\n",
       "      <td>244.95</td>\n",
       "      <td>216.52</td>\n",
       "      <td>1820.04</td>\n",
       "      <td>28</td>\n",
       "      <td>1</td>\n",
       "      <td>1311.0</td>\n",
       "      <td>0</td>\n",
       "    </tr>\n",
       "    <tr>\n",
       "      <th>3</th>\n",
       "      <td>683.0</td>\n",
       "      <td>94.0</td>\n",
       "      <td>419.23</td>\n",
       "      <td>255.80</td>\n",
       "      <td>162.17</td>\n",
       "      <td>72.05</td>\n",
       "      <td>44.68</td>\n",
       "      <td>538.22</td>\n",
       "      <td>55</td>\n",
       "      <td>1</td>\n",
       "      <td>1443.0</td>\n",
       "      <td>0</td>\n",
       "    </tr>\n",
       "    <tr>\n",
       "      <th>4</th>\n",
       "      <td>1032.0</td>\n",
       "      <td>71.0</td>\n",
       "      <td>1102.72</td>\n",
       "      <td>480.27</td>\n",
       "      <td>625.30</td>\n",
       "      <td>188.78</td>\n",
       "      <td>130.77</td>\n",
       "      <td>1427.97</td>\n",
       "      <td>28</td>\n",
       "      <td>1</td>\n",
       "      <td>1542.0</td>\n",
       "      <td>0</td>\n",
       "    </tr>\n",
       "    <tr>\n",
       "      <th>...</th>\n",
       "      <td>...</td>\n",
       "      <td>...</td>\n",
       "      <td>...</td>\n",
       "      <td>...</td>\n",
       "      <td>...</td>\n",
       "      <td>...</td>\n",
       "      <td>...</td>\n",
       "      <td>...</td>\n",
       "      <td>...</td>\n",
       "      <td>...</td>\n",
       "      <td>...</td>\n",
       "      <td>...</td>\n",
       "    </tr>\n",
       "    <tr>\n",
       "      <th>82</th>\n",
       "      <td>626.0</td>\n",
       "      <td>68.0</td>\n",
       "      <td>1771.57</td>\n",
       "      <td>666.99</td>\n",
       "      <td>1117.48</td>\n",
       "      <td>360.21</td>\n",
       "      <td>118.84</td>\n",
       "      <td>2306.82</td>\n",
       "      <td>42</td>\n",
       "      <td>1</td>\n",
       "      <td>1521.0</td>\n",
       "      <td>0</td>\n",
       "    </tr>\n",
       "    <tr>\n",
       "      <th>83</th>\n",
       "      <td>1237.0</td>\n",
       "      <td>71.0</td>\n",
       "      <td>1348.53</td>\n",
       "      <td>428.09</td>\n",
       "      <td>924.69</td>\n",
       "      <td>120.02</td>\n",
       "      <td>48.67</td>\n",
       "      <td>1524.78</td>\n",
       "      <td>56</td>\n",
       "      <td>0</td>\n",
       "      <td>1345.0</td>\n",
       "      <td>0</td>\n",
       "    </tr>\n",
       "    <tr>\n",
       "      <th>84</th>\n",
       "      <td>634.0</td>\n",
       "      <td>1002.0</td>\n",
       "      <td>1300.00</td>\n",
       "      <td>558.00</td>\n",
       "      <td>724.00</td>\n",
       "      <td>67.00</td>\n",
       "      <td>105.00</td>\n",
       "      <td>1484.26</td>\n",
       "      <td>34</td>\n",
       "      <td>0</td>\n",
       "      <td>2926.0</td>\n",
       "      <td>1</td>\n",
       "    </tr>\n",
       "    <tr>\n",
       "      <th>85</th>\n",
       "      <td>112.0</td>\n",
       "      <td>884.0</td>\n",
       "      <td>942.83</td>\n",
       "      <td>378.49</td>\n",
       "      <td>567.06</td>\n",
       "      <td>116.77</td>\n",
       "      <td>31.81</td>\n",
       "      <td>1104.59</td>\n",
       "      <td>33</td>\n",
       "      <td>1</td>\n",
       "      <td>2352.0</td>\n",
       "      <td>1</td>\n",
       "    </tr>\n",
       "    <tr>\n",
       "      <th>86</th>\n",
       "      <td>195.0</td>\n",
       "      <td>213.0</td>\n",
       "      <td>724.00</td>\n",
       "      <td>364.00</td>\n",
       "      <td>361.00</td>\n",
       "      <td>18.00</td>\n",
       "      <td>155.00</td>\n",
       "      <td>897.00</td>\n",
       "      <td>19</td>\n",
       "      <td>1</td>\n",
       "      <td>2445.0</td>\n",
       "      <td>1</td>\n",
       "    </tr>\n",
       "  </tbody>\n",
       "</table>\n",
       "<p>86 rows × 12 columns</p>\n",
       "</div>"
      ],
      "text/plain": [
       "    Feature 0  Feature 1  Feature 2  Feature 3  Feature 4  Feature 5  \\\n",
       "0      3556.0     2489.0     265.19      77.53     176.55       0.00   \n",
       "1      1906.0      134.0    1442.61     551.90     876.07     112.10   \n",
       "2      1586.0       71.0    1332.74     684.20     655.26     244.95   \n",
       "3       683.0       94.0     419.23     255.80     162.17      72.05   \n",
       "4      1032.0       71.0    1102.72     480.27     625.30     188.78   \n",
       "..        ...        ...        ...        ...        ...        ...   \n",
       "82      626.0       68.0    1771.57     666.99    1117.48     360.21   \n",
       "83     1237.0       71.0    1348.53     428.09     924.69     120.02   \n",
       "84      634.0     1002.0    1300.00     558.00     724.00      67.00   \n",
       "85      112.0      884.0     942.83     378.49     567.06     116.77   \n",
       "86      195.0      213.0     724.00     364.00     361.00      18.00   \n",
       "\n",
       "    Feature 6  Feature 7  Age  Sex  Feature 10  label  \n",
       "0        4.20     307.91   52    0      7515.0      1  \n",
       "1      168.15    1735.48   20    1      1756.0      0  \n",
       "2      216.52    1820.04   28    1      1311.0      0  \n",
       "3       44.68     538.22   55    1      1443.0      0  \n",
       "4      130.77    1427.97   28    1      1542.0      0  \n",
       "..        ...        ...  ...  ...         ...    ...  \n",
       "82     118.84    2306.82   42    1      1521.0      0  \n",
       "83      48.67    1524.78   56    0      1345.0      0  \n",
       "84     105.00    1484.26   34    0      2926.0      1  \n",
       "85      31.81    1104.59   33    1      2352.0      1  \n",
       "86     155.00     897.00   19    1      2445.0      1  \n",
       "\n",
       "[86 rows x 12 columns]"
      ]
     },
     "execution_count": 6,
     "metadata": {},
     "output_type": "execute_result"
    }
   ],
   "source": [
    "df = df.dropna(subset=[\"Feature 0\",\"Feature 1\",\"Feature 10\"])\n",
    "df"
   ]
  },
  {
   "cell_type": "code",
   "execution_count": 7,
   "metadata": {},
   "outputs": [],
   "source": [
    "df = df.reset_index(drop=True)"
   ]
  },
  {
   "cell_type": "markdown",
   "metadata": {},
   "source": [
    "Counts of the different labels"
   ]
  },
  {
   "cell_type": "code",
   "execution_count": 8,
   "metadata": {},
   "outputs": [
    {
     "name": "stderr",
     "output_type": "stream",
     "text": [
      "c:\\Users\\Pasindu.Samaranayake\\Desktop\\MSc\\Predicting_Pneumonia\\lib\\site-packages\\seaborn\\_decorators.py:36: FutureWarning: Pass the following variable as a keyword arg: x. From version 0.12, the only valid positional argument will be `data`, and passing other arguments without an explicit keyword will result in an error or misinterpretation.\n",
      "  warnings.warn(\n"
     ]
    },
    {
     "name": "stdout",
     "output_type": "stream",
     "text": [
      "Number of 0:  57\n",
      "Number of 1:  29\n"
     ]
    },
    {
     "data": {
      "image/png": "[encoded data removed]",
      "text/plain": [
       "<Figure size 432x288 with 1 Axes>"
      ]
     },
     "metadata": {
      "needs_background": "light"
     },
     "output_type": "display_data"
    }
   ],
   "source": [
    "sns.countplot(df[\"label\"],label = \"Count\")\n",
    "B, M = df[\"label\"].value_counts()\n",
    "print('Number of 0: ',B)\n",
    "print('Number of 1: ',M)"
   ]
  },
  {
   "cell_type": "markdown",
   "metadata": {},
   "source": [
    "Separating Train and Label arrays"
   ]
  },
  {
   "cell_type": "code",
   "execution_count": 9,
   "metadata": {},
   "outputs": [],
   "source": [
    "df_train = df[[i for i in df.columns.tolist() if i!=\"label\"]]\n",
    "df_label = df[[i for i in df.columns.tolist() if i==\"label\"]]"
   ]
  },
  {
   "cell_type": "markdown",
   "metadata": {},
   "source": [
    "EDA will be done on a smaller subset of the dataset, while cross validation will be done using K Fold Cross Validation. \n",
    "From the results of EDA, the pipeline will be made to process the entire dataset as per the findings of EDA"
   ]
  },
  {
   "cell_type": "code",
   "execution_count": 10,
   "metadata": {},
   "outputs": [],
   "source": [
    "df_eda,df_validation,y_eda,y_validation = train_test_split(df_train,df_label,test_size = 0.2, random_state=42,stratify=df_label)"
   ]
  },
  {
   "cell_type": "code",
   "execution_count": 11,
   "metadata": {},
   "outputs": [],
   "source": [
    "df_eda[\"label\"] = y_eda"
   ]
  },
  {
   "cell_type": "code",
   "execution_count": 12,
   "metadata": {},
   "outputs": [
    {
     "data": {
      "text/html": [
       "<div>\n",
       "<style scoped>\n",
       "    .dataframe tbody tr th:only-of-type {\n",
       "        vertical-align: middle;\n",
       "    }\n",
       "\n",
       "    .dataframe tbody tr th {\n",
       "        vertical-align: top;\n",
       "    }\n",
       "\n",
       "    .dataframe thead th {\n",
       "        text-align: right;\n",
       "    }\n",
       "</style>\n",
       "<table border=\"1\" class=\"dataframe\">\n",
       "  <thead>\n",
       "    <tr style=\"text-align: right;\">\n",
       "      <th></th>\n",
       "      <th>Feature 0</th>\n",
       "      <th>Feature 1</th>\n",
       "      <th>Feature 2</th>\n",
       "      <th>Feature 3</th>\n",
       "      <th>Feature 4</th>\n",
       "      <th>Feature 5</th>\n",
       "      <th>Feature 6</th>\n",
       "      <th>Feature 7</th>\n",
       "      <th>Age</th>\n",
       "      <th>Sex</th>\n",
       "      <th>Feature 10</th>\n",
       "      <th>label</th>\n",
       "    </tr>\n",
       "  </thead>\n",
       "  <tbody>\n",
       "    <tr>\n",
       "      <th>34</th>\n",
       "      <td>821.0</td>\n",
       "      <td>134.0</td>\n",
       "      <td>1134.74</td>\n",
       "      <td>741.00</td>\n",
       "      <td>401.00</td>\n",
       "      <td>459.72</td>\n",
       "      <td>23.87</td>\n",
       "      <td>1619.77</td>\n",
       "      <td>41</td>\n",
       "      <td>1</td>\n",
       "      <td>1893.0</td>\n",
       "      <td>0</td>\n",
       "    </tr>\n",
       "    <tr>\n",
       "      <th>26</th>\n",
       "      <td>2088.0</td>\n",
       "      <td>98.0</td>\n",
       "      <td>962.30</td>\n",
       "      <td>533.03</td>\n",
       "      <td>459.72</td>\n",
       "      <td>370.88</td>\n",
       "      <td>142.89</td>\n",
       "      <td>1477.31</td>\n",
       "      <td>51</td>\n",
       "      <td>1</td>\n",
       "      <td>1599.0</td>\n",
       "      <td>1</td>\n",
       "    </tr>\n",
       "    <tr>\n",
       "      <th>7</th>\n",
       "      <td>2623.0</td>\n",
       "      <td>126.0</td>\n",
       "      <td>642.98</td>\n",
       "      <td>329.66</td>\n",
       "      <td>316.59</td>\n",
       "      <td>167.89</td>\n",
       "      <td>85.38</td>\n",
       "      <td>899.51</td>\n",
       "      <td>41</td>\n",
       "      <td>0</td>\n",
       "      <td>1620.0</td>\n",
       "      <td>0</td>\n",
       "    </tr>\n",
       "    <tr>\n",
       "      <th>81</th>\n",
       "      <td>626.0</td>\n",
       "      <td>68.0</td>\n",
       "      <td>1771.57</td>\n",
       "      <td>666.99</td>\n",
       "      <td>1117.48</td>\n",
       "      <td>360.21</td>\n",
       "      <td>118.84</td>\n",
       "      <td>2306.82</td>\n",
       "      <td>42</td>\n",
       "      <td>1</td>\n",
       "      <td>1521.0</td>\n",
       "      <td>0</td>\n",
       "    </tr>\n",
       "    <tr>\n",
       "      <th>18</th>\n",
       "      <td>2506.0</td>\n",
       "      <td>198.0</td>\n",
       "      <td>1865.46</td>\n",
       "      <td>792.76</td>\n",
       "      <td>1096.75</td>\n",
       "      <td>271.73</td>\n",
       "      <td>166.75</td>\n",
       "      <td>2329.09</td>\n",
       "      <td>20</td>\n",
       "      <td>1</td>\n",
       "      <td>2096.0</td>\n",
       "      <td>0</td>\n",
       "    </tr>\n",
       "  </tbody>\n",
       "</table>\n",
       "</div>"
      ],
      "text/plain": [
       "    Feature 0  Feature 1  Feature 2  Feature 3  Feature 4  Feature 5  \\\n",
       "34      821.0      134.0    1134.74     741.00     401.00     459.72   \n",
       "26     2088.0       98.0     962.30     533.03     459.72     370.88   \n",
       "7      2623.0      126.0     642.98     329.66     316.59     167.89   \n",
       "81      626.0       68.0    1771.57     666.99    1117.48     360.21   \n",
       "18     2506.0      198.0    1865.46     792.76    1096.75     271.73   \n",
       "\n",
       "    Feature 6  Feature 7  Age  Sex  Feature 10  label  \n",
       "34      23.87    1619.77   41    1      1893.0      0  \n",
       "26     142.89    1477.31   51    1      1599.0      1  \n",
       "7       85.38     899.51   41    0      1620.0      0  \n",
       "81     118.84    2306.82   42    1      1521.0      0  \n",
       "18     166.75    2329.09   20    1      2096.0      0  "
      ]
     },
     "execution_count": 12,
     "metadata": {},
     "output_type": "execute_result"
    }
   ],
   "source": [
    "df_eda.head()"
   ]
  },
  {
   "cell_type": "code",
   "execution_count": 13,
   "metadata": {},
   "outputs": [],
   "source": [
    "df_eda_melt = pd.melt(df_eda,id_vars='label',var_name='features',value_name='values')"
   ]
  },
  {
   "cell_type": "markdown",
   "metadata": {},
   "source": [
    "<h3>Feature Engineering</h3>\n",
    "\n",
    "- Violin plots on each feature to identify the features that cause the best class separation\n",
    "- Use Swarm plots too\n",
    "- One way Anova tests to identify which features have statistically significant differences in feature\n",
    "- Correlation between each feature to be investigated"
   ]
  },
  {
   "cell_type": "markdown",
   "metadata": {},
   "source": [
    "Drawing Violin Plots for each feature at hand"
   ]
  },
  {
   "cell_type": "code",
   "execution_count": 14,
   "metadata": {},
   "outputs": [
    {
     "data": {
      "text/plain": [
       "<AxesSubplot:xlabel='features', ylabel='values'>"
      ]
     },
     "execution_count": 14,
     "metadata": {},
     "output_type": "execute_result"
    },
    {
     "data": {
      "image/png": "[encoded data removed]",
      "text/plain": [
       "<Figure size 432x432 with 1 Axes>"
      ]
     },
     "metadata": {
      "needs_background": "light"
     },
     "output_type": "display_data"
    }
   ],
   "source": [
    "fig,ax_feature1 = plt.subplots(1,1,figsize = (6,6))\n",
    "sns.violinplot(x = 'features',y = 'values',hue = 'label',data = df_eda_melt.loc[df_eda_melt[\"features\"].isin([\"Feature 0\"])],split = True,ax = ax_feature1,inner='quartile')"
   ]
  },
  {
   "cell_type": "code",
   "execution_count": 15,
   "metadata": {},
   "outputs": [
    {
     "name": "stdout",
     "output_type": "stream",
     "text": [
      "Mean difference is statistically significant with pvalue of 0.023935305587587413\n"
     ]
    }
   ],
   "source": [
    "oneway_anova(df_eda.loc[df_eda[\"label\"] == 0][\"Feature 0\"],df_eda.loc[df_eda[\"label\"] == 1][\"Feature 0\"])"
   ]
  },
  {
   "cell_type": "markdown",
   "metadata": {},
   "source": [
    "Conclusion:\n",
    "\n",
    "Feature 0: MO HLADR+ MFI (cells/ul)\n",
    "\n",
    "The mean value of each class for Feature 0 is significantly different. Hence it can act as a good feature to separate classification of labels."
   ]
  },
  {
   "cell_type": "code",
   "execution_count": 16,
   "metadata": {},
   "outputs": [
    {
     "data": {
      "text/plain": [
       "<AxesSubplot:xlabel='features', ylabel='values'>"
      ]
     },
     "execution_count": 16,
     "metadata": {},
     "output_type": "execute_result"
    },
    {
     "data": {
      "image/png": "[encoded data removed]",
      "text/plain": [
       "<Figure size 432x432 with 1 Axes>"
      ]
     },
     "metadata": {
      "needs_background": "light"
     },
     "output_type": "display_data"
    }
   ],
   "source": [
    "fig,ax_feature2 = plt.subplots(1,1,figsize = (6,6))\n",
    "sns.violinplot(x = 'features',y = 'values',hue = 'label',data = df_eda_melt.loc[df_eda_melt[\"features\"].isin([\"Feature 1\"])],split = True,ax = ax_feature2,inner='quartile')"
   ]
  },
  {
   "cell_type": "code",
   "execution_count": 17,
   "metadata": {},
   "outputs": [
    {
     "name": "stdout",
     "output_type": "stream",
     "text": [
      "Mean difference is statistically significant with pvalue of 6.231848136249714e-07\n"
     ]
    }
   ],
   "source": [
    "oneway_anova(df_eda.loc[df_eda[\"label\"] == 0][\"Feature 1\"],df_eda.loc[df_eda[\"label\"] == 1][\"Feature 1\"])"
   ]
  },
  {
   "cell_type": "markdown",
   "metadata": {},
   "source": [
    "Conclusion:\n",
    "\n",
    "Feature 1: Neu CD64+MFI (cells/ul)\n",
    "\n",
    "The mean value of each class for Feature 1 is significantly different with a very low p value. Hence it can act as a good feature to separate classification of labels. As seen in the violin plot, it is clear that label 0 only exists in a small range of values, while label 1 exists in a larger range. This can be used to create a categorical variable for Feature 1."
   ]
  },
  {
   "cell_type": "code",
   "execution_count": 18,
   "metadata": {},
   "outputs": [
    {
     "data": {
      "text/plain": [
       "<AxesSubplot:xlabel='features', ylabel='values'>"
      ]
     },
     "execution_count": 18,
     "metadata": {},
     "output_type": "execute_result"
    },
    {
     "data": {
      "image/png": "[encoded data removed]",
      "text/plain": [
       "<Figure size 432x432 with 1 Axes>"
      ]
     },
     "metadata": {
      "needs_background": "light"
     },
     "output_type": "display_data"
    }
   ],
   "source": [
    "fig,ax_feature3 = plt.subplots(1,1,figsize = (6,6))\n",
    "sns.violinplot(x = 'features',y = 'values',hue = 'label',data = df_eda_melt.loc[df_eda_melt[\"features\"].isin([\"Feature 2\"])],split = True,ax = ax_feature3,inner='quartile')"
   ]
  },
  {
   "cell_type": "code",
   "execution_count": 19,
   "metadata": {},
   "outputs": [
    {
     "name": "stdout",
     "output_type": "stream",
     "text": [
      "Mean difference is statistically significant with pvalue of 0.0028437537923969997\n"
     ]
    }
   ],
   "source": [
    "oneway_anova(df_eda.loc[df_eda[\"label\"] == 0][\"Feature 2\"],df_eda.loc[df_eda[\"label\"] == 1][\"Feature 2\"])"
   ]
  },
  {
   "cell_type": "markdown",
   "metadata": {},
   "source": [
    "Conclusion:\n",
    "\n",
    "Feature 2: CD3+T (cells/ul)\n",
    "\n",
    "The mean value of each class for Feature 2 is significantly different with a very low p value. Hence it can act as a good feature to separate classification of labels."
   ]
  },
  {
   "cell_type": "code",
   "execution_count": 20,
   "metadata": {},
   "outputs": [
    {
     "data": {
      "text/plain": [
       "<AxesSubplot:xlabel='features', ylabel='values'>"
      ]
     },
     "execution_count": 20,
     "metadata": {},
     "output_type": "execute_result"
    },
    {
     "data": {
      "image/png": "[encoded data removed]",
      "text/plain": [
       "<Figure size 432x432 with 1 Axes>"
      ]
     },
     "metadata": {
      "needs_background": "light"
     },
     "output_type": "display_data"
    }
   ],
   "source": [
    "fig,ax_feature4 = plt.subplots(1,1,figsize = (6,6))\n",
    "sns.violinplot(x = 'features',y = 'values',hue = 'label',data = df_eda_melt.loc[df_eda_melt[\"features\"].isin([\"Feature 3\"])],split = True,ax = ax_feature4,inner='quartile')"
   ]
  },
  {
   "cell_type": "code",
   "execution_count": 21,
   "metadata": {},
   "outputs": [
    {
     "name": "stdout",
     "output_type": "stream",
     "text": [
      "Mean difference is statistically significant with pvalue of 0.010454126774601379\n"
     ]
    }
   ],
   "source": [
    "oneway_anova(df_eda.loc[df_eda[\"label\"] == 0][\"Feature 3\"],df_eda.loc[df_eda[\"label\"] == 1][\"Feature 3\"])"
   ]
  },
  {
   "cell_type": "markdown",
   "metadata": {},
   "source": [
    "Conclusion:\n",
    "\n",
    "Feature 3: CD8+T (cells/ul)\n",
    "\n",
    "The mean value of each class for Feature 3 is significantly different with a very low p value. Hence it can act as a good feature to separate classification of labels."
   ]
  },
  {
   "cell_type": "code",
   "execution_count": 22,
   "metadata": {},
   "outputs": [
    {
     "data": {
      "text/plain": [
       "<AxesSubplot:xlabel='features', ylabel='values'>"
      ]
     },
     "execution_count": 22,
     "metadata": {},
     "output_type": "execute_result"
    },
    {
     "data": {
      "image/png": "[encoded data removed]",
      "text/plain": [
       "<Figure size 432x432 with 1 Axes>"
      ]
     },
     "metadata": {
      "needs_background": "light"
     },
     "output_type": "display_data"
    }
   ],
   "source": [
    "fig,ax_feature5 = plt.subplots(1,1,figsize = (6,6))\n",
    "sns.violinplot(x = 'features',y = 'values',hue = 'label',data = df_eda_melt.loc[df_eda_melt[\"features\"].isin([\"Feature 4\"])],split = True,ax = ax_feature5,inner='quartile')"
   ]
  },
  {
   "cell_type": "code",
   "execution_count": 23,
   "metadata": {},
   "outputs": [
    {
     "name": "stdout",
     "output_type": "stream",
     "text": [
      "Mean difference is statistically significant with pvalue of 0.005129355965414621\n"
     ]
    }
   ],
   "source": [
    "oneway_anova(df_eda.loc[df_eda[\"label\"] == 0][\"Feature 4\"],df_eda.loc[df_eda[\"label\"] == 1][\"Feature 4\"])"
   ]
  },
  {
   "cell_type": "markdown",
   "metadata": {},
   "source": [
    "Conclusion:\n",
    "\n",
    "Feature 4: CD4+T (cells/ul)\n",
    "\n",
    "The mean value of each class for Feature 4 is significantly different with a very low p value. Hence it can act as a good feature to separate classification of labels."
   ]
  },
  {
   "cell_type": "code",
   "execution_count": 24,
   "metadata": {},
   "outputs": [
    {
     "data": {
      "text/plain": [
       "<AxesSubplot:xlabel='features', ylabel='values'>"
      ]
     },
     "execution_count": 24,
     "metadata": {},
     "output_type": "execute_result"
    },
    {
     "data": {
      "image/png": "[encoded data removed]",
      "text/plain": [
       "<Figure size 432x432 with 1 Axes>"
      ]
     },
     "metadata": {
      "needs_background": "light"
     },
     "output_type": "display_data"
    }
   ],
   "source": [
    "fig,ax_feature6 = plt.subplots(1,1,figsize = (6,6))\n",
    "sns.violinplot(x = 'features',y = 'values',hue = 'label',data = df_eda_melt.loc[df_eda_melt[\"features\"].isin([\"Feature 5\"])],split = True,ax = ax_feature6,inner='quartile')"
   ]
  },
  {
   "cell_type": "code",
   "execution_count": 25,
   "metadata": {},
   "outputs": [
    {
     "name": "stdout",
     "output_type": "stream",
     "text": [
      "Mean difference is statistically significant with pvalue of 8.502059872383942e-05\n"
     ]
    }
   ],
   "source": [
    "oneway_anova(df_eda.loc[df_eda[\"label\"] == 0][\"Feature 5\"],df_eda.loc[df_eda[\"label\"] == 1][\"Feature 5\"])"
   ]
  },
  {
   "cell_type": "markdown",
   "metadata": {},
   "source": [
    "Conclusion:\n",
    "\n",
    "Feature 5: NK (cells/ul)\n",
    "\n",
    "The mean value of each class for Feature 5 is significantly different with a very low p value. Hence it can act as a good feature to separate classification of labels. We can see that 75% of all class 1 cases occur before the 25th percentile value of label 0. Hence we can create a new categorical variable on label 1 which labels training instances as high risk if NK (cells/ul) is below the 75th percentile line of Feature 5 with respect to label 1."
   ]
  },
  {
   "cell_type": "code",
   "execution_count": 26,
   "metadata": {},
   "outputs": [
    {
     "data": {
      "text/plain": [
       "<AxesSubplot:xlabel='features', ylabel='values'>"
      ]
     },
     "execution_count": 26,
     "metadata": {},
     "output_type": "execute_result"
    },
    {
     "data": {
      "image/png": "[encoded data removed]",
      "text/plain": [
       "<Figure size 432x432 with 1 Axes>"
      ]
     },
     "metadata": {
      "needs_background": "light"
     },
     "output_type": "display_data"
    }
   ],
   "source": [
    "fig,ax_feature7 = plt.subplots(1,1,figsize = (6,6))\n",
    "sns.violinplot(x = 'features',y = 'values',hue = 'label',data = df_eda_melt.loc[df_eda_melt[\"features\"].isin([\"Feature 6\"])],split = True,ax = ax_feature7,inner='quartile')"
   ]
  },
  {
   "cell_type": "code",
   "execution_count": 27,
   "metadata": {},
   "outputs": [
    {
     "name": "stdout",
     "output_type": "stream",
     "text": [
      "Mean difference is statistically significant with pvalue of 0.001172085754178186\n"
     ]
    }
   ],
   "source": [
    "oneway_anova(df_eda.loc[df_eda[\"label\"] == 0][\"Feature 6\"],df_eda.loc[df_eda[\"label\"] == 1][\"Feature 6\"])"
   ]
  },
  {
   "cell_type": "markdown",
   "metadata": {},
   "source": [
    "Conclusion:\n",
    "\n",
    "Feature 6: CD19+ (cells/ul)\n",
    "\n",
    "The mean value of each class for Feature 6 is significantly different with a very low p value. Hence it can act as a good feature to separate classification of labels."
   ]
  },
  {
   "cell_type": "code",
   "execution_count": 28,
   "metadata": {},
   "outputs": [
    {
     "data": {
      "text/plain": [
       "<AxesSubplot:xlabel='features', ylabel='values'>"
      ]
     },
     "execution_count": 28,
     "metadata": {},
     "output_type": "execute_result"
    },
    {
     "data": {
      "image/png": "[encoded data removed]",
      "text/plain": [
       "<Figure size 432x432 with 1 Axes>"
      ]
     },
     "metadata": {
      "needs_background": "light"
     },
     "output_type": "display_data"
    }
   ],
   "source": [
    "fig,ax_feature8 = plt.subplots(1,1,figsize = (6,6))\n",
    "sns.violinplot(x = 'features',y = 'values',hue = 'label',data = df_eda_melt.loc[df_eda_melt[\"features\"].isin([\"Feature 7\"])],split = True,ax = ax_feature8,inner='quartile')"
   ]
  },
  {
   "cell_type": "code",
   "execution_count": 29,
   "metadata": {},
   "outputs": [
    {
     "name": "stdout",
     "output_type": "stream",
     "text": [
      "Mean difference is statistically significant with pvalue of 0.00035249089766524954\n"
     ]
    }
   ],
   "source": [
    "oneway_anova(df_eda.loc[df_eda[\"label\"] == 0][\"Feature 7\"],df_eda.loc[df_eda[\"label\"] == 1][\"Feature 7\"])"
   ]
  },
  {
   "cell_type": "markdown",
   "metadata": {},
   "source": [
    "Conclusion:\n",
    "\n",
    "Feature 7: CD45+ (cells/ul)\n",
    "\n",
    "The mean value of each class for Feature 7 is significantly different with a very low p value. Hence it can act as a good feature to separate classification of labels. We can see that 75% of all class 1 cases occur before the 25th percentile value of label 0. Hence we can create a new categorical variable on label 1 which labels training instances as high risk if CD45+ (cells/ul) is below the 75th percentile line of Feature 7 with respect to label 1."
   ]
  },
  {
   "cell_type": "code",
   "execution_count": 30,
   "metadata": {},
   "outputs": [
    {
     "data": {
      "text/plain": [
       "<AxesSubplot:xlabel='features', ylabel='values'>"
      ]
     },
     "execution_count": 30,
     "metadata": {},
     "output_type": "execute_result"
    },
    {
     "data": {
      "image/png": "[encoded data removed]",
      "text/plain": [
       "<Figure size 432x432 with 1 Axes>"
      ]
     },
     "metadata": {
      "needs_background": "light"
     },
     "output_type": "display_data"
    }
   ],
   "source": [
    "fig,ax_feature9 = plt.subplots(1,1,figsize = (6,6))\n",
    "sns.violinplot(x = 'features',y = 'values',hue = 'label',data = df_eda_melt.loc[df_eda_melt[\"features\"].isin([\"Feature 10\"])],split = True,ax = ax_feature9,inner='quartile')"
   ]
  },
  {
   "cell_type": "code",
   "execution_count": 31,
   "metadata": {},
   "outputs": [
    {
     "name": "stdout",
     "output_type": "stream",
     "text": [
      "Mean difference is statistically significant with pvalue of 0.0061543755802451194\n"
     ]
    }
   ],
   "source": [
    "oneway_anova(df_eda.loc[df_eda[\"label\"] == 0][\"Feature 10\"],df_eda.loc[df_eda[\"label\"] == 1][\"Feature 10\"])"
   ]
  },
  {
   "cell_type": "markdown",
   "metadata": {},
   "source": [
    "Conclusion:\n",
    "\n",
    "Feature 10: Mono CD64+MFI (cells/ul)\n",
    "\n",
    "The mean value of each class for Feature 10 is significantly different. Hence it can act as a good feature to separate classification of labels. "
   ]
  },
  {
   "cell_type": "markdown",
   "metadata": {},
   "source": [
    "From the above analysis, the features other than Feature 0 and Feature 10, can act as very good features to do classification on. While Feature 0 and Feature 10 are satistically different in mean, their p values are not low compared to the other Features"
   ]
  },
  {
   "cell_type": "markdown",
   "metadata": {},
   "source": [
    "Age"
   ]
  },
  {
   "cell_type": "code",
   "execution_count": 32,
   "metadata": {},
   "outputs": [
    {
     "data": {
      "text/plain": [
       "<AxesSubplot:xlabel='features', ylabel='values'>"
      ]
     },
     "execution_count": 32,
     "metadata": {},
     "output_type": "execute_result"
    },
    {
     "data": {
      "image/png": "[encoded data removed]",
      "text/plain": [
       "<Figure size 432x432 with 1 Axes>"
      ]
     },
     "metadata": {
      "needs_background": "light"
     },
     "output_type": "display_data"
    }
   ],
   "source": [
    "fig,ax_feature10 = plt.subplots(1,1,figsize = (6,6))\n",
    "sns.violinplot(x = 'features',y = 'values',hue = 'label',data = df_eda_melt.loc[df_eda_melt[\"features\"].isin([\"Age\"])],split = True,ax = ax_feature10,inner='quartile')"
   ]
  },
  {
   "cell_type": "code",
   "execution_count": 33,
   "metadata": {},
   "outputs": [
    {
     "name": "stdout",
     "output_type": "stream",
     "text": [
      "Mean difference is statistically not significant with pvalue of 0.4257126077655161\n"
     ]
    }
   ],
   "source": [
    "oneway_anova(df_eda.loc[df_eda[\"label\"] == 0][\"Age\"],df_eda.loc[df_eda[\"label\"] == 1][\"Age\"])"
   ]
  },
  {
   "cell_type": "markdown",
   "metadata": {},
   "source": [
    "Conclusion:\n",
    "\n",
    "Feature: Age\n",
    "\n",
    "The mean value of each class for Age is not significantly different as seen by both the violin plot and the pvalue of the ANOVA test, which is grester than 0.05."
   ]
  },
  {
   "cell_type": "markdown",
   "metadata": {},
   "source": [
    "Sex"
   ]
  },
  {
   "cell_type": "code",
   "execution_count": 34,
   "metadata": {},
   "outputs": [
    {
     "data": {
      "text/plain": [
       "<AxesSubplot:xlabel='Sex', ylabel='count'>"
      ]
     },
     "execution_count": 34,
     "metadata": {},
     "output_type": "execute_result"
    },
    {
     "data": {
      "image/png": "[encoded data removed]",
      "text/plain": [
       "<Figure size 432x288 with 1 Axes>"
      ]
     },
     "metadata": {
      "needs_background": "light"
     },
     "output_type": "display_data"
    }
   ],
   "source": [
    "sns.countplot(x = \"Sex\",hue = \"label\",data = df_eda) "
   ]
  },
  {
   "cell_type": "code",
   "execution_count": 35,
   "metadata": {},
   "outputs": [
    {
     "name": "stdout",
     "output_type": "stream",
     "text": [
      "No correlation. Critical Value for 0.95 siginficance : 3.841458820694124. Chi2 statistic : 0.0\n"
     ]
    }
   ],
   "source": [
    "check_chi2_correlation(pd.crosstab(df_eda[\"Sex\"],df_eda[\"label\"]))"
   ]
  },
  {
   "cell_type": "markdown",
   "metadata": {},
   "source": [
    "Conclusion\n",
    "\n",
    "As seen above and proved by the Chi2 test for the categorical variables, there is no useful split between 0 and 1 labels between the 2 genders. "
   ]
  },
  {
   "cell_type": "markdown",
   "metadata": {},
   "source": [
    "<h3>Plotting Swarm plots to visualize the distribution of instances for each feature</h3>\n",
    "Swarm plots can show which continuous features allow for good separation of labels. "
   ]
  },
  {
   "cell_type": "markdown",
   "metadata": {},
   "source": [
    "Feature 0 : MO HLADR+ MFI (cells/ul)"
   ]
  },
  {
   "cell_type": "code",
   "execution_count": 36,
   "metadata": {},
   "outputs": [
    {
     "name": "stderr",
     "output_type": "stream",
     "text": [
      "c:\\Users\\Pasindu.Samaranayake\\Desktop\\MSc\\Predicting_Pneumonia\\lib\\site-packages\\seaborn\\categorical.py:3002: UserWarning: The `split` parameter has been renamed to `dodge`.\n",
      "  warnings.warn(msg, UserWarning)\n"
     ]
    },
    {
     "data": {
      "text/plain": [
       "<AxesSubplot:xlabel='features', ylabel='values'>"
      ]
     },
     "execution_count": 36,
     "metadata": {},
     "output_type": "execute_result"
    },
    {
     "data": {
      "image/png": "[encoded data removed]",
      "text/plain": [
       "<Figure size 432x432 with 1 Axes>"
      ]
     },
     "metadata": {
      "needs_background": "light"
     },
     "output_type": "display_data"
    }
   ],
   "source": [
    "fig,ax_swarm1 = plt.subplots(1,1,figsize = (6,6))\n",
    "sns.swarmplot(x = 'features',y = 'values',hue = 'label',data = df_eda_melt.loc[df_eda_melt[\"features\"].isin([\"Feature 0\"])],split = True,ax = ax_swarm1,color = \".2\")\n",
    "sns.boxplot(x = 'features',y = 'values',hue = 'label',data = df_eda_melt.loc[df_eda_melt[\"features\"].isin([\"Feature 0\"])],ax = ax_swarm1)"
   ]
  },
  {
   "cell_type": "markdown",
   "metadata": {},
   "source": [
    "Feature 1 : Neu CD64+MFI (cells/ul)"
   ]
  },
  {
   "cell_type": "code",
   "execution_count": 37,
   "metadata": {},
   "outputs": [
    {
     "name": "stderr",
     "output_type": "stream",
     "text": [
      "c:\\Users\\Pasindu.Samaranayake\\Desktop\\MSc\\Predicting_Pneumonia\\lib\\site-packages\\seaborn\\categorical.py:3002: UserWarning: The `split` parameter has been renamed to `dodge`.\n",
      "  warnings.warn(msg, UserWarning)\n"
     ]
    },
    {
     "data": {
      "text/plain": [
       "<AxesSubplot:xlabel='features', ylabel='values'>"
      ]
     },
     "execution_count": 37,
     "metadata": {},
     "output_type": "execute_result"
    },
    {
     "data": {
      "image/png": "[encoded data removed]",
      "text/plain": [
       "<Figure size 432x432 with 1 Axes>"
      ]
     },
     "metadata": {
      "needs_background": "light"
     },
     "output_type": "display_data"
    }
   ],
   "source": [
    "fig,ax_swarm2 = plt.subplots(1,1,figsize = (6,6))\n",
    "sns.swarmplot(x = 'features',y = 'values',hue = 'label',data = df_eda_melt.loc[df_eda_melt[\"features\"].isin([\"Feature 1\"])],split = True,ax = ax_swarm2,color = '.2')\n",
    "sns.boxplot(x = 'features',y = 'values',hue = 'label',data = df_eda_melt.loc[df_eda_melt[\"features\"].isin([\"Feature 1\"])],ax = ax_swarm2)"
   ]
  },
  {
   "cell_type": "markdown",
   "metadata": {},
   "source": [
    "Feature 2 : CD3+T (cells/ul)"
   ]
  },
  {
   "cell_type": "code",
   "execution_count": 38,
   "metadata": {},
   "outputs": [
    {
     "name": "stderr",
     "output_type": "stream",
     "text": [
      "c:\\Users\\Pasindu.Samaranayake\\Desktop\\MSc\\Predicting_Pneumonia\\lib\\site-packages\\seaborn\\categorical.py:3002: UserWarning: The `split` parameter has been renamed to `dodge`.\n",
      "  warnings.warn(msg, UserWarning)\n"
     ]
    },
    {
     "data": {
      "text/plain": [
       "<AxesSubplot:xlabel='features', ylabel='values'>"
      ]
     },
     "execution_count": 38,
     "metadata": {},
     "output_type": "execute_result"
    },
    {
     "data": {
      "image/png": "[encoded data removed]",
      "text/plain": [
       "<Figure size 432x432 with 1 Axes>"
      ]
     },
     "metadata": {
      "needs_background": "light"
     },
     "output_type": "display_data"
    }
   ],
   "source": [
    "fig,ax_swarm3 = plt.subplots(1,1,figsize = (6,6))\n",
    "sns.swarmplot(x = 'features',y = 'values',hue = 'label',data = df_eda_melt.loc[df_eda_melt[\"features\"].isin([\"Feature 2\"])],split = True,ax = ax_swarm3,color = '.2')\n",
    "sns.boxplot(x = 'features',y = 'values',hue = 'label',data = df_eda_melt.loc[df_eda_melt[\"features\"].isin([\"Feature 2\"])],ax = ax_swarm3)"
   ]
  },
  {
   "cell_type": "markdown",
   "metadata": {},
   "source": [
    "Feature 3 : CD8+T (cells/ul)"
   ]
  },
  {
   "cell_type": "code",
   "execution_count": 39,
   "metadata": {},
   "outputs": [
    {
     "name": "stderr",
     "output_type": "stream",
     "text": [
      "c:\\Users\\Pasindu.Samaranayake\\Desktop\\MSc\\Predicting_Pneumonia\\lib\\site-packages\\seaborn\\categorical.py:3002: UserWarning: The `split` parameter has been renamed to `dodge`.\n",
      "  warnings.warn(msg, UserWarning)\n"
     ]
    },
    {
     "data": {
      "text/plain": [
       "<AxesSubplot:xlabel='features', ylabel='values'>"
      ]
     },
     "execution_count": 39,
     "metadata": {},
     "output_type": "execute_result"
    },
    {
     "data": {
      "image/png": "[encoded data removed]",
      "text/plain": [
       "<Figure size 432x432 with 1 Axes>"
      ]
     },
     "metadata": {
      "needs_background": "light"
     },
     "output_type": "display_data"
    }
   ],
   "source": [
    "fig,ax_swarm4 = plt.subplots(1,1,figsize = (6,6))\n",
    "sns.swarmplot(x = 'features',y = 'values',hue = 'label',data = df_eda_melt.loc[df_eda_melt[\"features\"].isin([\"Feature 3\"])],split = True,ax = ax_swarm4,color = '.2')\n",
    "sns.boxplot(x = 'features',y = 'values',hue = 'label',data = df_eda_melt.loc[df_eda_melt[\"features\"].isin([\"Feature 3\"])],ax = ax_swarm4)"
   ]
  },
  {
   "cell_type": "markdown",
   "metadata": {},
   "source": [
    "Feature 4 : CD4+T (cells/ul)"
   ]
  },
  {
   "cell_type": "code",
   "execution_count": 40,
   "metadata": {},
   "outputs": [
    {
     "name": "stderr",
     "output_type": "stream",
     "text": [
      "c:\\Users\\Pasindu.Samaranayake\\Desktop\\MSc\\Predicting_Pneumonia\\lib\\site-packages\\seaborn\\categorical.py:3002: UserWarning: The `split` parameter has been renamed to `dodge`.\n",
      "  warnings.warn(msg, UserWarning)\n"
     ]
    },
    {
     "data": {
      "text/plain": [
       "<AxesSubplot:xlabel='features', ylabel='values'>"
      ]
     },
     "execution_count": 40,
     "metadata": {},
     "output_type": "execute_result"
    },
    {
     "data": {
      "image/png": "[encoded data removed]",
      "text/plain": [
       "<Figure size 432x432 with 1 Axes>"
      ]
     },
     "metadata": {
      "needs_background": "light"
     },
     "output_type": "display_data"
    }
   ],
   "source": [
    "fig,ax_swarm5 = plt.subplots(1,1,figsize = (6,6))\n",
    "sns.swarmplot(x = 'features',y = 'values',hue = 'label',data = df_eda_melt.loc[df_eda_melt[\"features\"].isin([\"Feature 4\"])],split = True,ax = ax_swarm5,color = '.2')\n",
    "sns.boxplot(x = 'features',y = 'values',hue = 'label',data = df_eda_melt.loc[df_eda_melt[\"features\"].isin([\"Feature 4\"])],ax = ax_swarm5)"
   ]
  },
  {
   "cell_type": "markdown",
   "metadata": {},
   "source": [
    "Feature 5 : NK (cells/ul)"
   ]
  },
  {
   "cell_type": "code",
   "execution_count": 41,
   "metadata": {},
   "outputs": [
    {
     "name": "stderr",
     "output_type": "stream",
     "text": [
      "c:\\Users\\Pasindu.Samaranayake\\Desktop\\MSc\\Predicting_Pneumonia\\lib\\site-packages\\seaborn\\categorical.py:3002: UserWarning: The `split` parameter has been renamed to `dodge`.\n",
      "  warnings.warn(msg, UserWarning)\n"
     ]
    },
    {
     "data": {
      "text/plain": [
       "<AxesSubplot:xlabel='features', ylabel='values'>"
      ]
     },
     "execution_count": 41,
     "metadata": {},
     "output_type": "execute_result"
    },
    {
     "data": {
      "image/png": "[encoded data removed]",
      "text/plain": [
       "<Figure size 432x432 with 1 Axes>"
      ]
     },
     "metadata": {
      "needs_background": "light"
     },
     "output_type": "display_data"
    }
   ],
   "source": [
    "fig,ax_swarm6 = plt.subplots(1,1,figsize = (6,6))\n",
    "sns.swarmplot(x = 'features',y = 'values',hue = 'label',data = df_eda_melt.loc[df_eda_melt[\"features\"].isin([\"Feature 5\"])],split = True,ax = ax_swarm6,color = '.2')\n",
    "sns.boxplot(x = 'features',y = 'values',hue = 'label',data = df_eda_melt.loc[df_eda_melt[\"features\"].isin([\"Feature 5\"])],ax = ax_swarm6)"
   ]
  },
  {
   "cell_type": "markdown",
   "metadata": {},
   "source": [
    "Feature 6 : CD19+ (cells/ul)"
   ]
  },
  {
   "cell_type": "code",
   "execution_count": 42,
   "metadata": {},
   "outputs": [
    {
     "name": "stderr",
     "output_type": "stream",
     "text": [
      "c:\\Users\\Pasindu.Samaranayake\\Desktop\\MSc\\Predicting_Pneumonia\\lib\\site-packages\\seaborn\\categorical.py:3002: UserWarning: The `split` parameter has been renamed to `dodge`.\n",
      "  warnings.warn(msg, UserWarning)\n"
     ]
    },
    {
     "data": {
      "text/plain": [
       "<AxesSubplot:xlabel='features', ylabel='values'>"
      ]
     },
     "execution_count": 42,
     "metadata": {},
     "output_type": "execute_result"
    },
    {
     "data": {
      "image/png": "[encoded data removed]",
      "text/plain": [
       "<Figure size 432x432 with 1 Axes>"
      ]
     },
     "metadata": {
      "needs_background": "light"
     },
     "output_type": "display_data"
    }
   ],
   "source": [
    "fig,ax_swarm7 = plt.subplots(1,1,figsize = (6,6))\n",
    "sns.swarmplot(x = 'features',y = 'values',hue = 'label',data = df_eda_melt.loc[df_eda_melt[\"features\"].isin([\"Feature 6\"])],split = True,ax = ax_swarm7,color = '.2')\n",
    "sns.boxplot(x = 'features',y = 'values',hue = 'label',data = df_eda_melt.loc[df_eda_melt[\"features\"].isin([\"Feature 6\"])],ax = ax_swarm7)"
   ]
  },
  {
   "cell_type": "markdown",
   "metadata": {},
   "source": [
    "Feature 7 : CD45+ (cells/ul)"
   ]
  },
  {
   "cell_type": "code",
   "execution_count": 44,
   "metadata": {},
   "outputs": [
    {
     "name": "stderr",
     "output_type": "stream",
     "text": [
      "c:\\Users\\Pasindu.Samaranayake\\Desktop\\MSc\\Predicting_Pneumonia\\lib\\site-packages\\seaborn\\categorical.py:3002: UserWarning: The `split` parameter has been renamed to `dodge`.\n",
      "  warnings.warn(msg, UserWarning)\n"
     ]
    },
    {
     "data": {
      "text/plain": [
       "<AxesSubplot:xlabel='features', ylabel='values'>"
      ]
     },
     "execution_count": 44,
     "metadata": {},
     "output_type": "execute_result"
    },
    {
     "data": {
      "image/png": "[encoded data removed]",
      "text/plain": [
       "<Figure size 432x432 with 1 Axes>"
      ]
     },
     "metadata": {
      "needs_background": "light"
     },
     "output_type": "display_data"
    }
   ],
   "source": [
    "fig,ax_swarm8 = plt.subplots(1,1,figsize = (6,6))\n",
    "sns.swarmplot(x = 'features',y = 'values',hue = 'label',data = df_eda_melt.loc[df_eda_melt[\"features\"].isin([\"Feature 7\"])],split = True,ax = ax_swarm8,color = '.2')\n",
    "sns.boxplot(x = 'features',y = 'values',hue = 'label',data = df_eda_melt.loc[df_eda_melt[\"features\"].isin([\"Feature 7\"])],ax = ax_swarm8)"
   ]
  },
  {
   "cell_type": "markdown",
   "metadata": {},
   "source": [
    "Feature 10: Mono CD64+MFI (cells/ul)"
   ]
  },
  {
   "cell_type": "code",
   "execution_count": 45,
   "metadata": {},
   "outputs": [
    {
     "name": "stderr",
     "output_type": "stream",
     "text": [
      "c:\\Users\\Pasindu.Samaranayake\\Desktop\\MSc\\Predicting_Pneumonia\\lib\\site-packages\\seaborn\\categorical.py:3002: UserWarning: The `split` parameter has been renamed to `dodge`.\n",
      "  warnings.warn(msg, UserWarning)\n"
     ]
    },
    {
     "data": {
      "text/plain": [
       "<AxesSubplot:xlabel='features', ylabel='values'>"
      ]
     },
     "execution_count": 45,
     "metadata": {},
     "output_type": "execute_result"
    },
    {
     "data": {
      "image/png": "[encoded data removed]",
      "text/plain": [
       "<Figure size 432x432 with 1 Axes>"
      ]
     },
     "metadata": {
      "needs_background": "light"
     },
     "output_type": "display_data"
    }
   ],
   "source": [
    "fig,ax_swarm9 = plt.subplots(1,1,figsize = (6,6))\n",
    "sns.swarmplot(x = 'features',y = 'values',hue = 'label',data = df_eda_melt.loc[df_eda_melt[\"features\"].isin([\"Feature 10\"])],split = True,ax = ax_swarm9,color = '.2')\n",
    "sns.boxplot(x = 'features',y = 'values',hue = 'label',data = df_eda_melt.loc[df_eda_melt[\"features\"].isin([\"Feature 10\"])],ax = ax_swarm9)"
   ]
  },
  {
   "cell_type": "markdown",
   "metadata": {},
   "source": [
    "Insight from Exploratory Data Analysis:\n",
    "\n",
    "Features 0 show similar distributions between both classes and no useful separation. \n",
    "\n",
    "Features 2,3,4 show similar distributions between both classes and no useful separation. Also these 3 features show very similar distributions for each feature itself. This suggests high correlation. \n",
    "\n",
    "Feature 6,7 show similar distributions between both classes and no useful separation. \n",
    "\n",
    "Feature 1 shows that all instances of class label 0 are much lower than that of class label 1. Hence we can create a categorical attribute of high risk and low risk.\n",
    "\n",
    "Feature 5 shows that all instances of class label 1 are concentrated below the 75th percentile. Hence we can create a categorical attribute with this feature anything below the 75th pecentile of Class label 1 is considered as high risk. \n",
    "\n",
    "In Feature 10, majority of the instances of class Label 0 are concentrated betwee the 25th and 75th percentiles hence all values of the 10th Feature below the 75th percentile can be considered as low risk. "
   ]
  },
  {
   "cell_type": "markdown",
   "metadata": {},
   "source": [
    "Feature engineering"
   ]
  },
  {
   "cell_type": "markdown",
   "metadata": {},
   "source": [
    "1) New categorical attribute will be created using feature 1. The instances with Feature 1 values < the 75th Percentile + 1.5IQR of feature 1 in class 0 will be considered as low risk\n",
    "\n",
    "2) New categorical attribute will be created using feature 5. The instances with Feature 5 values < the 75th Percentile feature 5 in class 1 will be considered as high risk\n",
    "\n",
    "3) New categorical attribute will be created using feature 10. The instances with Feature 10 values < the 75th Percentile feature 10 in class 0 will be considered as low risk"
   ]
  },
  {
   "cell_type": "markdown",
   "metadata": {},
   "source": [
    "First we shall model without any Feature Engineering\n",
    "\n",
    "Oversampling is used"
   ]
  },
  {
   "cell_type": "code",
   "execution_count": 46,
   "metadata": {},
   "outputs": [],
   "source": [
    "preprocess_training_plain = preprocess_data(filepath=str(Path(Path.cwd()/\"Data\"/\"train.csv\").resolve()))\n",
    "df_plain = preprocess_training_plain.read_df(process_complete=True,feature_eng=False,oversampling=True)\n",
    "df_test_plain = preprocess_training_plain.read_df(process_complete=True,test_df=True, test_path=str(Path(Path.cwd()/\"Data\"/\"test.csv\").resolve()))"
   ]
  },
  {
   "cell_type": "code",
   "execution_count": 47,
   "metadata": {},
   "outputs": [],
   "source": [
    "df_train_plain = df_plain[[i for i in df_plain.columns.tolist() if i != \"label\"]]\n",
    "df_labels_plain = df_plain[[\"label\"]]"
   ]
  },
  {
   "cell_type": "markdown",
   "metadata": {},
   "source": [
    "First we test a Neural Network with two layers"
   ]
  },
  {
   "cell_type": "markdown",
   "metadata": {},
   "source": [
    "Hyperparameter tuning of the number of units in the first and second layer"
   ]
  },
  {
   "cell_type": "code",
   "execution_count": 48,
   "metadata": {},
   "outputs": [],
   "source": [
    "first_layer_output = [15,16,17,18,19,20]\n",
    "second_layer_output =[6,7,8,9]\n",
    "combinations = list(product([i for i,j in enumerate(first_layer_output)],[i for i,j in enumerate(second_layer_output)]))\n",
    "parameter_list = list()\n",
    "\n",
    "for combination in combinations:\n",
    "    parameter_list.append([first_layer_output[combination[0]],second_layer_output[combination[1]]])"
   ]
  },
  {
   "cell_type": "markdown",
   "metadata": {},
   "source": [
    "Training a neural network on the dataset with no feature engineering"
   ]
  },
  {
   "cell_type": "code",
   "execution_count": 49,
   "metadata": {},
   "outputs": [
    {
     "name": "stdout",
     "output_type": "stream",
     "text": [
      "Done First Layer: 15 and Second Layer:6. Accuracy : 0.8679841897233201. Split Size : 92\n",
      "Done First Layer: 15 and Second Layer:7. Accuracy : 0.8679841897233201. Split Size : 92\n",
      "Done First Layer: 15 and Second Layer:8. Accuracy : 0.8588932806324111. Split Size : 92\n",
      "Done First Layer: 15 and Second Layer:9. Accuracy : 0.8679841897233201. Split Size : 92\n",
      "Done First Layer: 16 and Second Layer:6. Accuracy : 0.8588932806324111. Split Size : 92\n",
      "Done First Layer: 16 and Second Layer:7. Accuracy : 0.850197628458498. Split Size : 92\n",
      "Done First Layer: 16 and Second Layer:8. Accuracy : 0.8588932806324111. Split Size : 92\n",
      "Done First Layer: 16 and Second Layer:9. Accuracy : 0.8588932806324111. Split Size : 92\n",
      "Done First Layer: 17 and Second Layer:6. Accuracy : 0.8679841897233201. Split Size : 92\n",
      "Done First Layer: 17 and Second Layer:7. Accuracy : 0.8679841897233201. Split Size : 92\n",
      "Done First Layer: 17 and Second Layer:8. Accuracy : 0.867588932806324. Split Size : 92\n",
      "Done First Layer: 17 and Second Layer:9. Accuracy : 0.8588932806324111. Split Size : 92\n",
      "Done First Layer: 18 and Second Layer:6. Accuracy : 0.8588932806324111. Split Size : 92\n",
      "Done First Layer: 18 and Second Layer:7. Accuracy : 0.8588932806324111. Split Size : 92\n",
      "Done First Layer: 18 and Second Layer:8. Accuracy : 0.8588932806324111. Split Size : 92\n",
      "Done First Layer: 18 and Second Layer:9. Accuracy : 0.8588932806324111. Split Size : 92\n",
      "Done First Layer: 19 and Second Layer:6. Accuracy : 0.859288537549407. Split Size : 92\n",
      "Done First Layer: 19 and Second Layer:7. Accuracy : 0.850197628458498. Split Size : 92\n",
      "Done First Layer: 19 and Second Layer:8. Accuracy : 0.859288537549407. Split Size : 92\n",
      "Done First Layer: 19 and Second Layer:9. Accuracy : 0.8588932806324111. Split Size : 92\n",
      "Done First Layer: 20 and Second Layer:6. Accuracy : 0.8766798418972332. Split Size : 92\n",
      "Done First Layer: 20 and Second Layer:7. Accuracy : 0.8588932806324111. Split Size : 92\n",
      "Done First Layer: 20 and Second Layer:8. Accuracy : 0.867588932806324. Split Size : 92\n",
      "Done First Layer: 20 and Second Layer:9. Accuracy : 0.867588932806324. Split Size : 92\n"
     ]
    }
   ],
   "source": [
    "accuracy_list_plain = list()\n",
    "for parameter_set in parameter_list:\n",
    "# for units in first_layer_output:\n",
    "    first_layer_output_units = parameter_set[0]\n",
    "    second_layer_output_units = parameter_set[1]\n",
    "    epoch_num = 10\n",
    "    cross_val_splits = 5\n",
    "\n",
    "    ksplitter = StratifiedKFold(n_splits = 5, shuffle = True,random_state = 42)\n",
    "    model_score = 0\n",
    "    model_loss = 0\n",
    "    #KFold cross validation used with stratification to ensure equal label distribution among splits\n",
    "    for train_idx,valid_idx in ksplitter.split(df_train_plain,df_labels_plain):\n",
    "        layer_info_dict = {\n",
    "            1:(df_train_plain.shape[1],first_layer_output_units,'elu'),\n",
    "            # 1:(df_train.shape[1],units,'relu'),\n",
    "            2:(first_layer_output_units,second_layer_output_units,'elu'),\n",
    "            #output layer\n",
    "            # 3:(second_layer_output_units,4,'elu'),\n",
    "            3:(second_layer_output_units,1,'sigmoid')\n",
    "        }\n",
    "        \n",
    "        model = NeuralNetwork(layer_info_dict)\n",
    "        loss_fn = nn.BCELoss()\n",
    "        X_train,y_train = df_train_plain.to_numpy()[train_idx],df_labels_plain.to_numpy()[train_idx]\n",
    "        X_valid,y_valid = df_train_plain.to_numpy()[valid_idx],df_labels_plain.to_numpy()[valid_idx]\n",
    "\n",
    "        ds_train = TensorDataset(torch.tensor(X_train),torch.tensor(y_train))\n",
    "        train_dataloader = DataLoader(ds_train,batch_sampler=None,batch_size=None)\n",
    "        ds_valid = TensorDataset(torch.tensor(X_valid),torch.tensor(y_valid))\n",
    "        valid_dataloader = DataLoader(ds_valid,batch_sampler=None,batch_size=None)\n",
    "        trainvalidate = TrainingValidatingNetwork()\n",
    "        optimizer = torch.optim.Adam(model.parameters(),lr = 1e-3)\n",
    "        accuracy,loss,model = trainvalidate.train_and_validate(train_dataloader,valid_dataloader,model,loss_fn,epochs=10,optimizer=optimizer)       \n",
    "        model_score += accuracy\n",
    "        model_loss += loss\n",
    "    print(f\"Done First Layer: {first_layer_output_units} and Second Layer:{second_layer_output_units}. Accuracy : {model_score/cross_val_splits}. Split Size : {train_idx.shape[0]}\")\n",
    "    accuracy_list_plain.append((first_layer_output_units,second_layer_output_units,model_score/cross_val_splits,model))\n",
    "    # accuracy_list.append((units,model_score/cross_val_splits))\n",
    "    # print(f\"First Layer : {first_layer_output_units}, Second Layer: {second_layer_output_units}, Accuracy : {model_score/cross_val_splits}, Loss: {model_loss/cross_val_splits}\")"
   ]
  },
  {
   "cell_type": "code",
   "execution_count": 50,
   "metadata": {},
   "outputs": [],
   "source": [
    "y_pred_list_train_noeng = list()\n",
    "y_pred_list_test_noeng = list()\n",
    "train_plain_np = df_train_plain.to_numpy()\n",
    "test_plain_np = df_test_plain.to_numpy()\n",
    "model_final_plain = sorted(accuracy_list_plain,key = lambda x:x[2],reverse=True)[0][3]\n",
    "\n",
    "with torch.no_grad():\n",
    "    for i in train_plain_np:\n",
    "        y_pred_list_train_noeng.append(model_final_plain(torch.tensor(i).float()).round().detach().numpy()[0])\n",
    "\n",
    "\n",
    "with torch.no_grad():\n",
    "    for j in test_plain_np:\n",
    "        y_pred_list_test_noeng.append(model_final_plain(torch.tensor(j).float()).round().detach().numpy()[0])"
   ]
  },
  {
   "cell_type": "code",
   "execution_count": 51,
   "metadata": {},
   "outputs": [
    {
     "data": {
      "text/plain": [
       "0.8947368421052632"
      ]
     },
     "execution_count": 51,
     "metadata": {},
     "output_type": "execute_result"
    }
   ],
   "source": [
    "from sklearn.metrics import accuracy_score\n",
    "accuracy_score(df_labels_plain.to_numpy().reshape(-1,),np.array(y_pred_list_train_noeng))"
   ]
  },
  {
   "cell_type": "markdown",
   "metadata": {},
   "source": [
    "Submission : Neural Network with no Feature Engineering\n",
    "\n"
   ]
  },
  {
   "cell_type": "code",
   "execution_count": 52,
   "metadata": {},
   "outputs": [],
   "source": [
    "df_data = {'id':list(range(len(y_pred_list_test_noeng))),'label':[int(i) for i in y_pred_list_test_noeng]}\n",
    "pd.DataFrame(df_data).to_csv(\"Submission.csv\")"
   ]
  },
  {
   "cell_type": "markdown",
   "metadata": {},
   "source": [
    "Random Forest Trained on the plain dataset with no Feature Engineering"
   ]
  },
  {
   "cell_type": "code",
   "execution_count": 61,
   "metadata": {},
   "outputs": [
    {
     "name": "stdout",
     "output_type": "stream",
     "text": [
      "Fitting 5 folds for each of 96 candidates, totalling 480 fits\n"
     ]
    },
    {
     "data": {
      "text/plain": [
       "GridSearchCV(cv=5, estimator=RandomForestClassifier(random_state=42),\n",
       "             param_grid={'max_depth': [10, 15, 20],\n",
       "                         'max_features': [4, 5, 6, 7],\n",
       "                         'n_estimators': [10, 50, 100, 200, 300, 400, 500,\n",
       "                                          1000]},\n",
       "             refit='Accuracy', return_train_score=True,\n",
       "             scoring={'Accuracy': make_scorer(accuracy_score)}, verbose=1)"
      ]
     },
     "execution_count": 61,
     "metadata": {},
     "output_type": "execute_result"
    }
   ],
   "source": [
    "from sklearn.metrics import accuracy_score\n",
    "from sklearn.metrics import make_scorer\n",
    "parameters = {\n",
    "    'n_estimators':[10,50,100,200,300,400,500,1000],\n",
    "    'max_depth':[10,15,20],\n",
    "    'max_features':[4,5,6,7]\n",
    "}\n",
    "\n",
    "scoring = {\"Accuracy\":make_scorer(accuracy_score)}\n",
    "\n",
    "randforest = RandomForestClassifier(random_state=42)\n",
    "\n",
    "\n",
    "# rands = RandomizedSearchCV(estimator=randforest,param_distributions=parameters,scoring = scoring,refit = \"Accuracy\",cv = 5, return_train_score=True,random_state=42)\n",
    "rands = GridSearchCV(estimator=randforest,param_grid=parameters,scoring=scoring,refit = \"Accuracy\",cv = 5,return_train_score=True,verbose=1)\n",
    "\n",
    "rands.fit(df_train_plain.to_numpy(),df_labels_plain.to_numpy().reshape(-1,))"
   ]
  },
  {
   "cell_type": "code",
   "execution_count": 62,
   "metadata": {},
   "outputs": [
    {
     "data": {
      "text/plain": [
       "1.0"
      ]
     },
     "execution_count": 62,
     "metadata": {},
     "output_type": "execute_result"
    }
   ],
   "source": [
    "y_pred = rands.best_estimator_.predict(df_train_plain.to_numpy())\n",
    "accuracy_score(df_labels_plain.to_numpy().reshape(-1,),y_pred)"
   ]
  },
  {
   "cell_type": "code",
   "execution_count": 63,
   "metadata": {},
   "outputs": [
    {
     "data": {
      "text/plain": [
       "{'max_depth': 10, 'max_features': 4, 'n_estimators': 200}"
      ]
     },
     "execution_count": 63,
     "metadata": {},
     "output_type": "execute_result"
    }
   ],
   "source": [
    "rands.best_params_"
   ]
  },
  {
   "cell_type": "markdown",
   "metadata": {},
   "source": [
    "Submission with Random Forest (No Feature Engineering)\n",
    "\n",
    "Contains oversampling and achieves a submission score of 0.96551(Submission 2)"
   ]
  },
  {
   "cell_type": "code",
   "execution_count": 64,
   "metadata": {},
   "outputs": [],
   "source": [
    "y_test_pred = rands.best_estimator_.predict(df_test_plain.to_numpy())\n",
    "df_data = {'id':list(range(y_test_pred.shape[0])),'label':y_test_pred.tolist()}\n",
    "pd.DataFrame(df_data).to_csv(\"Submission.csv\")"
   ]
  },
  {
   "cell_type": "markdown",
   "metadata": {},
   "source": [
    "Random Forest on data with no scaling"
   ]
  },
  {
   "cell_type": "code",
   "execution_count": 65,
   "metadata": {},
   "outputs": [],
   "source": [
    "preprocess_training_plain = preprocess_data(filepath=str(Path(Path.cwd()/\"Data\"/\"train.csv\").resolve()))\n",
    "df_plain_noscale = preprocess_training_plain.read_df(process_complete=True,feature_eng=False,oversampling=True,scaling=False)\n",
    "df_test_plain_noscale = preprocess_training_plain.read_df(process_complete=True,test_df=True, test_path=str(Path(Path.cwd()/\"Data\"/\"test.csv\").resolve()),scaling=False)\n",
    "df_train_plain_noscale = df_plain_noscale[[i for i in df_plain_noscale.columns.tolist() if i != \"label\"]]\n",
    "df_labels_plain_noscale = df_plain_noscale[[\"label\"]]"
   ]
  },
  {
   "cell_type": "code",
   "execution_count": 66,
   "metadata": {},
   "outputs": [
    {
     "name": "stdout",
     "output_type": "stream",
     "text": [
      "Fitting 5 folds for each of 48 candidates, totalling 240 fits\n"
     ]
    },
    {
     "data": {
      "text/plain": [
       "GridSearchCV(cv=5, estimator=RandomForestClassifier(random_state=42),\n",
       "             param_grid={'max_depth': [3, 5, 8], 'max_features': [1, 2, 3, 4],\n",
       "                         'n_estimators': [10, 50, 100, 150]},\n",
       "             refit='Accuracy', return_train_score=True,\n",
       "             scoring={'Accuracy': make_scorer(accuracy_score)}, verbose=1)"
      ]
     },
     "execution_count": 66,
     "metadata": {},
     "output_type": "execute_result"
    }
   ],
   "source": [
    "from sklearn.metrics import accuracy_score\n",
    "from sklearn.metrics import make_scorer\n",
    "parameters = {\n",
    "    'n_estimators':[10,50,100,150],\n",
    "    'max_depth':[3,5,8],\n",
    "    'max_features':[1,2,3,4]\n",
    "}\n",
    "\n",
    "scoring = {\"Accuracy\":make_scorer(accuracy_score)}\n",
    "\n",
    "randforest = RandomForestClassifier(random_state=42)\n",
    "\n",
    "\n",
    "# rands = RandomizedSearchCV(estimator=randforest,param_distributions=parameters,scoring = scoring,refit = \"Accuracy\",cv = 5, return_train_score=True,random_state=42)\n",
    "rands_noscale = GridSearchCV(estimator=randforest,param_grid=parameters,scoring=scoring,refit = \"Accuracy\",cv = 5,return_train_score=True,verbose=1)\n",
    "\n",
    "rands_noscale.fit(df_train_plain_noscale.to_numpy(),df_labels_plain_noscale.to_numpy().reshape(-1,))"
   ]
  },
  {
   "cell_type": "code",
   "execution_count": 67,
   "metadata": {},
   "outputs": [
    {
     "data": {
      "text/plain": [
       "{'max_depth': 8, 'max_features': 4, 'n_estimators': 100}"
      ]
     },
     "execution_count": 67,
     "metadata": {},
     "output_type": "execute_result"
    }
   ],
   "source": [
    "rands_noscale.best_params_"
   ]
  },
  {
   "cell_type": "markdown",
   "metadata": {},
   "source": [
    "Submission for Random forest with Non Scaled Data"
   ]
  },
  {
   "cell_type": "code",
   "execution_count": 68,
   "metadata": {},
   "outputs": [],
   "source": [
    "y_test_pred = rands.best_estimator_.predict(df_test_plain.to_numpy())\n",
    "df_data = {'id':list(range(y_test_pred.shape[0])),'label':y_test_pred.tolist()}\n",
    "pd.DataFrame(df_data).to_csv(\"Submission.csv\")"
   ]
  },
  {
   "cell_type": "markdown",
   "metadata": {},
   "source": [
    "Contains oversampling and no scaling. Achieves score of 0.96551(Submission 3)"
   ]
  },
  {
   "cell_type": "markdown",
   "metadata": {},
   "source": [
    "Incorporate Feature Engineering"
   ]
  },
  {
   "cell_type": "markdown",
   "metadata": {},
   "source": [
    "Random Forest trained with Feature Engineering"
   ]
  },
  {
   "cell_type": "code",
   "execution_count": 70,
   "metadata": {},
   "outputs": [],
   "source": [
    "preprocess_training = preprocess_data(filepath=str(Path(Path.cwd()/\"Data\"/\"train.csv\").resolve()))\n",
    "df_engineered = preprocess_training.read_df(process_complete = True,feature_eng=True)\n",
    "df_train_engineered = df_engineered[[i for i in df_engineered.columns.tolist() if i not in [\"label\"]]]\n",
    "df_labels_engineered = df_engineered[[i for i in df_engineered.columns.tolist() if i in [\"label\"]]]"
   ]
  },
  {
   "cell_type": "code",
   "execution_count": 71,
   "metadata": {},
   "outputs": [
    {
     "name": "stdout",
     "output_type": "stream",
     "text": [
      "Fitting 5 folds for each of 36 candidates, totalling 180 fits\n"
     ]
    },
    {
     "data": {
      "text/plain": [
       "GridSearchCV(cv=5, estimator=RandomForestClassifier(random_state=42),\n",
       "             param_grid={'max_depth': [3, 5, 8], 'max_features': [2, 3, 4],\n",
       "                         'n_estimators': [10, 50, 100, 150]},\n",
       "             refit='Accuracy', return_train_score=True,\n",
       "             scoring={'Accuracy': make_scorer(accuracy_score)}, verbose=1)"
      ]
     },
     "execution_count": 71,
     "metadata": {},
     "output_type": "execute_result"
    }
   ],
   "source": [
    "from sklearn.metrics import accuracy_score\n",
    "from sklearn.metrics import make_scorer\n",
    "parameters = {\n",
    "    'n_estimators':[10,50,100,150],\n",
    "    'max_depth':[3,5,8],\n",
    "    'max_features':[2,3,4]\n",
    "}\n",
    "\n",
    "scoring = {\"Accuracy\":make_scorer(accuracy_score)}\n",
    "\n",
    "randforest = RandomForestClassifier(random_state=42)\n",
    "\n",
    "\n",
    "# rands = RandomizedSearchCV(estimator=randforest,param_distributions=parameters,scoring = scoring,refit = \"Accuracy\",cv = 5, return_train_score=True,random_state=42)\n",
    "rands_eng = GridSearchCV(estimator=randforest,param_grid=parameters,scoring=scoring,refit = \"Accuracy\",cv = 5,return_train_score=True,verbose=1)\n",
    "\n",
    "rands_eng.fit(df_train_engineered.to_numpy(),df_labels_engineered.to_numpy().reshape(-1,))"
   ]
  },
  {
   "cell_type": "markdown",
   "metadata": {},
   "source": [
    "Submission : Random Forest with Feature Engineering"
   ]
  },
  {
   "cell_type": "code",
   "execution_count": 72,
   "metadata": {},
   "outputs": [],
   "source": [
    "y_test_pred = rands_eng.best_estimator_.predict(df_test_plain.to_numpy())\n",
    "df_data = {'id':list(range(y_test_pred.shape[0])),'label':y_test_pred.tolist()}\n",
    "pd.DataFrame(df_data).to_csv(\"Submission.csv\")"
   ]
  },
  {
   "cell_type": "markdown",
   "metadata": {},
   "source": [
    "Contains feature engineering and scaling. Achieves score of 0.82758(Submission 3)"
   ]
  },
  {
   "cell_type": "markdown",
   "metadata": {},
   "source": [
    "Conclusion\n",
    "\n",
    "- Extrapolatory Data Analysis was done to identify Features with the highest separation potential\n",
    "- One way Anova Tests and Chi Square tests were used to statistically confirm judgement\n",
    "- Feature Engineering was carried out\n",
    "- Models were built using random forests and neural networks\n",
    "- The best performing models were found to be that without Feature Engineering\n",
    "- Random forests performed better than neural networks"
   ]
  },
  {
   "cell_type": "code",
   "execution_count": null,
   "metadata": {},
   "outputs": [],
   "source": []
  }
 ],
 "metadata": {
  "interpreter": {
   "hash": "f04f19c809d9fd2a23489b3a20ba1768a3ce2a0f10653349b314d6a65064f27b"
  },
  "kernelspec": {
   "display_name": "Python 3.8.8 ('Predicting_Pneumonia': venv)",
   "language": "python",
   "name": "python3"
  },
  "language_info": {
   "codemirror_mode": {
    "name": "ipython",
    "version": 3
   },
   "file_extension": ".py",
   "mimetype": "text/x-python",
   "name": "python",
   "nbconvert_exporter": "python",
   "pygments_lexer": "ipython3",
   "version": "3.10.2"
  },
  "orig_nbformat": 4
 },
 "nbformat": 4,
 "nbformat_minor": 2
}
